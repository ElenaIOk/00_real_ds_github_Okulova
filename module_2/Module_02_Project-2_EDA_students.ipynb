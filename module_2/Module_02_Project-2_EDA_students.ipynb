{
 "cells": [
  {
   "cell_type": "code",
   "execution_count": 149,
   "metadata": {},
   "outputs": [
    {
     "data": {
      "text/html": [
       "<div>\n",
       "<style scoped>\n",
       "    .dataframe tbody tr th:only-of-type {\n",
       "        vertical-align: middle;\n",
       "    }\n",
       "\n",
       "    .dataframe tbody tr th {\n",
       "        vertical-align: top;\n",
       "    }\n",
       "\n",
       "    .dataframe thead th {\n",
       "        text-align: right;\n",
       "    }\n",
       "</style>\n",
       "<table border=\"1\" class=\"dataframe\">\n",
       "  <thead>\n",
       "    <tr style=\"text-align: right;\">\n",
       "      <th></th>\n",
       "      <th>school</th>\n",
       "      <th>sex</th>\n",
       "      <th>age</th>\n",
       "      <th>address</th>\n",
       "      <th>famsize</th>\n",
       "      <th>Pstatus</th>\n",
       "      <th>Medu</th>\n",
       "      <th>Fedu</th>\n",
       "      <th>Mjob</th>\n",
       "      <th>Fjob</th>\n",
       "      <th>reason</th>\n",
       "      <th>guardian</th>\n",
       "      <th>traveltime</th>\n",
       "      <th>studytime</th>\n",
       "      <th>failures</th>\n",
       "      <th>schoolsup</th>\n",
       "      <th>famsup</th>\n",
       "      <th>paid</th>\n",
       "      <th>activities</th>\n",
       "      <th>nursery</th>\n",
       "      <th>studytime, granular</th>\n",
       "      <th>higher</th>\n",
       "      <th>internet</th>\n",
       "      <th>romantic</th>\n",
       "      <th>famrel</th>\n",
       "      <th>freetime</th>\n",
       "      <th>goout</th>\n",
       "      <th>health</th>\n",
       "      <th>absences</th>\n",
       "      <th>score</th>\n",
       "    </tr>\n",
       "  </thead>\n",
       "  <tbody>\n",
       "    <tr>\n",
       "      <th>0</th>\n",
       "      <td>GP</td>\n",
       "      <td>F</td>\n",
       "      <td>18</td>\n",
       "      <td>U</td>\n",
       "      <td>NaN</td>\n",
       "      <td>A</td>\n",
       "      <td>4.0</td>\n",
       "      <td>4.0</td>\n",
       "      <td>at_home</td>\n",
       "      <td>teacher</td>\n",
       "      <td>course</td>\n",
       "      <td>mother</td>\n",
       "      <td>2.0</td>\n",
       "      <td>2.0</td>\n",
       "      <td>0.0</td>\n",
       "      <td>yes</td>\n",
       "      <td>no</td>\n",
       "      <td>no</td>\n",
       "      <td>no</td>\n",
       "      <td>yes</td>\n",
       "      <td>-6.0</td>\n",
       "      <td>yes</td>\n",
       "      <td>NaN</td>\n",
       "      <td>no</td>\n",
       "      <td>4.0</td>\n",
       "      <td>3.0</td>\n",
       "      <td>4.0</td>\n",
       "      <td>3.0</td>\n",
       "      <td>6.0</td>\n",
       "      <td>30.0</td>\n",
       "    </tr>\n",
       "    <tr>\n",
       "      <th>1</th>\n",
       "      <td>GP</td>\n",
       "      <td>F</td>\n",
       "      <td>17</td>\n",
       "      <td>U</td>\n",
       "      <td>GT3</td>\n",
       "      <td>NaN</td>\n",
       "      <td>1.0</td>\n",
       "      <td>1.0</td>\n",
       "      <td>at_home</td>\n",
       "      <td>other</td>\n",
       "      <td>course</td>\n",
       "      <td>father</td>\n",
       "      <td>1.0</td>\n",
       "      <td>2.0</td>\n",
       "      <td>0.0</td>\n",
       "      <td>no</td>\n",
       "      <td>yes</td>\n",
       "      <td>no</td>\n",
       "      <td>no</td>\n",
       "      <td>no</td>\n",
       "      <td>-6.0</td>\n",
       "      <td>yes</td>\n",
       "      <td>yes</td>\n",
       "      <td>no</td>\n",
       "      <td>5.0</td>\n",
       "      <td>3.0</td>\n",
       "      <td>3.0</td>\n",
       "      <td>3.0</td>\n",
       "      <td>4.0</td>\n",
       "      <td>30.0</td>\n",
       "    </tr>\n",
       "    <tr>\n",
       "      <th>2</th>\n",
       "      <td>GP</td>\n",
       "      <td>F</td>\n",
       "      <td>15</td>\n",
       "      <td>U</td>\n",
       "      <td>LE3</td>\n",
       "      <td>T</td>\n",
       "      <td>1.0</td>\n",
       "      <td>1.0</td>\n",
       "      <td>at_home</td>\n",
       "      <td>other</td>\n",
       "      <td>other</td>\n",
       "      <td>mother</td>\n",
       "      <td>1.0</td>\n",
       "      <td>2.0</td>\n",
       "      <td>3.0</td>\n",
       "      <td>yes</td>\n",
       "      <td>no</td>\n",
       "      <td>NaN</td>\n",
       "      <td>no</td>\n",
       "      <td>yes</td>\n",
       "      <td>-6.0</td>\n",
       "      <td>yes</td>\n",
       "      <td>yes</td>\n",
       "      <td>NaN</td>\n",
       "      <td>4.0</td>\n",
       "      <td>3.0</td>\n",
       "      <td>2.0</td>\n",
       "      <td>3.0</td>\n",
       "      <td>10.0</td>\n",
       "      <td>50.0</td>\n",
       "    </tr>\n",
       "    <tr>\n",
       "      <th>3</th>\n",
       "      <td>GP</td>\n",
       "      <td>F</td>\n",
       "      <td>15</td>\n",
       "      <td>U</td>\n",
       "      <td>GT3</td>\n",
       "      <td>T</td>\n",
       "      <td>4.0</td>\n",
       "      <td>2.0</td>\n",
       "      <td>health</td>\n",
       "      <td>NaN</td>\n",
       "      <td>home</td>\n",
       "      <td>mother</td>\n",
       "      <td>1.0</td>\n",
       "      <td>3.0</td>\n",
       "      <td>0.0</td>\n",
       "      <td>no</td>\n",
       "      <td>yes</td>\n",
       "      <td>yes</td>\n",
       "      <td>yes</td>\n",
       "      <td>yes</td>\n",
       "      <td>-9.0</td>\n",
       "      <td>yes</td>\n",
       "      <td>yes</td>\n",
       "      <td>yes</td>\n",
       "      <td>3.0</td>\n",
       "      <td>2.0</td>\n",
       "      <td>2.0</td>\n",
       "      <td>5.0</td>\n",
       "      <td>2.0</td>\n",
       "      <td>75.0</td>\n",
       "    </tr>\n",
       "    <tr>\n",
       "      <th>4</th>\n",
       "      <td>GP</td>\n",
       "      <td>F</td>\n",
       "      <td>16</td>\n",
       "      <td>U</td>\n",
       "      <td>GT3</td>\n",
       "      <td>T</td>\n",
       "      <td>3.0</td>\n",
       "      <td>3.0</td>\n",
       "      <td>other</td>\n",
       "      <td>other</td>\n",
       "      <td>home</td>\n",
       "      <td>father</td>\n",
       "      <td>1.0</td>\n",
       "      <td>2.0</td>\n",
       "      <td>0.0</td>\n",
       "      <td>no</td>\n",
       "      <td>yes</td>\n",
       "      <td>yes</td>\n",
       "      <td>no</td>\n",
       "      <td>yes</td>\n",
       "      <td>-6.0</td>\n",
       "      <td>yes</td>\n",
       "      <td>no</td>\n",
       "      <td>no</td>\n",
       "      <td>4.0</td>\n",
       "      <td>3.0</td>\n",
       "      <td>2.0</td>\n",
       "      <td>5.0</td>\n",
       "      <td>4.0</td>\n",
       "      <td>50.0</td>\n",
       "    </tr>\n",
       "    <tr>\n",
       "      <th>5</th>\n",
       "      <td>GP</td>\n",
       "      <td>M</td>\n",
       "      <td>16</td>\n",
       "      <td>U</td>\n",
       "      <td>LE3</td>\n",
       "      <td>T</td>\n",
       "      <td>4.0</td>\n",
       "      <td>3.0</td>\n",
       "      <td>services</td>\n",
       "      <td>other</td>\n",
       "      <td>reputation</td>\n",
       "      <td>mother</td>\n",
       "      <td>1.0</td>\n",
       "      <td>2.0</td>\n",
       "      <td>0.0</td>\n",
       "      <td>no</td>\n",
       "      <td>yes</td>\n",
       "      <td>yes</td>\n",
       "      <td>yes</td>\n",
       "      <td>yes</td>\n",
       "      <td>-6.0</td>\n",
       "      <td>yes</td>\n",
       "      <td>yes</td>\n",
       "      <td>no</td>\n",
       "      <td>5.0</td>\n",
       "      <td>4.0</td>\n",
       "      <td>2.0</td>\n",
       "      <td>5.0</td>\n",
       "      <td>10.0</td>\n",
       "      <td>75.0</td>\n",
       "    </tr>\n",
       "    <tr>\n",
       "      <th>6</th>\n",
       "      <td>GP</td>\n",
       "      <td>M</td>\n",
       "      <td>16</td>\n",
       "      <td>NaN</td>\n",
       "      <td>LE3</td>\n",
       "      <td>T</td>\n",
       "      <td>2.0</td>\n",
       "      <td>2.0</td>\n",
       "      <td>other</td>\n",
       "      <td>other</td>\n",
       "      <td>home</td>\n",
       "      <td>mother</td>\n",
       "      <td>1.0</td>\n",
       "      <td>2.0</td>\n",
       "      <td>0.0</td>\n",
       "      <td>no</td>\n",
       "      <td>no</td>\n",
       "      <td>no</td>\n",
       "      <td>no</td>\n",
       "      <td>yes</td>\n",
       "      <td>-6.0</td>\n",
       "      <td>yes</td>\n",
       "      <td>yes</td>\n",
       "      <td>no</td>\n",
       "      <td>4.0</td>\n",
       "      <td>4.0</td>\n",
       "      <td>4.0</td>\n",
       "      <td>3.0</td>\n",
       "      <td>0.0</td>\n",
       "      <td>55.0</td>\n",
       "    </tr>\n",
       "    <tr>\n",
       "      <th>7</th>\n",
       "      <td>GP</td>\n",
       "      <td>F</td>\n",
       "      <td>17</td>\n",
       "      <td>U</td>\n",
       "      <td>GT3</td>\n",
       "      <td>A</td>\n",
       "      <td>4.0</td>\n",
       "      <td>4.0</td>\n",
       "      <td>other</td>\n",
       "      <td>teacher</td>\n",
       "      <td>home</td>\n",
       "      <td>mother</td>\n",
       "      <td>2.0</td>\n",
       "      <td>2.0</td>\n",
       "      <td>0.0</td>\n",
       "      <td>yes</td>\n",
       "      <td>yes</td>\n",
       "      <td>no</td>\n",
       "      <td>no</td>\n",
       "      <td>yes</td>\n",
       "      <td>-6.0</td>\n",
       "      <td>yes</td>\n",
       "      <td>no</td>\n",
       "      <td>no</td>\n",
       "      <td>4.0</td>\n",
       "      <td>1.0</td>\n",
       "      <td>4.0</td>\n",
       "      <td>1.0</td>\n",
       "      <td>6.0</td>\n",
       "      <td>30.0</td>\n",
       "    </tr>\n",
       "    <tr>\n",
       "      <th>8</th>\n",
       "      <td>GP</td>\n",
       "      <td>M</td>\n",
       "      <td>15</td>\n",
       "      <td>U</td>\n",
       "      <td>LE3</td>\n",
       "      <td>A</td>\n",
       "      <td>3.0</td>\n",
       "      <td>2.0</td>\n",
       "      <td>services</td>\n",
       "      <td>other</td>\n",
       "      <td>home</td>\n",
       "      <td>mother</td>\n",
       "      <td>1.0</td>\n",
       "      <td>2.0</td>\n",
       "      <td>0.0</td>\n",
       "      <td>no</td>\n",
       "      <td>yes</td>\n",
       "      <td>yes</td>\n",
       "      <td>no</td>\n",
       "      <td>yes</td>\n",
       "      <td>-6.0</td>\n",
       "      <td>yes</td>\n",
       "      <td>yes</td>\n",
       "      <td>no</td>\n",
       "      <td>NaN</td>\n",
       "      <td>2.0</td>\n",
       "      <td>2.0</td>\n",
       "      <td>1.0</td>\n",
       "      <td>0.0</td>\n",
       "      <td>95.0</td>\n",
       "    </tr>\n",
       "    <tr>\n",
       "      <th>9</th>\n",
       "      <td>GP</td>\n",
       "      <td>M</td>\n",
       "      <td>15</td>\n",
       "      <td>U</td>\n",
       "      <td>NaN</td>\n",
       "      <td>NaN</td>\n",
       "      <td>3.0</td>\n",
       "      <td>4.0</td>\n",
       "      <td>other</td>\n",
       "      <td>other</td>\n",
       "      <td>home</td>\n",
       "      <td>mother</td>\n",
       "      <td>1.0</td>\n",
       "      <td>2.0</td>\n",
       "      <td>0.0</td>\n",
       "      <td>no</td>\n",
       "      <td>yes</td>\n",
       "      <td>yes</td>\n",
       "      <td>yes</td>\n",
       "      <td>yes</td>\n",
       "      <td>-6.0</td>\n",
       "      <td>yes</td>\n",
       "      <td>yes</td>\n",
       "      <td>no</td>\n",
       "      <td>5.0</td>\n",
       "      <td>5.0</td>\n",
       "      <td>1.0</td>\n",
       "      <td>5.0</td>\n",
       "      <td>0.0</td>\n",
       "      <td>75.0</td>\n",
       "    </tr>\n",
       "  </tbody>\n",
       "</table>\n",
       "</div>"
      ],
      "text/plain": [
       "  school sex  age address famsize Pstatus  Medu  Fedu      Mjob     Fjob  \\\n",
       "0     GP   F   18       U     NaN       A   4.0   4.0   at_home  teacher   \n",
       "1     GP   F   17       U     GT3     NaN   1.0   1.0   at_home    other   \n",
       "2     GP   F   15       U     LE3       T   1.0   1.0   at_home    other   \n",
       "3     GP   F   15       U     GT3       T   4.0   2.0    health      NaN   \n",
       "4     GP   F   16       U     GT3       T   3.0   3.0     other    other   \n",
       "5     GP   M   16       U     LE3       T   4.0   3.0  services    other   \n",
       "6     GP   M   16     NaN     LE3       T   2.0   2.0     other    other   \n",
       "7     GP   F   17       U     GT3       A   4.0   4.0     other  teacher   \n",
       "8     GP   M   15       U     LE3       A   3.0   2.0  services    other   \n",
       "9     GP   M   15       U     NaN     NaN   3.0   4.0     other    other   \n",
       "\n",
       "       reason guardian  traveltime  studytime  failures schoolsup famsup paid  \\\n",
       "0      course   mother         2.0        2.0       0.0       yes     no   no   \n",
       "1      course   father         1.0        2.0       0.0        no    yes   no   \n",
       "2       other   mother         1.0        2.0       3.0       yes     no  NaN   \n",
       "3        home   mother         1.0        3.0       0.0        no    yes  yes   \n",
       "4        home   father         1.0        2.0       0.0        no    yes  yes   \n",
       "5  reputation   mother         1.0        2.0       0.0        no    yes  yes   \n",
       "6        home   mother         1.0        2.0       0.0        no     no   no   \n",
       "7        home   mother         2.0        2.0       0.0       yes    yes   no   \n",
       "8        home   mother         1.0        2.0       0.0        no    yes  yes   \n",
       "9        home   mother         1.0        2.0       0.0        no    yes  yes   \n",
       "\n",
       "  activities nursery  studytime, granular higher internet romantic  famrel  \\\n",
       "0         no     yes                 -6.0    yes      NaN       no     4.0   \n",
       "1         no      no                 -6.0    yes      yes       no     5.0   \n",
       "2         no     yes                 -6.0    yes      yes      NaN     4.0   \n",
       "3        yes     yes                 -9.0    yes      yes      yes     3.0   \n",
       "4         no     yes                 -6.0    yes       no       no     4.0   \n",
       "5        yes     yes                 -6.0    yes      yes       no     5.0   \n",
       "6         no     yes                 -6.0    yes      yes       no     4.0   \n",
       "7         no     yes                 -6.0    yes       no       no     4.0   \n",
       "8         no     yes                 -6.0    yes      yes       no     NaN   \n",
       "9        yes     yes                 -6.0    yes      yes       no     5.0   \n",
       "\n",
       "   freetime  goout  health  absences  score  \n",
       "0       3.0    4.0     3.0       6.0   30.0  \n",
       "1       3.0    3.0     3.0       4.0   30.0  \n",
       "2       3.0    2.0     3.0      10.0   50.0  \n",
       "3       2.0    2.0     5.0       2.0   75.0  \n",
       "4       3.0    2.0     5.0       4.0   50.0  \n",
       "5       4.0    2.0     5.0      10.0   75.0  \n",
       "6       4.0    4.0     3.0       0.0   55.0  \n",
       "7       1.0    4.0     1.0       6.0   30.0  \n",
       "8       2.0    2.0     1.0       0.0   95.0  \n",
       "9       5.0    1.0     5.0       0.0   75.0  "
      ]
     },
     "metadata": {},
     "output_type": "display_data"
    },
    {
     "name": "stdout",
     "output_type": "stream",
     "text": [
      "<class 'pandas.core.frame.DataFrame'>\n",
      "RangeIndex: 395 entries, 0 to 394\n",
      "Data columns (total 30 columns):\n",
      " #   Column               Non-Null Count  Dtype  \n",
      "---  ------               --------------  -----  \n",
      " 0   school               395 non-null    object \n",
      " 1   sex                  395 non-null    object \n",
      " 2   age                  395 non-null    int64  \n",
      " 3   address              378 non-null    object \n",
      " 4   famsize              368 non-null    object \n",
      " 5   Pstatus              350 non-null    object \n",
      " 6   Medu                 392 non-null    float64\n",
      " 7   Fedu                 371 non-null    float64\n",
      " 8   Mjob                 376 non-null    object \n",
      " 9   Fjob                 359 non-null    object \n",
      " 10  reason               378 non-null    object \n",
      " 11  guardian             364 non-null    object \n",
      " 12  traveltime           367 non-null    float64\n",
      " 13  studytime            388 non-null    float64\n",
      " 14  failures             373 non-null    float64\n",
      " 15  schoolsup            386 non-null    object \n",
      " 16  famsup               356 non-null    object \n",
      " 17  paid                 355 non-null    object \n",
      " 18  activities           381 non-null    object \n",
      " 19  nursery              379 non-null    object \n",
      " 20  studytime, granular  388 non-null    float64\n",
      " 21  higher               375 non-null    object \n",
      " 22  internet             361 non-null    object \n",
      " 23  romantic             364 non-null    object \n",
      " 24  famrel               368 non-null    float64\n",
      " 25  freetime             384 non-null    float64\n",
      " 26  goout                387 non-null    float64\n",
      " 27  health               380 non-null    float64\n",
      " 28  absences             383 non-null    float64\n",
      " 29  score                389 non-null    float64\n",
      "dtypes: float64(12), int64(1), object(17)\n",
      "memory usage: 92.7+ KB\n"
     ]
    }
   ],
   "source": [
    "import pandas as pd\n",
    "import matplotlib.pyplot as plt\n",
    "import seaborn as sns\n",
    "import numpy as np\n",
    "from itertools import combinations\n",
    "from scipy.stats import ttest_ind\n",
    "import statsmodels.api as sm\n",
    "import scipy.stats as sst\n",
    "\n",
    "\n",
    "stud = pd.read_csv('stud_math.csv')\n",
    "\n",
    "pd.set_option('display.max_rows', 50)  # показывать больше строк\n",
    "pd.set_option('display.max_columns', 50)  # показывать больше колонок\n",
    "\n",
    "display(stud.head(10))\n",
    "stud.info()"
   ]
  },
  {
   "cell_type": "markdown",
   "metadata": {},
   "source": [
    "Итак, у нас 30 колонок, из которых 3 числовые: age, score, absences. Остальные, согласно описанию из задания - категориальные. Целевая переменная - score баллы по госэкзамену по математике"
   ]
  },
  {
   "cell_type": "code",
   "execution_count": 150,
   "metadata": {},
   "outputs": [
    {
     "data": {
      "text/plain": [
       "school                  0\n",
       "sex                     0\n",
       "age                     0\n",
       "address                17\n",
       "famsize                27\n",
       "Pstatus                45\n",
       "Medu                    3\n",
       "Fedu                   24\n",
       "Mjob                   19\n",
       "Fjob                   36\n",
       "reason                 17\n",
       "guardian               31\n",
       "traveltime             28\n",
       "studytime               7\n",
       "failures               22\n",
       "schoolsup               9\n",
       "famsup                 39\n",
       "paid                   40\n",
       "activities             14\n",
       "nursery                16\n",
       "studytime, granular     7\n",
       "higher                 20\n",
       "internet               34\n",
       "romantic               31\n",
       "famrel                 27\n",
       "freetime               11\n",
       "goout                   8\n",
       "health                 15\n",
       "absences               12\n",
       "score                   6\n",
       "dtype: int64"
      ]
     },
     "execution_count": 150,
     "metadata": {},
     "output_type": "execute_result"
    }
   ],
   "source": [
    "stud.isnull().sum() # посмотрим, в каких колонках пустые значения"
   ]
  },
  {
   "cell_type": "markdown",
   "metadata": {},
   "source": [
    "Во всех колонках, за исключением трех имеются пустые значения."
   ]
  },
  {
   "cell_type": "code",
   "execution_count": 151,
   "metadata": {},
   "outputs": [
    {
     "name": "stdout",
     "output_type": "stream",
     "text": [
      "В датасете 27 столбцов с пустыми значениями\n"
     ]
    }
   ],
   "source": [
    "print(f'В датасете {stud.isnull().any().sum()} столбцов с пустыми значениями')"
   ]
  },
  {
   "cell_type": "code",
   "execution_count": 152,
   "metadata": {},
   "outputs": [],
   "source": [
    "'''Прежде чем приступить к заполнению пустых значений, нужно, \n",
    "во-первых, понять, что кроме пустых, в столбцах не содержится других недопустимых значений,\n",
    "во-вторых, понять, чем, собственно заполнять.'''\n",
    "\n",
    "'''создадим допустимые диапазоны значений для колонок'''\n",
    "\n",
    "stud_ranges = {\n",
    "    stud.columns[1] : ['F','M'],\n",
    "    stud.columns[2] : range(15,23),\n",
    "    stud.columns[3] : ['U','R'],\n",
    "    stud.columns[4] : ['LE3','GT3'],\n",
    "    stud.columns[5] : ['T','A'],\n",
    "    stud.columns[6] : range(0,5),\n",
    "    stud.columns[7] : range(0,5),\n",
    "    stud.columns[8] : ['teacher','health','services','at_home','other'],\n",
    "    stud.columns[9] : ['teacher','health','services','at_home','other'],\n",
    "    stud.columns[10] : ['home','reputation','course','other'],\n",
    "    stud.columns[11] : ['mother','father','other'],\n",
    "    stud.columns[12] : range(1,5),\n",
    "    stud.columns[13] : range(1,5),\n",
    "    stud.columns[14] : range(0,4),\n",
    "    stud.columns[15] : ['yes','no'],\n",
    "    stud.columns[16] : ['yes','no'],\n",
    "    stud.columns[17] : ['yes','no'],\n",
    "    stud.columns[18] : ['yes','no'],\n",
    "    stud.columns[19] : ['yes','no'],\n",
    "    stud.columns[20] : ['yes','no'],\n",
    "    stud.columns[21] : ['yes','no'],\n",
    "    stud.columns[22] : ['yes','no'],\n",
    "    stud.columns[23] : ['yes','no'],\n",
    "    stud.columns[24] : range(1,6),\n",
    "    stud.columns[25] : range(1,6),\n",
    "    stud.columns[26] : range(1,6),\n",
    "    stud.columns[27] : range(1,6)\n",
    "}"
   ]
  },
  {
   "cell_type": "code",
   "execution_count": 153,
   "metadata": {},
   "outputs": [],
   "source": [
    "def col_isinrange(df, col, rang):   # функция, для определения значений столбца col датасета df, \n",
    "                                    # выпадающих за рамки допустимых диапозонов range\n",
    "    err_val = [(x, len(df.loc[~df[col].apply(lambda x: (x in rang) or pd.isnull(x) ), col])) # список пар из некор. значений и их количества \n",
    "                for x in df.loc[~df[col].apply(lambda x: (x in rang) or pd.isnull(x) ), col].unique()]\n",
    "    return err_val"
   ]
  },
  {
   "cell_type": "code",
   "execution_count": 154,
   "metadata": {},
   "outputs": [
    {
     "name": "stdout",
     "output_type": "stream",
     "text": [
      "Столбцы с некорректными данными: \n",
      " {'Fedu': [(40.0, 1)], 'studytime, granular': [(-6.0, 388), (-9.0, 388), (-3.0, 388), (-12.0, 388)], 'famrel': [(-1.0, 1)]}\n"
     ]
    }
   ],
   "source": [
    "'''Теперь с помощью функции col_isinrange() протестируем датасет stud'''\n",
    "\n",
    "err_val_dict ={}\n",
    "\n",
    "for i in stud.columns[1:-2]:\n",
    "    err_val_i = col_isinrange(stud, i, stud_ranges[i])\n",
    " \n",
    "    if len(err_val_i) == 0:\n",
    "        continue\n",
    "    else:\n",
    "        err_val_dict[i] = err_val_i\n",
    "\n",
    "print('Столбцы с некорректными данными: \\n', err_val_dict)\n"
   ]
  },
  {
   "cell_type": "code",
   "execution_count": 155,
   "metadata": {},
   "outputs": [
    {
     "data": {
      "text/plain": [
       "-6.0     194\n",
       "-3.0     103\n",
       "-9.0      64\n",
       "-12.0     27\n",
       " NaN       7\n",
       "Name: studytime, granular, dtype: int64"
      ]
     },
     "execution_count": 155,
     "metadata": {},
     "output_type": "execute_result"
    }
   ],
   "source": [
    "'''Таким образом, мы выяснили, что 3 столбца датасета, содержат подозрительные значения. \n",
    "Обратим внимание на столбец studytime, granular.\n",
    "Изначально я решила, что в описании (или в датасете) есть неточность в названии тсолбца.\n",
    "Однако, вот значения studytime, granular'''\n",
    "stud['studytime, granular'].value_counts(dropna  = False)"
   ]
  },
  {
   "cell_type": "code",
   "execution_count": 156,
   "metadata": {},
   "outputs": [],
   "source": [
    "'''Таким образом, можно сделать вывод, что колонка studytime, granular попала  вдатасет по ошибке, удалим ее'''\n",
    "stud.drop(['studytime, granular'], inplace = True, axis = 1)\n"
   ]
  },
  {
   "cell_type": "code",
   "execution_count": 157,
   "metadata": {},
   "outputs": [],
   "source": [
    "'''Заменим некорректные значения в столбцах Fedu и famrel.\n",
    "Значение Fedu = 40 будем считать опечаткой и заменим на 4.\n",
    "Значение famrel заменим на минимальное, то есть 0'''\n",
    "\n",
    "stud.at[stud[stud.Fedu == 40].index[0],'Fedu'] = 4\n",
    "stud.at[stud[stud.famrel == -1].index[0],'famrel'] = 0"
   ]
  },
  {
   "cell_type": "code",
   "execution_count": 158,
   "metadata": {},
   "outputs": [
    {
     "name": "stdout",
     "output_type": "stream",
     "text": [
      "<class 'pandas.core.frame.DataFrame'>\n",
      "RangeIndex: 395 entries, 0 to 394\n",
      "Data columns (total 29 columns):\n",
      " #   Column      Non-Null Count  Dtype  \n",
      "---  ------      --------------  -----  \n",
      " 0   school      395 non-null    object \n",
      " 1   sex         395 non-null    object \n",
      " 2   age         395 non-null    int64  \n",
      " 3   address     378 non-null    object \n",
      " 4   famsize     368 non-null    object \n",
      " 5   Pstatus     350 non-null    object \n",
      " 6   Medu        392 non-null    float64\n",
      " 7   Fedu        371 non-null    float64\n",
      " 8   Mjob        376 non-null    object \n",
      " 9   Fjob        359 non-null    object \n",
      " 10  reason      378 non-null    object \n",
      " 11  guardian    364 non-null    object \n",
      " 12  traveltime  367 non-null    float64\n",
      " 13  studytime   388 non-null    float64\n",
      " 14  failures    373 non-null    float64\n",
      " 15  schoolsup   386 non-null    object \n",
      " 16  famsup      356 non-null    object \n",
      " 17  paid        355 non-null    object \n",
      " 18  activities  381 non-null    object \n",
      " 19  nursery     379 non-null    object \n",
      " 20  higher      375 non-null    object \n",
      " 21  internet    361 non-null    object \n",
      " 22  romantic    364 non-null    object \n",
      " 23  famrel      368 non-null    float64\n",
      " 24  freetime    384 non-null    float64\n",
      " 25  goout       387 non-null    float64\n",
      " 26  health      380 non-null    float64\n",
      " 27  absences    383 non-null    float64\n",
      " 28  score       389 non-null    float64\n",
      "dtypes: float64(11), int64(1), object(17)\n",
      "memory usage: 89.6+ KB\n"
     ]
    }
   ],
   "source": [
    "stud.info() # проверим, что столбец удален"
   ]
  },
  {
   "cell_type": "markdown",
   "metadata": {},
   "source": [
    "Определим функции:"
   ]
  },
  {
   "cell_type": "code",
   "execution_count": 159,
   "metadata": {},
   "outputs": [],
   "source": [
    "def df_filt(df, col, value): # функция, которая фильтрует df по критерию: столбец col = crit, возвращает DataFrame\n",
    "    return df[df[col] == value]\n",
    "\n",
    "\n",
    "def show_plots(df, col_num='score', size = 5):\n",
    "    '''\n",
    "      функция, которая рисует графики qq-plot, hist и boxplot для столбца col_num датасета df.\n",
    "      Необязательные аргументы: \n",
    "       col_num - столбец, распределение которого нужно проверить\n",
    "       size - размер рисунка                \n",
    "    '''\n",
    "    f = plt.figure()\n",
    "    f.clear()\n",
    "    plt.close(f)\n",
    "\n",
    "    fig, (ax1, ax2, ax3) = plt.subplots(1, 3, figsize = (3*size,size))\n",
    "\n",
    "    fig = sm.qqplot(df.dropna(subset = [col_num])[col_num], fit = True, line ='45', ax=ax1)\n",
    "    fig.suptitle('QQ-plot, histogram and boxplot for {0} '.format(col_num))\n",
    "        \n",
    "    ax2.hist(df.dropna(subset = [col_num])[col_num], histtype = 'bar', align = 'mid', rwidth = 0.8, color = 'green')\n",
    "    ax3.boxplot(df.dropna(subset = [col_num])[col_num], vert = False)  \n",
    "     \n",
    "    plt.show\n",
    "\n",
    "\n",
    "def score_filtered_isnorm(df, col, value, a = 0.05):  # возвращает truth если выборка нормальна\n",
    "    if len(df_filt(df,col,value).score) >= 20:  # проверка объема выборки на применимость метода normaltest\n",
    "        st, p = sst.normaltest(df_filt(df,col,value).score)\n",
    "        result = p > a\n",
    "    elif len(df_filt(df,col,value).score) >= 3: # в противном случае применяем тест Шапиро-Уилка, если n >= 3\n",
    "        st, p = sst.shapiro(df_filt(df,col,value).score)\n",
    "        result = p > a\n",
    "    else:\n",
    "        result = False\n",
    "    return result\n",
    "\n",
    "\n",
    "def n_isbig(df, col, value, n = 4): # функция определения, достаточен ли объем выборки из df, отфильтрованный по col = value\n",
    "    return len(df_filt(df,col,value)) > n\n",
    "\n",
    "\n",
    "def unfit_criterias(df, n = 4):  # функция проверки категориальных признаков на \n",
    "                                 # пригодность для оценки по критерию Стьюдента\n",
    "                                 # возвращает словарь вида \n",
    "                                 #   {\n",
    "                                 #    col : массив [     value, \n",
    "                                 #                       нормальна ли выборка (True/False), \n",
    "                                 #                       достаточный ли объем выборки(True/False), \n",
    "                                 #                       объем выборки\n",
    "                                 #                     ]\n",
    "                                 #   } для тех col и value, что для df[col == value].score - не выполняется критерий\n",
    "    unfit = {}\n",
    "    for i in df.drop(['age', 'score', 'absences'], axis = 1).columns:\n",
    "        jarr = np.empty(shape=[0, 4])\n",
    "        for j in df[i].unique():\n",
    "            if score_filtered_isnorm(df,i,j) and n_isbig(df,i,j,n):\n",
    "                continue\n",
    "            else:\n",
    "                jarr = np.append(jarr, [[j, score_filtered_isnorm(df,i,j),n_isbig(df,i,j,n), len(df_filt(df, i, j))]], axis=0)\n",
    "                unfit[i] = jarr\n",
    "    return unfit\n",
    "\n"
   ]
  },
  {
   "cell_type": "markdown",
   "metadata": {},
   "source": [
    "Проверим целевую переменную на нормальность."
   ]
  },
  {
   "cell_type": "code",
   "execution_count": 160,
   "metadata": {},
   "outputs": [
    {
     "data": {
      "image/png": "[encoded data removed]",
      "text/plain": [
       "<Figure size 1080x360 with 3 Axes>"
      ]
     },
     "metadata": {
      "needs_background": "light"
     },
     "output_type": "display_data"
    }
   ],
   "source": [
    "show_plots(stud)"
   ]
  },
  {
   "cell_type": "markdown",
   "metadata": {},
   "source": [
    "Мы видим, что столбец вцелом распределен приблизительно нормально. Однако значение score = 0 несколько \"портит\" выборку.\n",
    "Проверим score с помощью функции normaltest с нулями и без них:"
   ]
  },
  {
   "cell_type": "code",
   "execution_count": 161,
   "metadata": {},
   "outputs": [
    {
     "name": "stdout",
     "output_type": "stream",
     "text": [
      "pvalue с нулями: 1.208644222895489e-07\n",
      "pvalue без нулей: 0.051812401238085656\n"
     ]
    }
   ],
   "source": [
    "print('pvalue с нулями: {0}\\npvalue без нулей: {1}' \\\n",
    "      .format(sst.normaltest(stud[stud.score >=0].score).pvalue, sst.normaltest(stud[stud.score > 0].score).pvalue))"
   ]
  },
  {
   "cell_type": "markdown",
   "metadata": {},
   "source": [
    "Чтобы свести распределение score к приблизительно нормальному, разделим датасет на два по условию score > 0.\n",
    "Вполне логичным представляется, что 0 баллов получили те студенты, которые не пришли на экзамен или не сдали работы. \n",
    "В дальнейшем можно создать и изучить поведение нового категорийного признака: пришел студент на экзамен или нет (yes/no).\n",
    "Очевидно, для определения влияния на этот новый признак других столбцов, нужно применять гипотезу о распределение разности пропорций.\n"
   ]
  },
  {
   "cell_type": "code",
   "execution_count": 162,
   "metadata": {},
   "outputs": [
    {
     "name": "stdout",
     "output_type": "stream",
     "text": [
      "В score 6 пустых значений, их можно заполнить или исключить.\n",
      "Проверим, повлияет ли это на нормальность.\n"
     ]
    }
   ],
   "source": [
    "print('В score {} пустых значений, их можно заполнить или исключить.\\nПроверим, повлияет ли это на нормальность.'.format(stud.isnull().sum()['score']))"
   ]
  },
  {
   "cell_type": "code",
   "execution_count": 163,
   "metadata": {},
   "outputs": [
    {
     "name": "stdout",
     "output_type": "stream",
     "text": [
      "Медиана: 55.0\n",
      "Ср. значение: 52.26221079691517\n",
      "\n"
     ]
    }
   ],
   "source": [
    "print('Медиана: {1}\\nСр. значение: {0}\\n'.format(stud.score.mean(),stud.score.median()))"
   ]
  },
  {
   "cell_type": "markdown",
   "metadata": {},
   "source": [
    "Выбросов нет, в качестве среднего можно взять и медиану, и среднее значение. Заполним пропуски в score медианным значением."
   ]
  },
  {
   "cell_type": "code",
   "execution_count": 164,
   "metadata": {},
   "outputs": [
    {
     "name": "stdout",
     "output_type": "stream",
     "text": [
      "pvalue NaN удалены: 0.051812401238085656\n",
      "pvalue NaN заменены: 0.07151193218241954\n"
     ]
    }
   ],
   "source": [
    "median = stud.score.median()\n",
    "stud_tmp = stud.copy()\n",
    "stud_tmp['score'] = stud_tmp.score.apply(lambda x: median if pd.isnull(x) else x)\n",
    "print('pvalue NaN удалены: {0}\\npvalue NaN заменены: {1}' \\\n",
    "      .format(sst.normaltest(stud[stud.score > 0].score).pvalue, sst.normaltest(stud_tmp[stud_tmp.score > 0].score).pvalue))"
   ]
  },
  {
   "cell_type": "markdown",
   "metadata": {},
   "source": [
    "Мы видим, что замена пустых значений вместо их исключения сделала датасет \"еще более\" нормальным. \n",
    "Будем далее работать с датасетом с заполненными пустыми значениями в score"
   ]
  },
  {
   "cell_type": "code",
   "execution_count": 165,
   "metadata": {},
   "outputs": [],
   "source": [
    "nstud = stud_tmp[stud_tmp.score > 0].copy() # nstud датасет с приблизительно нормальным score"
   ]
  },
  {
   "cell_type": "code",
   "execution_count": 166,
   "metadata": {},
   "outputs": [
    {
     "data": {
      "image/png": "[encoded data removed]",
      "text/plain": [
       "<Figure size 1080x360 with 3 Axes>"
      ]
     },
     "metadata": {
      "needs_background": "light"
     },
     "output_type": "display_data"
    }
   ],
   "source": [
    "show_plots(nstud)"
   ]
  },
  {
   "cell_type": "code",
   "execution_count": 167,
   "metadata": {},
   "outputs": [
    {
     "data": {
      "image/png": "[encoded data removed]",
      "text/plain": [
       "<Figure size 1080x360 with 3 Axes>"
      ]
     },
     "metadata": {
      "needs_background": "light"
     },
     "output_type": "display_data"
    }
   ],
   "source": [
    "'''Посмотрим на столбец age'''\n",
    "show_plots(nstud, 'age')"
   ]
  },
  {
   "cell_type": "code",
   "execution_count": 168,
   "metadata": {},
   "outputs": [
    {
     "name": "stdout",
     "output_type": "stream",
     "text": [
      "pvalue =  0.0002544860961009096\n"
     ]
    }
   ],
   "source": [
    "print('pvalue = ', sst.normaltest(nstud.age).pvalue)"
   ]
  },
  {
   "cell_type": "markdown",
   "metadata": {},
   "source": [
    "Не смотря на то, что pvalue получился меньше 0.05, генеральная совокупность \"возраст студентов\", \n",
    "очевидно, распределена приблизительно нормально.\n",
    "\n",
    "Посмотрим на корреляцию между score и age."
   ]
  },
  {
   "cell_type": "code",
   "execution_count": 169,
   "metadata": {},
   "outputs": [
    {
     "data": {
      "text/plain": [
       "<matplotlib.axes._subplots.AxesSubplot at 0x16ecf6423c8>"
      ]
     },
     "execution_count": 169,
     "metadata": {},
     "output_type": "execute_result"
    },
    {
     "data": {
      "image/png": "[encoded data removed]",
      "text/plain": [
       "<Figure size 432x288 with 2 Axes>"
      ]
     },
     "metadata": {
      "needs_background": "light"
     },
     "output_type": "display_data"
    }
   ],
   "source": [
    "sns.heatmap(nstud.loc[:,['age','score']].corr(),annot = True, cmap = 'coolwarm')"
   ]
  },
  {
   "cell_type": "markdown",
   "metadata": {},
   "source": [
    "Наблюдается, незначительная отрицательная корреляция между возрастом и баллами. \n",
    "Можно предположить, что чем старше студент, тем сложнее задания. \n",
    "Либо же чем старше студент, тем больше вероятность наличия романтических отношений, \n",
    "что также может влиять на оценку."
   ]
  },
  {
   "cell_type": "markdown",
   "metadata": {},
   "source": [
    "Рассмотрим столбец absences."
   ]
  },
  {
   "cell_type": "code",
   "execution_count": 170,
   "metadata": {},
   "outputs": [
    {
     "data": {
      "image/png": "[encoded data removed]",
      "text/plain": [
       "<Figure size 1080x360 with 3 Axes>"
      ]
     },
     "metadata": {
      "needs_background": "light"
     },
     "output_type": "display_data"
    }
   ],
   "source": [
    "show_plots(nstud, 'absences')"
   ]
  },
  {
   "cell_type": "markdown",
   "metadata": {},
   "source": [
    "Столбец absences очень \"испорчен\" выбросами. Рассмотрим их."
   ]
  },
  {
   "cell_type": "code",
   "execution_count": 171,
   "metadata": {},
   "outputs": [
    {
     "name": "stdout",
     "output_type": "stream",
     "text": [
      "Границы выбросов: [0, 17.0] \n",
      "\n",
      "Количество значений датасета, правее верхней границы:  27\n"
     ]
    }
   ],
   "source": [
    "q1 = nstud.absences.quantile(0.25) # первый квантиль\n",
    "q2 = nstud.absences.quantile(0.5)  # медиана\n",
    "q3 = nstud.absences.quantile(0.75) # третий квантиль\n",
    "IQR = q3 - q1\n",
    "\n",
    "'''посчитаем, сколько значений правее q3 + 1.5*IQR'''\n",
    "print('Границы выбросов: [{l}, {r}] \\n'.format(l=0, r=q3 + 1.5*IQR))\n",
    "print('Количество значений датасета, правее верхней границы: ', len(nstud[nstud.absences > (q3 + 1.5*IQR)]))"
   ]
  },
  {
   "cell_type": "markdown",
   "metadata": {},
   "source": [
    "Удалить или заменить такое количество выборки без искажений нельзя. Посмотрим, ниже какого значения количество пропусков у 95% студентов"
   ]
  },
  {
   "cell_type": "code",
   "execution_count": 172,
   "metadata": {},
   "outputs": [
    {
     "data": {
      "text/plain": [
       "array([  0.,   1.,   2.,   3.,   4.,   5.,   6.,   7.,   8.,   9.,  10.,\n",
       "        11.,  12.,  13.,  14.,  15.,  16.,  17.,  18.,  19.,  20.,  21.,\n",
       "        22.,  23.,  24.,  25.,  26.,  28.,  30.,  38.,  40.,  54.,  56.,\n",
       "        75., 212., 385.,  nan])"
      ]
     },
     "execution_count": 172,
     "metadata": {},
     "output_type": "execute_result"
    }
   ],
   "source": [
    "np.sort(nstud.absences.unique()) # все значения пропусков"
   ]
  },
  {
   "cell_type": "code",
   "execution_count": 173,
   "metadata": {},
   "outputs": [
    {
     "name": "stdout",
     "output_type": "stream",
     "text": [
      "У 95% студентов пропусков меньше, чем 20.0 \n",
      "\n",
      "У 17 студентов пропусков больше этого значения\n"
     ]
    }
   ],
   "source": [
    "q95 = nstud['absences'].quantile(0.95)\n",
    "print('У 95% студентов пропусков меньше, чем {0} \\n'.format(round(q95)))\n",
    "print('У {0} студентов пропусков больше этого значения'.format(len(nstud[nstud.absences > q95])))\n"
   ]
  },
  {
   "cell_type": "markdown",
   "metadata": {},
   "source": [
    "Заменим данные: большие, чем квантиль 95% и пустые на медиану."
   ]
  },
  {
   "cell_type": "code",
   "execution_count": 174,
   "metadata": {},
   "outputs": [
    {
     "name": "stdout",
     "output_type": "stream",
     "text": [
      "Медиана absences : 4.0\n"
     ]
    }
   ],
   "source": [
    "median = nstud[nstud.absences < q95]['absences'].median()\n",
    "print('Медиана absences :', median)"
   ]
  },
  {
   "cell_type": "code",
   "execution_count": 175,
   "metadata": {},
   "outputs": [],
   "source": [
    "nstud['absences'] = nstud.absences.apply(lambda x: median if (pd.isnull(x) | (x > q95)) else x)"
   ]
  },
  {
   "cell_type": "code",
   "execution_count": 176,
   "metadata": {},
   "outputs": [
    {
     "data": {
      "image/png": "[encoded data removed]",
      "text/plain": [
       "<Figure size 1080x360 with 3 Axes>"
      ]
     },
     "metadata": {
      "needs_background": "light"
     },
     "output_type": "display_data"
    }
   ],
   "source": [
    "show_plots(nstud, 'absences')"
   ]
  },
  {
   "cell_type": "code",
   "execution_count": 177,
   "metadata": {},
   "outputs": [
    {
     "name": "stdout",
     "output_type": "stream",
     "text": [
      "pvalue =  2.7250288900795774e-14\n"
     ]
    }
   ],
   "source": [
    "print('pvalue = ', sst.normaltest(nstud.absences).pvalue)"
   ]
  },
  {
   "cell_type": "markdown",
   "metadata": {},
   "source": [
    "Можно предположить, что выборка относительно absences не совсем качественная, поэтому, хоть генеральная совокупность приблизительно нормальная, \n",
    "тем не менее pvalue < 0.05"
   ]
  },
  {
   "cell_type": "code",
   "execution_count": 178,
   "metadata": {},
   "outputs": [
    {
     "data": {
      "text/plain": [
       "<matplotlib.axes._subplots.AxesSubplot at 0x16ecfa6dd08>"
      ]
     },
     "execution_count": 178,
     "metadata": {},
     "output_type": "execute_result"
    },
    {
     "data": {
      "image/png": "[encoded data removed]",
      "text/plain": [
       "<Figure size 432x288 with 2 Axes>"
      ]
     },
     "metadata": {
      "needs_background": "light"
     },
     "output_type": "display_data"
    }
   ],
   "source": [
    "sns.heatmap(nstud.loc[:,['absences','score']].corr(),annot = True, cmap = 'coolwarm')"
   ]
  },
  {
   "cell_type": "markdown",
   "metadata": {},
   "source": [
    "Наблюдается отрицательная корреляция между score и absences: чем больше пропусков тем ниже балл на экзамене."
   ]
  },
  {
   "cell_type": "markdown",
   "metadata": {},
   "source": [
    "Посмотирм на корреляцию между тремя числовыми столбцами (age, score, absences)"
   ]
  },
  {
   "cell_type": "code",
   "execution_count": 179,
   "metadata": {},
   "outputs": [
    {
     "data": {
      "text/plain": [
       "<matplotlib.axes._subplots.AxesSubplot at 0x16ecdf66388>"
      ]
     },
     "execution_count": 179,
     "metadata": {},
     "output_type": "execute_result"
    },
    {
     "data": {
      "image/png": "[encoded data removed]",
      "text/plain": [
       "<Figure size 432x288 with 2 Axes>"
      ]
     },
     "metadata": {
      "needs_background": "light"
     },
     "output_type": "display_data"
    }
   ],
   "source": [
    "sns.heatmap(nstud.loc[:,['age','absences','score']].corr(),annot = True, cmap = 'Spectral')"
   ]
  },
  {
   "cell_type": "markdown",
   "metadata": {},
   "source": [
    "Наблюдается отрицательная корреляция между возрастом и баллами. Можно предположить, что чем старше студент, тем сложнее задания. Либо же чем старше студент, тем больше вероятность наличия романтических отношений, что также может влиять на оценку.\n",
    "\n",
    "Наблюдается отрицательная корреляция между score и absences: чем больше пропусков тем ниже балл на экзамене.\n",
    "\n",
    "Наблюдается положительная корреляция между age и absences. Можно предположить, что чем старше студент, то тем больше пропусков (например, из-за романтических отношений)."
   ]
  },
  {
   "cell_type": "markdown",
   "metadata": {},
   "source": [
    "Проанализируем пару признаков: address и traveltime. Сравним значения address и traveltime, чтобы попытаться заполнить пустые значения.\n",
    "\n",
    "Можно предположить, что время до школы зависит от адреса, поэтому пропуски в этих колонках можно взаимным образом дополнить.\n"
   ]
  },
  {
   "cell_type": "code",
   "execution_count": 180,
   "metadata": {},
   "outputs": [
    {
     "name": "stdout",
     "output_type": "stream",
     "text": [
      "Для address = R значения traveltime\n",
      "1.0    32\n",
      "2.0    22\n",
      "3.0    10\n",
      "4.0     4\n",
      "Name: traveltime, dtype: int64\n",
      "Для address = U значения traveltime\n",
      "1.0    183\n",
      "2.0     61\n",
      "3.0      7\n",
      "4.0      3\n",
      "Name: traveltime, dtype: int64\n"
     ]
    }
   ],
   "source": [
    "print('Для address = R значения traveltime\\n{0}\\nДля address = U значения traveltime\\n{1}'.\n",
    "    format(nstud.loc[nstud.address =='R','traveltime'].value_counts(),nstud.loc[nstud.address =='U','traveltime'].value_counts())\n",
    ")"
   ]
  },
  {
   "cell_type": "markdown",
   "metadata": {},
   "source": [
    "Заменим пустые значения address на U, если соответствующие значения traveltime = 1 и 2 и на R для traveltime = 3 и 4."
   ]
  },
  {
   "cell_type": "code",
   "execution_count": 181,
   "metadata": {},
   "outputs": [],
   "source": [
    "s = nstud[(nstud.traveltime.apply(lambda x : x in (1,2))) & (nstud.address.apply(lambda x : pd.isnull(x)))]['address']\n",
    "for i in s.index:\n",
    "    nstud.at[i,'address'] = 'U'"
   ]
  },
  {
   "cell_type": "code",
   "execution_count": 182,
   "metadata": {},
   "outputs": [],
   "source": [
    "s = nstud[(nstud.traveltime.apply(lambda x : x in (3,4))) & (nstud.address.apply(lambda x : pd.isnull(x)))]['address']\n",
    "for i in s.index:\n",
    "    nstud.at[i,'address'] = 'R'"
   ]
  },
  {
   "cell_type": "code",
   "execution_count": 183,
   "metadata": {},
   "outputs": [],
   "source": [
    "'''Заменим пустые значения traveltime на 1.0, как самое частое значение'''\n",
    "nstud['traveltime'] = nstud.traveltime.apply(lambda x : 1.0 if pd.isnull(x) else x)\n",
    "\n",
    "'''Заменим пустые значения address на U, как самое частое значение'''\n",
    "nstud['address'] = nstud.address.apply(lambda x : 'U' if pd.isnull(x) else x)"
   ]
  },
  {
   "cell_type": "markdown",
   "metadata": {},
   "source": [
    "Займемся остальными категориальными признаками."
   ]
  },
  {
   "cell_type": "code",
   "execution_count": 184,
   "metadata": {},
   "outputs": [],
   "source": [
    "'''Определим функцию заполнения пустых значений\n",
    "    df - датасет, col - столбец, agg - среднее значение, \n",
    "    может принимать значение mode для кат. признака, median или mean для числового\n",
    "    is_cat - True, если кат. признак и False, если числовой'''\n",
    "\n",
    "'''Определим функцию заполнения пустых значений'''\n",
    "\n",
    "def fill_navalues(df, col, agg = 'mode', is_cat = True):    \n",
    "    \n",
    "    if is_cat:\n",
    "        agg_value = df[col].agg(agg)[0]\n",
    "        df[col] = df[col].fillna(agg_value) \n",
    "    \n",
    "    else:\n",
    "        try:\n",
    "            is_number = float(df[col][1])\n",
    "        except:\n",
    "            print('Колонка {0} не числовая. Для is_cat = {1} используйте только числовые колонки'.format(col,is_cat))\n",
    "        else:\n",
    "            agg_value = df[col].agg(agg)\n",
    "            df[col] = df[col].fillna(agg_value)  \n"
   ]
  },
  {
   "cell_type": "code",
   "execution_count": 185,
   "metadata": {},
   "outputs": [],
   "source": [
    "'''заменим пустые значений'''\n",
    "\n",
    "for i in nstud.drop(['age', 'score', 'absences','address','traveltime'],  axis = 1):\n",
    "    fill_navalues(nstud,i)"
   ]
  },
  {
   "cell_type": "markdown",
   "metadata": {},
   "source": [
    "Проверим на NaN после всех манипуляций"
   ]
  },
  {
   "cell_type": "code",
   "execution_count": 186,
   "metadata": {},
   "outputs": [
    {
     "data": {
      "text/plain": [
       "school        0\n",
       "sex           0\n",
       "age           0\n",
       "address       0\n",
       "famsize       0\n",
       "Pstatus       0\n",
       "Medu          0\n",
       "Fedu          0\n",
       "Mjob          0\n",
       "Fjob          0\n",
       "reason        0\n",
       "guardian      0\n",
       "traveltime    0\n",
       "studytime     0\n",
       "failures      0\n",
       "schoolsup     0\n",
       "famsup        0\n",
       "paid          0\n",
       "activities    0\n",
       "nursery       0\n",
       "higher        0\n",
       "internet      0\n",
       "romantic      0\n",
       "famrel        0\n",
       "freetime      0\n",
       "goout         0\n",
       "health        0\n",
       "absences      0\n",
       "score         0\n",
       "dtype: int64"
      ]
     },
     "execution_count": 186,
     "metadata": {},
     "output_type": "execute_result"
    }
   ],
   "source": [
    "nstud.isnull().sum()"
   ]
  },
  {
   "cell_type": "markdown",
   "metadata": {},
   "source": [
    "Очистка и подготовка данных выполнена. Можно приступить к развед. анализу."
   ]
  },
  {
   "cell_type": "markdown",
   "metadata": {},
   "source": [
    "Применим функцию unfit_criterias, определенную ранее, для того, чтобы понять, какие признаки не распределены нормально, чтобы исключить их из оценки по Стьюденту."
   ]
  },
  {
   "cell_type": "code",
   "execution_count": 194,
   "metadata": {},
   "outputs": [
    {
     "data": {
      "text/plain": [
       "{'Medu': array([[0., 0., 0., 3.]]),\n",
       " 'Fedu': array([[0., 0., 0., 2.]]),\n",
       " 'guardian': array([['other', 'False', 'True', '24']], dtype='<U32'),\n",
       " 'traveltime': array([[4., 1., 0., 7.]]),\n",
       " 'famrel': array([[0., 0., 0., 1.],\n",
       "        [1., 1., 0., 6.]]),\n",
       " 'freetime': array([[ 1.,  0.,  1., 16.]])}"
      ]
     },
     "execution_count": 194,
     "metadata": {},
     "output_type": "execute_result"
    }
   ],
   "source": [
    "unfit_criterias(nstud, 8) # 8 - минимальный объем выборки"
   ]
  },
  {
   "cell_type": "markdown",
   "metadata": {},
   "source": [
    "Теперь, найдем все значимые критерии с помощью функции."
   ]
  },
  {
   "cell_type": "code",
   "execution_count": 195,
   "metadata": {},
   "outputs": [],
   "source": [
    "def df_getstatdif(df, a = 0.05, n = 8, ncols = ['age', 'score', 'absences']): # функция определения значимых критериев.\n",
    "                                                                              # возвращает список значимых столбцов\n",
    "\n",
    "    unfit_cr = unfit_criterias(df, n)  \n",
    "\n",
    "    def get_stat_dif(column):    # функция определения значим ли column \n",
    "        vals = [x for x in df[column].unique() if (not x in unfit_cr[column][:,0] if column in unfit_cr.keys() else True)]\n",
    "        result = ''\n",
    "        if len(vals) > 1:\n",
    "            combinations_all = list(combinations(vals, 2))\n",
    "            for i in combinations_all:\n",
    "                if ttest_ind(df_filt(df,column,i[0]).score,df_filt(df,column,i[1]).score).pvalue <= a/len(combinations_all):\n",
    "                    print('Найдены статистически значимые различия для колонки', column)\n",
    "                    result = column\n",
    "                    break\n",
    "        return result\n",
    "    cols_list = []\n",
    "    \n",
    "    for i in df.drop(ncols, axis = 1).columns:\n",
    "        if get_stat_dif(i) == '':\n",
    "            continue\n",
    "        else:\n",
    "            cols_list.append(i)\n",
    "    return cols_list\n"
   ]
  },
  {
   "cell_type": "markdown",
   "metadata": {},
   "source": [
    "Найдем все статистически значимые критерии в датасете:"
   ]
  },
  {
   "cell_type": "code",
   "execution_count": 196,
   "metadata": {},
   "outputs": [
    {
     "name": "stdout",
     "output_type": "stream",
     "text": [
      "Найдены статистически значимые различия для колонки address\n",
      "Найдены статистически значимые различия для колонки Medu\n",
      "Найдены статистически значимые различия для колонки Fedu\n",
      "Найдены статистически значимые различия для колонки Mjob\n",
      "Найдены статистически значимые различия для колонки Fjob\n",
      "Найдены статистически значимые различия для колонки studytime\n",
      "Найдены статистически значимые различия для колонки failures\n",
      "Найдены статистически значимые различия для колонки schoolsup\n",
      "Найдены статистически значимые различия для колонки goout\n"
     ]
    }
   ],
   "source": [
    "cols_list = df_getstatdif(nstud, 0.05, 8)"
   ]
  },
  {
   "cell_type": "code",
   "execution_count": 197,
   "metadata": {},
   "outputs": [
    {
     "name": "stdout",
     "output_type": "stream",
     "text": [
      "статистически значимые критерии в датасете:\n",
      " ['address', 'Medu', 'Fedu', 'Mjob', 'Fjob', 'studytime', 'failures', 'schoolsup', 'goout']\n"
     ]
    }
   ],
   "source": [
    "print('статистически значимые критерии в датасете:\\n', cols_list)"
   ]
  },
  {
   "cell_type": "code",
   "execution_count": 198,
   "metadata": {},
   "outputs": [],
   "source": [
    "def show_boxplot(column):  # функция для рисования бокплотов по критерию\n",
    "    fig, ax = plt.subplots(figsize = (14, 4))\n",
    "    sns.boxplot(x=column, y='score', \n",
    "                data=stud.loc[:,[column, 'score']],\n",
    "               ax=ax)\n",
    "    plt.xticks(rotation=45)\n",
    "    ax.set_title('Boxplot for ' + column)\n",
    "    plt.show()"
   ]
  },
  {
   "cell_type": "markdown",
   "metadata": {},
   "source": [
    "Нарисуем боксплоты для значимых критериев:"
   ]
  },
  {
   "cell_type": "code",
   "execution_count": 199,
   "metadata": {},
   "outputs": [
    {
     "data": {
      "image/png": "[encoded data removed]",
      "text/plain": [
       "<Figure size 1008x288 with 1 Axes>"
      ]
     },
     "metadata": {
      "needs_background": "light"
     },
     "output_type": "display_data"
    },
    {
     "data": {
      "image/png": "[encoded data removed]",
      "text/plain": [
       "<Figure size 1008x288 with 1 Axes>"
      ]
     },
     "metadata": {
      "needs_background": "light"
     },
     "output_type": "display_data"
    },
    {
     "data": {
      "image/png": "[encoded data removed]",
      "text/plain": [
       "<Figure size 1008x288 with 1 Axes>"
      ]
     },
     "metadata": {
      "needs_background": "light"
     },
     "output_type": "display_data"
    },
    {
     "data": {
      "image/png": "[encoded data removed]",
      "text/plain": [
       "<Figure size 1008x288 with 1 Axes>"
      ]
     },
     "metadata": {
      "needs_background": "light"
     },
     "output_type": "display_data"
    },
    {
     "data": {
      "image/png": "[encoded data removed]",
      "text/plain": [
       "<Figure size 1008x288 with 1 Axes>"
      ]
     },
     "metadata": {
      "needs_background": "light"
     },
     "output_type": "display_data"
    },
    {
     "data": {
      "image/png": "[encoded data removed]",
      "text/plain": [
       "<Figure size 1008x288 with 1 Axes>"
      ]
     },
     "metadata": {
      "needs_background": "light"
     },
     "output_type": "display_data"
    },
    {
     "data": {
      "image/png": "[encoded data removed]",
      "text/plain": [
       "<Figure size 1008x288 with 1 Axes>"
      ]
     },
     "metadata": {
      "needs_background": "light"
     },
     "output_type": "display_data"
    },
    {
     "data": {
      "image/png": "[encoded data removed]",
      "text/plain": [
       "<Figure size 1008x288 with 1 Axes>"
      ]
     },
     "metadata": {
      "needs_background": "light"
     },
     "output_type": "display_data"
    },
    {
     "data": {
      "image/png": "[encoded data removed]",
      "text/plain": [
       "<Figure size 1008x288 with 1 Axes>"
      ]
     },
     "metadata": {
      "needs_background": "light"
     },
     "output_type": "display_data"
    }
   ],
   "source": [
    "for i in cols_list:\n",
    "    show_boxplot(i)"
   ]
  },
  {
   "cell_type": "markdown",
   "metadata": {},
   "source": [
    "Как мы выяснили, категориальные переменные, которые, возможно, оказывают влияние на оценку, это: \n",
    "'address', 'Medu', 'Fedu', 'Mjob', 'Fjob', 'studytime', 'failures', 'schoolsup', 'goout'"
   ]
  },
  {
   "cell_type": "code",
   "execution_count": 200,
   "metadata": {},
   "outputs": [
    {
     "data": {
      "text/html": [
       "<div>\n",
       "<style scoped>\n",
       "    .dataframe tbody tr th:only-of-type {\n",
       "        vertical-align: middle;\n",
       "    }\n",
       "\n",
       "    .dataframe tbody tr th {\n",
       "        vertical-align: top;\n",
       "    }\n",
       "\n",
       "    .dataframe thead th {\n",
       "        text-align: right;\n",
       "    }\n",
       "</style>\n",
       "<table border=\"1\" class=\"dataframe\">\n",
       "  <thead>\n",
       "    <tr style=\"text-align: right;\">\n",
       "      <th></th>\n",
       "      <th>age</th>\n",
       "      <th>score</th>\n",
       "      <th>absences</th>\n",
       "      <th>address</th>\n",
       "      <th>Medu</th>\n",
       "      <th>Fedu</th>\n",
       "      <th>Mjob</th>\n",
       "      <th>Fjob</th>\n",
       "      <th>studytime</th>\n",
       "      <th>failures</th>\n",
       "      <th>schoolsup</th>\n",
       "      <th>goout</th>\n",
       "    </tr>\n",
       "  </thead>\n",
       "  <tbody>\n",
       "    <tr>\n",
       "      <th>0</th>\n",
       "      <td>18</td>\n",
       "      <td>30.0</td>\n",
       "      <td>6.0</td>\n",
       "      <td>U</td>\n",
       "      <td>4.0</td>\n",
       "      <td>4.0</td>\n",
       "      <td>at_home</td>\n",
       "      <td>teacher</td>\n",
       "      <td>2.0</td>\n",
       "      <td>0.0</td>\n",
       "      <td>yes</td>\n",
       "      <td>4.0</td>\n",
       "    </tr>\n",
       "    <tr>\n",
       "      <th>1</th>\n",
       "      <td>17</td>\n",
       "      <td>30.0</td>\n",
       "      <td>4.0</td>\n",
       "      <td>U</td>\n",
       "      <td>1.0</td>\n",
       "      <td>1.0</td>\n",
       "      <td>at_home</td>\n",
       "      <td>other</td>\n",
       "      <td>2.0</td>\n",
       "      <td>0.0</td>\n",
       "      <td>no</td>\n",
       "      <td>3.0</td>\n",
       "    </tr>\n",
       "    <tr>\n",
       "      <th>2</th>\n",
       "      <td>15</td>\n",
       "      <td>50.0</td>\n",
       "      <td>10.0</td>\n",
       "      <td>U</td>\n",
       "      <td>1.0</td>\n",
       "      <td>1.0</td>\n",
       "      <td>at_home</td>\n",
       "      <td>other</td>\n",
       "      <td>2.0</td>\n",
       "      <td>3.0</td>\n",
       "      <td>yes</td>\n",
       "      <td>2.0</td>\n",
       "    </tr>\n",
       "    <tr>\n",
       "      <th>3</th>\n",
       "      <td>15</td>\n",
       "      <td>75.0</td>\n",
       "      <td>2.0</td>\n",
       "      <td>U</td>\n",
       "      <td>4.0</td>\n",
       "      <td>2.0</td>\n",
       "      <td>health</td>\n",
       "      <td>other</td>\n",
       "      <td>3.0</td>\n",
       "      <td>0.0</td>\n",
       "      <td>no</td>\n",
       "      <td>2.0</td>\n",
       "    </tr>\n",
       "    <tr>\n",
       "      <th>4</th>\n",
       "      <td>16</td>\n",
       "      <td>50.0</td>\n",
       "      <td>4.0</td>\n",
       "      <td>U</td>\n",
       "      <td>3.0</td>\n",
       "      <td>3.0</td>\n",
       "      <td>other</td>\n",
       "      <td>other</td>\n",
       "      <td>2.0</td>\n",
       "      <td>0.0</td>\n",
       "      <td>no</td>\n",
       "      <td>2.0</td>\n",
       "    </tr>\n",
       "  </tbody>\n",
       "</table>\n",
       "</div>"
      ],
      "text/plain": [
       "   age  score  absences address  Medu  Fedu     Mjob     Fjob  studytime  \\\n",
       "0   18   30.0       6.0       U   4.0   4.0  at_home  teacher        2.0   \n",
       "1   17   30.0       4.0       U   1.0   1.0  at_home    other        2.0   \n",
       "2   15   50.0      10.0       U   1.0   1.0  at_home    other        2.0   \n",
       "3   15   75.0       2.0       U   4.0   2.0   health    other        3.0   \n",
       "4   16   50.0       4.0       U   3.0   3.0    other    other        2.0   \n",
       "\n",
       "   failures schoolsup  goout  \n",
       "0       0.0       yes    4.0  \n",
       "1       0.0        no    3.0  \n",
       "2       3.0       yes    2.0  \n",
       "3       0.0        no    2.0  \n",
       "4       0.0        no    2.0  "
      ]
     },
     "execution_count": 200,
     "metadata": {},
     "output_type": "execute_result"
    }
   ],
   "source": [
    "stud_for_model = nstud.loc[:, ['age','score', 'absences','address', 'Medu', 'Fedu', 'Mjob', 'Fjob', 'studytime', 'failures', 'schoolsup', 'goout']]\n",
    "stud_for_model.head()"
   ]
  },
  {
   "cell_type": "markdown",
   "metadata": {},
   "source": [
    "В результате анализа влияния параметров условий жизни учащихся в возрасте от 15 до 22 лет на их успеваемость по математике получены следующие выводы:\n",
    "\n",
    "1) В данных достаточно много пустых значений, поэтому были применены различные методы заполнения пустот. В дальнейшем можно оценить эти методы относительно работы модели, и, возможно, появятся показания к изменению способа заполнения пустот.\n",
    "\n",
    "2) Столбец absences содержит очень много выбросов и pvalue оценки гипотезы о нормальности значительно меньше 0,005. Поэтому можно сделать вывод, что данные в данном столбце не достаточно качественные. Однако, так как наблюдается отрицательная корреляция между absences и score (и с точки здравого смысла эта корреляция вполне оправдана), то было решено столбец очистить от выбросов и оставить в выборке.\n",
    "\n",
    "3) Самые важные категориальные параметры, кодирующие условия жизни учеников, которые предлагается использовать в дальнейшем для построения модели, это 'address', 'Medu', 'Fedu', 'Mjob', 'Fjob', 'studytime', 'failures', 'schoolsup', 'goout'."
   ]
  },
  {
   "cell_type": "code",
   "execution_count": null,
   "metadata": {},
   "outputs": [],
   "source": []
  },
  {
   "cell_type": "code",
   "execution_count": null,
   "metadata": {},
   "outputs": [],
   "source": []
  }
 ],
 "metadata": {
  "kernelspec": {
   "display_name": "Python 3",
   "language": "python",
   "name": "python3"
  },
  "language_info": {
   "codemirror_mode": {
    "name": "ipython",
    "version": 3
   },
   "file_extension": ".py",
   "mimetype": "text/x-python",
   "name": "python",
   "nbconvert_exporter": "python",
   "pygments_lexer": "ipython3",
   "version": "3.7.6"
  }
 },
 "nbformat": 4,
 "nbformat_minor": 4
}
