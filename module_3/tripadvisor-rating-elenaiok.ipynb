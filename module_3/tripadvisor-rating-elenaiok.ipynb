{
 "cells": [
  {
   "cell_type": "markdown",
   "metadata": {},
   "source": [
    "![](https://www.pata.org/wp-content/uploads/2014/09/TripAdvisor_Logo-300x119.png)\n",
    "# Predict TripAdvisor Rating\n",
    "## В этом соревновании нам предстоит предсказать рейтинг ресторана в TripAdvisor\n"
   ]
  },
  {
   "cell_type": "markdown",
   "metadata": {},
   "source": [
    "# import"
   ]
  },
  {
   "cell_type": "code",
   "execution_count": 1,
   "metadata": {
    "_cell_guid": "b1076dfc-b9ad-4769-8c92-a6c4dae69d19",
    "_uuid": "8f2839f25d086af736a60e9eeb907d3b93b6e0e5"
   },
   "outputs": [
    {
     "name": "stdout",
     "output_type": "stream",
     "text": [
      "/kaggle/input/world-cities-database/LICENSE.txt\n",
      "/kaggle/input/world-cities-database/worldcitiespop.csv\n",
      "/kaggle/input/sf-dst-restaurant-rating/kaggle_task.csv\n",
      "/kaggle/input/sf-dst-restaurant-rating/main_task.csv\n",
      "/kaggle/input/sf-dst-restaurant-rating/sample_submission.csv\n",
      "/kaggle/input/countries-travel-inbound-dataset-19952018/global_travel_inbound.xls\n",
      "/kaggle/input/countries-travel-inbound-dataset-19952018/china_outbound.xlsx\n",
      "/kaggle/input/world-cities/worldcities.csv\n",
      "['__notebook__.ipynb']\n"
     ]
    }
   ],
   "source": [
    "# This Python 3 environment comes with many helpful analytics libraries installed\n",
    "# It is defined by the kaggle/python docker image: https://github.com/kaggle/docker-python\n",
    "# For example, here's several helpful packages to load in \n",
    "\n",
    "import numpy as np # linear algebra\n",
    "import pandas as pd # data processing, CSV file I/O (e.g. pd.read_csv)\n",
    "\n",
    "import matplotlib.pyplot as plt\n",
    "import seaborn as sns \n",
    "%matplotlib inline\n",
    "\n",
    "from itertools import combinations\n",
    "from scipy.stats import ttest_ind\n",
    "import statsmodels.api as sm\n",
    "import scipy.stats as sst\n",
    "from collections import Counter\n",
    "import re\n",
    "\n",
    "from sklearn.preprocessing import MinMaxScaler\n",
    "from sklearn.preprocessing import StandardScaler\n",
    "\n",
    "# Загружаем специальный удобный инструмент для разделения датасета:\n",
    "from sklearn.model_selection import train_test_split\n",
    "\n",
    "from sklearn.ensemble import RandomForestRegressor # инструмент для создания и обучения модели\n",
    "from sklearn import metrics # инструменты для оценки точности модели\n",
    "\n",
    "# Input data files are available in the \"../input/\" directory.\n",
    "# For example, running this (by clicking run or pressing Shift+Enter) will list all files under the input directory\n",
    "\n",
    "import os\n",
    "\n",
    "filenames_list = []\n",
    "for dirname, _, filenames in os.walk('/kaggle/input'):\n",
    "    for filename in filenames:\n",
    "        print(os.path.join(dirname, filename))\n",
    "        filenames_list.append(os.path.join(dirname, filename))\n",
    "\n",
    "# Any results you write to the current directory are saved as output.\n",
    "\n",
    "import os\n",
    "print(os.listdir(\"/kaggle/working\"))"
   ]
  },
  {
   "cell_type": "code",
   "execution_count": 2,
   "metadata": {},
   "outputs": [
    {
     "data": {
      "text/plain": [
       "'/kaggle/input/world-cities/worldcities.csv'"
      ]
     },
     "execution_count": 2,
     "metadata": {},
     "output_type": "execute_result"
    }
   ],
   "source": [
    "cities_pop_filename = '/kaggle/input/world-cities/worldcities.csv'\n",
    "cities_pop_filename"
   ]
  },
  {
   "cell_type": "code",
   "execution_count": 3,
   "metadata": {},
   "outputs": [],
   "source": [
    "# всегда фиксируйте RANDOM_SEED, чтобы ваши эксперименты были воспроизводимы!\n",
    "RANDOM_SEED = 42"
   ]
  },
  {
   "cell_type": "code",
   "execution_count": 4,
   "metadata": {},
   "outputs": [],
   "source": [
    "# зафиксируем версию пакетов, чтобы эксперименты были воспроизводимы:\n",
    "!pip freeze > requirements.txt"
   ]
  },
  {
   "cell_type": "code",
   "execution_count": 5,
   "metadata": {},
   "outputs": [],
   "source": [
    "# Завернем модель в функцию для того, чтобы было удобнее вызывать\n",
    "\n",
    "def model_func(df_preproc):\n",
    "    # выделим тестовую часть\n",
    "    train_data = df_preproc.query('sample == 1').drop(['sample'], axis=1)\n",
    "    test_data = df_preproc.query('sample == 0').drop(['sample'], axis=1)\n",
    "\n",
    "    y = train_data.Rating.values            # наш таргет\n",
    "    X = train_data.drop(['Rating'], axis=1)\n",
    "    \n",
    "    RANDOM_SEED = 42\n",
    "    \n",
    "    # Воспользуемся специальной функцие train_test_split для разбивки тестовых данных\n",
    "    # выделим 20% данных на валидацию (параметр test_size)\n",
    "    X_train, X_test, y_train, y_test = train_test_split(X, y, test_size=0.2, random_state=RANDOM_SEED)\n",
    "\n",
    "    # Создаём модель (НАСТРОЙКИ НЕ ТРОГАЕМ)\n",
    "    model = RandomForestRegressor(n_estimators=100, verbose=1, n_jobs=-1, random_state=RANDOM_SEED)\n",
    "    \n",
    "    # Обучаем модель на тестовом наборе данных\n",
    "    model.fit(X_train, y_train)\n",
    "\n",
    "    # Используем обученную модель для предсказания рейтинга ресторанов в тестовой выборке.\n",
    "    # Предсказанные значения записываем в переменную y_pred\n",
    "    y_pred = model.predict(X_test)\n",
    "    \n",
    "    result = metrics.mean_absolute_error(y_test, y_pred)\n",
    "    \n",
    "    # в RandomForestRegressor есть возможность вывести самые важные признаки для модели\n",
    "    plt.rcParams['figure.figsize'] = (10,10)\n",
    "    feat_importances = pd.Series(model.feature_importances_, index=X.columns)\n",
    "    feat_importances.nlargest(15).plot(kind='barh')\n",
    "    \n",
    "    plt.show\n",
    "    \n",
    "    return result"
   ]
  },
  {
   "cell_type": "markdown",
   "metadata": {},
   "source": [
    "# DATA"
   ]
  },
  {
   "cell_type": "code",
   "execution_count": 6,
   "metadata": {
    "_cell_guid": "79c7e3d0-c299-4dcb-8224-4455121ee9b0",
    "_uuid": "d629ff2d2480ee46fbb7e2d37f6b5fab8052498a"
   },
   "outputs": [
    {
     "name": "stdout",
     "output_type": "stream",
     "text": [
      "<class 'pandas.core.frame.DataFrame'>\n",
      "RangeIndex: 50000 entries, 0 to 49999\n",
      "Data columns (total 11 columns):\n",
      "Restaurant_id        50000 non-null object\n",
      "City                 50000 non-null object\n",
      "Cuisine Style        38410 non-null object\n",
      "Ranking              50000 non-null float64\n",
      "Price Range          32639 non-null object\n",
      "Number of Reviews    46800 non-null float64\n",
      "Reviews              49998 non-null object\n",
      "URL_TA               50000 non-null object\n",
      "ID_TA                50000 non-null object\n",
      "sample               50000 non-null int64\n",
      "Rating               50000 non-null float64\n",
      "dtypes: float64(3), int64(1), object(7)\n",
      "memory usage: 4.2+ MB\n"
     ]
    }
   ],
   "source": [
    "DATA_DIR = '/kaggle/input/sf-dst-restaurant-rating/'\n",
    "df_train = pd.read_csv(DATA_DIR+'/main_task.csv')\n",
    "df_test = pd.read_csv(DATA_DIR+'kaggle_task.csv')\n",
    "sample_submission = pd.read_csv(DATA_DIR+'/sample_submission.csv')\n",
    "\n",
    "# ВАЖНО! дря корректной обработки признаков объединяем трейн и тест в один датасет\n",
    "df_train['sample'] = 1 # помечаем где у нас трейн\n",
    "df_test['sample'] = 0 # помечаем где у нас тест\n",
    "df_test['Rating'] = 0 # в тесте у нас нет значения Rating, мы его должны предсказать, по этому пока просто заполняем нулями\n",
    "\n",
    "data = df_test.append(df_train, sort=False).reset_index(drop=True) # объединяем\n",
    "data.info()"
   ]
  },
  {
   "cell_type": "code",
   "execution_count": 7,
   "metadata": {},
   "outputs": [
    {
     "data": {
      "text/html": [
       "<div>\n",
       "<style scoped>\n",
       "    .dataframe tbody tr th:only-of-type {\n",
       "        vertical-align: middle;\n",
       "    }\n",
       "\n",
       "    .dataframe tbody tr th {\n",
       "        vertical-align: top;\n",
       "    }\n",
       "\n",
       "    .dataframe thead th {\n",
       "        text-align: right;\n",
       "    }\n",
       "</style>\n",
       "<table border=\"1\" class=\"dataframe\">\n",
       "  <thead>\n",
       "    <tr style=\"text-align: right;\">\n",
       "      <th></th>\n",
       "      <th>Restaurant_id</th>\n",
       "      <th>Rating</th>\n",
       "    </tr>\n",
       "  </thead>\n",
       "  <tbody>\n",
       "    <tr>\n",
       "      <th>0</th>\n",
       "      <td>id_0</td>\n",
       "      <td>2.0</td>\n",
       "    </tr>\n",
       "    <tr>\n",
       "      <th>1</th>\n",
       "      <td>id_1</td>\n",
       "      <td>2.5</td>\n",
       "    </tr>\n",
       "    <tr>\n",
       "      <th>2</th>\n",
       "      <td>id_2</td>\n",
       "      <td>4.0</td>\n",
       "    </tr>\n",
       "    <tr>\n",
       "      <th>3</th>\n",
       "      <td>id_3</td>\n",
       "      <td>1.0</td>\n",
       "    </tr>\n",
       "    <tr>\n",
       "      <th>4</th>\n",
       "      <td>id_4</td>\n",
       "      <td>4.0</td>\n",
       "    </tr>\n",
       "    <tr>\n",
       "      <th>...</th>\n",
       "      <td>...</td>\n",
       "      <td>...</td>\n",
       "    </tr>\n",
       "    <tr>\n",
       "      <th>9995</th>\n",
       "      <td>id_9995</td>\n",
       "      <td>3.0</td>\n",
       "    </tr>\n",
       "    <tr>\n",
       "      <th>9996</th>\n",
       "      <td>id_9996</td>\n",
       "      <td>1.5</td>\n",
       "    </tr>\n",
       "    <tr>\n",
       "      <th>9997</th>\n",
       "      <td>id_9997</td>\n",
       "      <td>4.5</td>\n",
       "    </tr>\n",
       "    <tr>\n",
       "      <th>9998</th>\n",
       "      <td>id_9998</td>\n",
       "      <td>1.0</td>\n",
       "    </tr>\n",
       "    <tr>\n",
       "      <th>9999</th>\n",
       "      <td>id_9999</td>\n",
       "      <td>2.5</td>\n",
       "    </tr>\n",
       "  </tbody>\n",
       "</table>\n",
       "<p>10000 rows × 2 columns</p>\n",
       "</div>"
      ],
      "text/plain": [
       "     Restaurant_id  Rating\n",
       "0             id_0     2.0\n",
       "1             id_1     2.5\n",
       "2             id_2     4.0\n",
       "3             id_3     1.0\n",
       "4             id_4     4.0\n",
       "...            ...     ...\n",
       "9995       id_9995     3.0\n",
       "9996       id_9996     1.5\n",
       "9997       id_9997     4.5\n",
       "9998       id_9998     1.0\n",
       "9999       id_9999     2.5\n",
       "\n",
       "[10000 rows x 2 columns]"
      ]
     },
     "execution_count": 7,
     "metadata": {},
     "output_type": "execute_result"
    }
   ],
   "source": [
    "sample_submission"
   ]
  },
  {
   "cell_type": "markdown",
   "metadata": {},
   "source": [
    "Подробнее по признакам:\n",
    "* City: Город \n",
    "* Cuisine Style: Кухня\n",
    "* Ranking: Ранг ресторана относительно других ресторанов в этом городе\n",
    "* Price Range: Цены в ресторане в 3 категориях\n",
    "* Number of Reviews: Количество отзывов\n",
    "* Reviews: 2 последних отзыва и даты этих отзывов\n",
    "* URL_TA: страница ресторана на 'www.tripadvisor.com' \n",
    "* ID_TA: ID ресторана в TripAdvisor\n",
    "* Rating: Рейтинг ресторана"
   ]
  },
  {
   "cell_type": "markdown",
   "metadata": {},
   "source": [
    "# Предобработка и анализ данных, создание новых признаков"
   ]
  },
  {
   "cell_type": "markdown",
   "metadata": {},
   "source": [
    "## 1. Обработка NAN "
   ]
  },
  {
   "cell_type": "code",
   "execution_count": 8,
   "metadata": {},
   "outputs": [
    {
     "data": {
      "text/plain": [
       "0    46800\n",
       "1     3200\n",
       "Name: number_rew_nan, dtype: int64"
      ]
     },
     "execution_count": 8,
     "metadata": {},
     "output_type": "execute_result"
    }
   ],
   "source": [
    "# обработаем столбец Number of Reviews\n",
    "number_rew_nan = pd.isna(data['Number of Reviews']).astype('uint8')\n",
    "\n",
    "number_rew_nan.name = 'number_rew_nan'\n",
    "number_rew_nan.value_counts()"
   ]
  },
  {
   "cell_type": "code",
   "execution_count": 9,
   "metadata": {},
   "outputs": [
    {
     "data": {
      "text/plain": [
       "16167     11.0\n",
       "34787     10.0\n",
       "38542    255.0\n",
       "25165      4.0\n",
       "13970    433.0\n",
       "Name: number_rew, dtype: float64"
      ]
     },
     "execution_count": 9,
     "metadata": {},
     "output_type": "execute_result"
    }
   ],
   "source": [
    "# Далее заполняем пропуски нулем\n",
    "\n",
    "#mean = data['Number of Reviews'].mean()\n",
    "number_rew = data['Number of Reviews'].fillna(0)\n",
    "\n",
    "number_rew.name = 'number_rew'\n",
    "number_rew.sample(5)"
   ]
  },
  {
   "cell_type": "code",
   "execution_count": 10,
   "metadata": {},
   "outputs": [
    {
     "name": "stderr",
     "output_type": "stream",
     "text": [
      "[Parallel(n_jobs=-1)]: Using backend ThreadingBackend with 4 concurrent workers.\n",
      "[Parallel(n_jobs=-1)]: Done  42 tasks      | elapsed:    1.2s\n",
      "[Parallel(n_jobs=-1)]: Done 100 out of 100 | elapsed:    2.7s finished\n",
      "[Parallel(n_jobs=4)]: Using backend ThreadingBackend with 4 concurrent workers.\n",
      "[Parallel(n_jobs=4)]: Done  42 tasks      | elapsed:    0.1s\n",
      "[Parallel(n_jobs=4)]: Done 100 out of 100 | elapsed:    0.1s finished\n"
     ]
    },
    {
     "data": {
      "text/plain": [
       "0.4253625733901515"
      ]
     },
     "execution_count": 10,
     "metadata": {},
     "output_type": "execute_result"
    },
    {
     "data": {
      "image/png": "[encoded data removed]",
      "text/plain": [
       "<Figure size 720x720 with 1 Axes>"
      ]
     },
     "metadata": {
      "needs_background": "light"
     },
     "output_type": "display_data"
    }
   ],
   "source": [
    "# проверим модель на имеющихся числовых признаках без обработки\n",
    "\n",
    "df_preproc = pd.concat([data.loc[:,['Rating', 'sample','Ranking']], number_rew, number_rew_nan], axis = 1)\n",
    "model_func(df_preproc)"
   ]
  },
  {
   "cell_type": "markdown",
   "metadata": {},
   "source": [
    "Отклонение предсказания - большое. Попробуем путем предобработки и создания новых признаков улучшить предсказание модели"
   ]
  },
  {
   "cell_type": "code",
   "execution_count": 11,
   "metadata": {},
   "outputs": [
    {
     "data": {
      "text/plain": [
       "Restaurant_id            0\n",
       "City                     0\n",
       "Cuisine Style        11590\n",
       "Ranking                  0\n",
       "Price Range          17361\n",
       "Number of Reviews     3200\n",
       "Reviews                  2\n",
       "URL_TA                   0\n",
       "ID_TA                    0\n",
       "sample                   0\n",
       "Rating                   0\n",
       "dtype: int64"
      ]
     },
     "execution_count": 11,
     "metadata": {},
     "output_type": "execute_result"
    }
   ],
   "source": [
    "data.isna().sum()"
   ]
  },
  {
   "cell_type": "markdown",
   "metadata": {},
   "source": [
    "Мы видим, что другие числовые столбцы не содержат пропусков, поэтому перейдем к следующему шагу."
   ]
  },
  {
   "cell_type": "markdown",
   "metadata": {},
   "source": [
    "## 2. Создадим новые числовые признаки"
   ]
  },
  {
   "cell_type": "code",
   "execution_count": 12,
   "metadata": {},
   "outputs": [],
   "source": [
    "data['Number of Reviews'].fillna(0, inplace = True)"
   ]
  },
  {
   "cell_type": "code",
   "execution_count": 13,
   "metadata": {},
   "outputs": [
    {
     "data": {
      "image/png": "[encoded data removed]",
      "text/plain": [
       "<Figure size 720x720 with 1 Axes>"
      ]
     },
     "metadata": {
      "needs_background": "light"
     },
     "output_type": "display_data"
    }
   ],
   "source": [
    "# посмотрим на топ 10 городов\n",
    "for x in (data['City'].value_counts())[0:10].index:\n",
    "    data['Ranking'][data['City'] == x].hist(bins=100)\n",
    "plt.show()"
   ]
  },
  {
   "cell_type": "markdown",
   "metadata": {},
   "source": [
    "Получается, что Ranking имеет нормальное распределение, просто в больших городах больше ресторанов, из-за мы этого имеем смещение. \n",
    "Попробуем использовать этот факт для нормализации Ranking."
   ]
  },
  {
   "cell_type": "code",
   "execution_count": 14,
   "metadata": {},
   "outputs": [
    {
     "data": {
      "text/html": [
       "<div>\n",
       "<style scoped>\n",
       "    .dataframe tbody tr th:only-of-type {\n",
       "        vertical-align: middle;\n",
       "    }\n",
       "\n",
       "    .dataframe tbody tr th {\n",
       "        vertical-align: top;\n",
       "    }\n",
       "\n",
       "    .dataframe thead th {\n",
       "        text-align: right;\n",
       "    }\n",
       "</style>\n",
       "<table border=\"1\" class=\"dataframe\">\n",
       "  <thead>\n",
       "    <tr style=\"text-align: right;\">\n",
       "      <th></th>\n",
       "      <th>Ranking</th>\n",
       "      <th>Number of Reviews</th>\n",
       "      <th>sample</th>\n",
       "      <th>Rating</th>\n",
       "    </tr>\n",
       "  </thead>\n",
       "  <tbody>\n",
       "    <tr>\n",
       "      <th>count</th>\n",
       "      <td>7193.000000</td>\n",
       "      <td>7193.000000</td>\n",
       "      <td>7193.000000</td>\n",
       "      <td>7193.000000</td>\n",
       "    </tr>\n",
       "    <tr>\n",
       "      <th>mean</th>\n",
       "      <td>8169.707354</td>\n",
       "      <td>129.816488</td>\n",
       "      <td>0.800361</td>\n",
       "      <td>3.165508</td>\n",
       "    </tr>\n",
       "    <tr>\n",
       "      <th>std</th>\n",
       "      <td>4723.964027</td>\n",
       "      <td>321.937972</td>\n",
       "      <td>0.399756</td>\n",
       "      <td>1.698275</td>\n",
       "    </tr>\n",
       "    <tr>\n",
       "      <th>min</th>\n",
       "      <td>1.000000</td>\n",
       "      <td>0.000000</td>\n",
       "      <td>0.000000</td>\n",
       "      <td>0.000000</td>\n",
       "    </tr>\n",
       "    <tr>\n",
       "      <th>25%</th>\n",
       "      <td>4101.000000</td>\n",
       "      <td>7.000000</td>\n",
       "      <td>1.000000</td>\n",
       "      <td>3.000000</td>\n",
       "    </tr>\n",
       "    <tr>\n",
       "      <th>50%</th>\n",
       "      <td>8092.000000</td>\n",
       "      <td>32.000000</td>\n",
       "      <td>1.000000</td>\n",
       "      <td>4.000000</td>\n",
       "    </tr>\n",
       "    <tr>\n",
       "      <th>75%</th>\n",
       "      <td>12282.000000</td>\n",
       "      <td>121.000000</td>\n",
       "      <td>1.000000</td>\n",
       "      <td>4.500000</td>\n",
       "    </tr>\n",
       "    <tr>\n",
       "      <th>max</th>\n",
       "      <td>16444.000000</td>\n",
       "      <td>9660.000000</td>\n",
       "      <td>1.000000</td>\n",
       "      <td>5.000000</td>\n",
       "    </tr>\n",
       "  </tbody>\n",
       "</table>\n",
       "</div>"
      ],
      "text/plain": [
       "            Ranking  Number of Reviews       sample       Rating\n",
       "count   7193.000000        7193.000000  7193.000000  7193.000000\n",
       "mean    8169.707354         129.816488     0.800361     3.165508\n",
       "std     4723.964027         321.937972     0.399756     1.698275\n",
       "min        1.000000           0.000000     0.000000     0.000000\n",
       "25%     4101.000000           7.000000     1.000000     3.000000\n",
       "50%     8092.000000          32.000000     1.000000     4.000000\n",
       "75%    12282.000000         121.000000     1.000000     4.500000\n",
       "max    16444.000000        9660.000000     1.000000     5.000000"
      ]
     },
     "execution_count": 14,
     "metadata": {},
     "output_type": "execute_result"
    }
   ],
   "source": [
    "data[data.City == 'London'].describe()"
   ]
  },
  {
   "cell_type": "code",
   "execution_count": 15,
   "metadata": {},
   "outputs": [
    {
     "data": {
      "text/html": [
       "<div>\n",
       "<style scoped>\n",
       "    .dataframe tbody tr th:only-of-type {\n",
       "        vertical-align: middle;\n",
       "    }\n",
       "\n",
       "    .dataframe tbody tr th {\n",
       "        vertical-align: top;\n",
       "    }\n",
       "\n",
       "    .dataframe thead th {\n",
       "        text-align: right;\n",
       "    }\n",
       "</style>\n",
       "<table border=\"1\" class=\"dataframe\">\n",
       "  <thead>\n",
       "    <tr style=\"text-align: right;\">\n",
       "      <th></th>\n",
       "      <th>Number of Reviews</th>\n",
       "      <th>Ranking</th>\n",
       "    </tr>\n",
       "  </thead>\n",
       "  <tbody>\n",
       "    <tr>\n",
       "      <th>16133</th>\n",
       "      <td>0.0</td>\n",
       "      <td>16287.0</td>\n",
       "    </tr>\n",
       "    <tr>\n",
       "      <th>13461</th>\n",
       "      <td>0.0</td>\n",
       "      <td>16036.0</td>\n",
       "    </tr>\n",
       "    <tr>\n",
       "      <th>11848</th>\n",
       "      <td>0.0</td>\n",
       "      <td>15979.0</td>\n",
       "    </tr>\n",
       "    <tr>\n",
       "      <th>33140</th>\n",
       "      <td>3.0</td>\n",
       "      <td>15946.0</td>\n",
       "    </tr>\n",
       "    <tr>\n",
       "      <th>16891</th>\n",
       "      <td>2.0</td>\n",
       "      <td>15905.0</td>\n",
       "    </tr>\n",
       "    <tr>\n",
       "      <th>38037</th>\n",
       "      <td>62.0</td>\n",
       "      <td>15639.0</td>\n",
       "    </tr>\n",
       "    <tr>\n",
       "      <th>25991</th>\n",
       "      <td>2.0</td>\n",
       "      <td>15516.0</td>\n",
       "    </tr>\n",
       "    <tr>\n",
       "      <th>26424</th>\n",
       "      <td>5.0</td>\n",
       "      <td>13870.0</td>\n",
       "    </tr>\n",
       "    <tr>\n",
       "      <th>30616</th>\n",
       "      <td>5.0</td>\n",
       "      <td>13245.0</td>\n",
       "    </tr>\n",
       "    <tr>\n",
       "      <th>35566</th>\n",
       "      <td>5.0</td>\n",
       "      <td>13156.0</td>\n",
       "    </tr>\n",
       "  </tbody>\n",
       "</table>\n",
       "</div>"
      ],
      "text/plain": [
       "       Number of Reviews  Ranking\n",
       "16133                0.0  16287.0\n",
       "13461                0.0  16036.0\n",
       "11848                0.0  15979.0\n",
       "33140                3.0  15946.0\n",
       "16891                2.0  15905.0\n",
       "38037               62.0  15639.0\n",
       "25991                2.0  15516.0\n",
       "26424                5.0  13870.0\n",
       "30616                5.0  13245.0\n",
       "35566                5.0  13156.0"
      ]
     },
     "execution_count": 15,
     "metadata": {},
     "output_type": "execute_result"
    }
   ],
   "source": [
    "data[(data.City == 'London') & (data.Rating == 5)].loc[:,['Number of Reviews', 'Ranking']].\\\n",
    "sort_values('Ranking', ascending = False).iloc[:10,]"
   ]
  },
  {
   "cell_type": "code",
   "execution_count": 16,
   "metadata": {},
   "outputs": [
    {
     "data": {
      "text/plain": [
       "<seaborn.axisgrid.JointGrid at 0x7f5cac8d0828>"
      ]
     },
     "execution_count": 16,
     "metadata": {},
     "output_type": "execute_result"
    },
    {
     "data": {
      "text/plain": [
       "<Figure size 360x360 with 0 Axes>"
      ]
     },
     "metadata": {},
     "output_type": "display_data"
    },
    {
     "data": {
      "image/png": "[encoded data removed]",
      "text/plain": [
       "<Figure size 432x432 with 3 Axes>"
      ]
     },
     "metadata": {
      "needs_background": "light"
     },
     "output_type": "display_data"
    }
   ],
   "source": [
    "plt.figure(figsize = (5,5))\n",
    "sns.jointplot(data = data[(data.City == 'London') & (data.Rating > 0)], x = 'Ranking', y = 'Rating', kind = 'kde')"
   ]
  },
  {
   "cell_type": "markdown",
   "metadata": {},
   "source": [
    "Получается, что самые популярные рестораны (минимальный Ranking) имеют Rating равный примерно 4 баллам.\n",
    "Но есть рестораны с высоким рейтингом 5, но по ранку расположенные примерно посередине. Это будет верно, например, для локальной забегаловки для местных, в которой не много посетителей, но которые все ставят ей стабильно 5.\n"
   ]
  },
  {
   "cell_type": "code",
   "execution_count": 17,
   "metadata": {},
   "outputs": [
    {
     "data": {
      "text/plain": [
       "24269    1.0\n",
       "44463    1.0\n",
       "8066     1.0\n",
       "22943    1.0\n",
       "41175    1.0\n",
       "        ... \n",
       "1677     5.0\n",
       "14046    5.0\n",
       "8524     5.0\n",
       "18447    5.0\n",
       "40566    5.0\n",
       "Name: rating_by_rank, Length: 50000, dtype: float64"
      ]
     },
     "execution_count": 17,
     "metadata": {},
     "output_type": "execute_result"
    }
   ],
   "source": [
    "# создадим признак, который на основании Ranking вычисляет значение Rating. Зависимость линейная\n",
    "# f(1) = 5 и f(n) = 1 при f(x) = k*x + b\n",
    "\n",
    "max_rank_by_city = data.groupby(['City']).max().Ranking\n",
    "\n",
    "def true_rating(row):\n",
    "    return round(5 - 4*(1 - row['Ranking'])/(1 - max_rank_by_city[row['City']]),1)\n",
    "\n",
    "data['rating_by_rank'] = data.apply(true_rating, axis = 1)\n",
    "data['rating_by_rank'].sort_values()"
   ]
  },
  {
   "cell_type": "code",
   "execution_count": 18,
   "metadata": {},
   "outputs": [
    {
     "data": {
      "image/png": "[encoded data removed]",
      "text/plain": [
       "<Figure size 720x360 with 2 Axes>"
      ]
     },
     "metadata": {
      "needs_background": "light"
     },
     "output_type": "display_data"
    }
   ],
   "source": [
    "fig, ax = plt.subplots(1,1, figsize = (10,5))\n",
    "ax = sns.heatmap(data.loc[data.City == 'London',['Rating', 'rating_by_rank']].corr(),annot = True, cmap = 'coolwarm')"
   ]
  },
  {
   "cell_type": "code",
   "execution_count": 19,
   "metadata": {},
   "outputs": [
    {
     "data": {
      "text/plain": [
       "<matplotlib.axes._subplots.AxesSubplot at 0x7f5c8d679198>"
      ]
     },
     "execution_count": 19,
     "metadata": {},
     "output_type": "execute_result"
    },
    {
     "data": {
      "image/png": "[encoded data removed]",
      "text/plain": [
       "<Figure size 720x720 with 1 Axes>"
      ]
     },
     "metadata": {
      "needs_background": "light"
     },
     "output_type": "display_data"
    }
   ],
   "source": [
    "data['rating_by_rank'].hist()"
   ]
  },
  {
   "cell_type": "markdown",
   "metadata": {},
   "source": [
    "Новый признак, построенный из Ranking путем лин. преобразования, тем не менее = равномерен и нормален."
   ]
  },
  {
   "cell_type": "code",
   "execution_count": 20,
   "metadata": {},
   "outputs": [
    {
     "data": {
      "text/html": [
       "<div>\n",
       "<style scoped>\n",
       "    .dataframe tbody tr th:only-of-type {\n",
       "        vertical-align: middle;\n",
       "    }\n",
       "\n",
       "    .dataframe tbody tr th {\n",
       "        vertical-align: top;\n",
       "    }\n",
       "\n",
       "    .dataframe thead th {\n",
       "        text-align: right;\n",
       "    }\n",
       "</style>\n",
       "<table border=\"1\" class=\"dataframe\">\n",
       "  <thead>\n",
       "    <tr style=\"text-align: right;\">\n",
       "      <th></th>\n",
       "      <th>Number of Reviews</th>\n",
       "      <th>Ranking</th>\n",
       "      <th>rating_by_rank</th>\n",
       "    </tr>\n",
       "  </thead>\n",
       "  <tbody>\n",
       "    <tr>\n",
       "      <th>16133</th>\n",
       "      <td>0.0</td>\n",
       "      <td>16287.0</td>\n",
       "      <td>1.0</td>\n",
       "    </tr>\n",
       "    <tr>\n",
       "      <th>13461</th>\n",
       "      <td>0.0</td>\n",
       "      <td>16036.0</td>\n",
       "      <td>1.1</td>\n",
       "    </tr>\n",
       "    <tr>\n",
       "      <th>11848</th>\n",
       "      <td>0.0</td>\n",
       "      <td>15979.0</td>\n",
       "      <td>1.1</td>\n",
       "    </tr>\n",
       "    <tr>\n",
       "      <th>33140</th>\n",
       "      <td>3.0</td>\n",
       "      <td>15946.0</td>\n",
       "      <td>1.1</td>\n",
       "    </tr>\n",
       "    <tr>\n",
       "      <th>16891</th>\n",
       "      <td>2.0</td>\n",
       "      <td>15905.0</td>\n",
       "      <td>1.1</td>\n",
       "    </tr>\n",
       "    <tr>\n",
       "      <th>38037</th>\n",
       "      <td>62.0</td>\n",
       "      <td>15639.0</td>\n",
       "      <td>1.2</td>\n",
       "    </tr>\n",
       "    <tr>\n",
       "      <th>25991</th>\n",
       "      <td>2.0</td>\n",
       "      <td>15516.0</td>\n",
       "      <td>1.2</td>\n",
       "    </tr>\n",
       "    <tr>\n",
       "      <th>26424</th>\n",
       "      <td>5.0</td>\n",
       "      <td>13870.0</td>\n",
       "      <td>1.6</td>\n",
       "    </tr>\n",
       "    <tr>\n",
       "      <th>30616</th>\n",
       "      <td>5.0</td>\n",
       "      <td>13245.0</td>\n",
       "      <td>1.8</td>\n",
       "    </tr>\n",
       "    <tr>\n",
       "      <th>35566</th>\n",
       "      <td>5.0</td>\n",
       "      <td>13156.0</td>\n",
       "      <td>1.8</td>\n",
       "    </tr>\n",
       "    <tr>\n",
       "      <th>46968</th>\n",
       "      <td>4.0</td>\n",
       "      <td>12306.0</td>\n",
       "      <td>2.0</td>\n",
       "    </tr>\n",
       "    <tr>\n",
       "      <th>23870</th>\n",
       "      <td>4.0</td>\n",
       "      <td>10602.0</td>\n",
       "      <td>2.4</td>\n",
       "    </tr>\n",
       "    <tr>\n",
       "      <th>33379</th>\n",
       "      <td>6.0</td>\n",
       "      <td>10436.0</td>\n",
       "      <td>2.5</td>\n",
       "    </tr>\n",
       "    <tr>\n",
       "      <th>28706</th>\n",
       "      <td>8.0</td>\n",
       "      <td>10378.0</td>\n",
       "      <td>2.5</td>\n",
       "    </tr>\n",
       "    <tr>\n",
       "      <th>25213</th>\n",
       "      <td>4.0</td>\n",
       "      <td>10267.0</td>\n",
       "      <td>2.5</td>\n",
       "    </tr>\n",
       "    <tr>\n",
       "      <th>16280</th>\n",
       "      <td>4.0</td>\n",
       "      <td>10257.0</td>\n",
       "      <td>2.5</td>\n",
       "    </tr>\n",
       "    <tr>\n",
       "      <th>36127</th>\n",
       "      <td>4.0</td>\n",
       "      <td>10245.0</td>\n",
       "      <td>2.5</td>\n",
       "    </tr>\n",
       "    <tr>\n",
       "      <th>20042</th>\n",
       "      <td>4.0</td>\n",
       "      <td>10231.0</td>\n",
       "      <td>2.5</td>\n",
       "    </tr>\n",
       "    <tr>\n",
       "      <th>21382</th>\n",
       "      <td>6.0</td>\n",
       "      <td>10195.0</td>\n",
       "      <td>2.5</td>\n",
       "    </tr>\n",
       "    <tr>\n",
       "      <th>10787</th>\n",
       "      <td>4.0</td>\n",
       "      <td>10166.0</td>\n",
       "      <td>2.5</td>\n",
       "    </tr>\n",
       "  </tbody>\n",
       "</table>\n",
       "</div>"
      ],
      "text/plain": [
       "       Number of Reviews  Ranking  rating_by_rank\n",
       "16133                0.0  16287.0             1.0\n",
       "13461                0.0  16036.0             1.1\n",
       "11848                0.0  15979.0             1.1\n",
       "33140                3.0  15946.0             1.1\n",
       "16891                2.0  15905.0             1.1\n",
       "38037               62.0  15639.0             1.2\n",
       "25991                2.0  15516.0             1.2\n",
       "26424                5.0  13870.0             1.6\n",
       "30616                5.0  13245.0             1.8\n",
       "35566                5.0  13156.0             1.8\n",
       "46968                4.0  12306.0             2.0\n",
       "23870                4.0  10602.0             2.4\n",
       "33379                6.0  10436.0             2.5\n",
       "28706                8.0  10378.0             2.5\n",
       "25213                4.0  10267.0             2.5\n",
       "16280                4.0  10257.0             2.5\n",
       "36127                4.0  10245.0             2.5\n",
       "20042                4.0  10231.0             2.5\n",
       "21382                6.0  10195.0             2.5\n",
       "10787                4.0  10166.0             2.5"
      ]
     },
     "execution_count": 20,
     "metadata": {},
     "output_type": "execute_result"
    }
   ],
   "source": [
    "data[(data.City == 'London') & (data.Rating == 5)].loc[:,['Number of Reviews', 'Ranking', 'rating_by_rank']].\\\n",
    "sort_values('Ranking', ascending = False).iloc[:20,]"
   ]
  },
  {
   "cell_type": "code",
   "execution_count": 21,
   "metadata": {},
   "outputs": [
    {
     "name": "stderr",
     "output_type": "stream",
     "text": [
      "[Parallel(n_jobs=-1)]: Using backend ThreadingBackend with 4 concurrent workers.\n",
      "[Parallel(n_jobs=-1)]: Done  42 tasks      | elapsed:    0.5s\n",
      "[Parallel(n_jobs=-1)]: Done 100 out of 100 | elapsed:    1.2s finished\n",
      "[Parallel(n_jobs=4)]: Using backend ThreadingBackend with 4 concurrent workers.\n",
      "[Parallel(n_jobs=4)]: Done  42 tasks      | elapsed:    0.0s\n",
      "[Parallel(n_jobs=4)]: Done 100 out of 100 | elapsed:    0.1s finished\n"
     ]
    },
    {
     "data": {
      "text/plain": [
       "0.2651142784144529"
      ]
     },
     "execution_count": 21,
     "metadata": {},
     "output_type": "execute_result"
    },
    {
     "data": {
      "image/png": "[encoded data removed]",
      "text/plain": [
       "<Figure size 720x720 with 1 Axes>"
      ]
     },
     "metadata": {
      "needs_background": "light"
     },
     "output_type": "display_data"
    }
   ],
   "source": [
    "df_preproc = pd.concat([data.loc[:,['Number of Reviews','rating_by_rank']], data.loc[:,['Rating', 'sample']]], axis = 1)\n",
    "model_func(df_preproc)"
   ]
  },
  {
   "cell_type": "markdown",
   "metadata": {},
   "source": [
    "После обработки Ranking предсказание модели значительно улучшилось."
   ]
  },
  {
   "cell_type": "code",
   "execution_count": 22,
   "metadata": {},
   "outputs": [],
   "source": [
    "rating_by_rank = data['rating_by_rank']"
   ]
  },
  {
   "cell_type": "code",
   "execution_count": 23,
   "metadata": {},
   "outputs": [
    {
     "data": {
      "text/html": [
       "<div>\n",
       "<style scoped>\n",
       "    .dataframe tbody tr th:only-of-type {\n",
       "        vertical-align: middle;\n",
       "    }\n",
       "\n",
       "    .dataframe tbody tr th {\n",
       "        vertical-align: top;\n",
       "    }\n",
       "\n",
       "    .dataframe thead th {\n",
       "        text-align: right;\n",
       "    }\n",
       "</style>\n",
       "<table border=\"1\" class=\"dataframe\">\n",
       "  <thead>\n",
       "    <tr style=\"text-align: right;\">\n",
       "      <th></th>\n",
       "      <th>Number of Reviews</th>\n",
       "      <th>Ranking</th>\n",
       "      <th>rating_by_rank</th>\n",
       "      <th>Rating</th>\n",
       "    </tr>\n",
       "  </thead>\n",
       "  <tbody>\n",
       "    <tr>\n",
       "      <th>9558</th>\n",
       "      <td>0.0</td>\n",
       "      <td>16395.0</td>\n",
       "      <td>1.0</td>\n",
       "      <td>0.0</td>\n",
       "    </tr>\n",
       "    <tr>\n",
       "      <th>559</th>\n",
       "      <td>0.0</td>\n",
       "      <td>16327.0</td>\n",
       "      <td>1.0</td>\n",
       "      <td>0.0</td>\n",
       "    </tr>\n",
       "    <tr>\n",
       "      <th>43981</th>\n",
       "      <td>0.0</td>\n",
       "      <td>16333.0</td>\n",
       "      <td>1.0</td>\n",
       "      <td>1.0</td>\n",
       "    </tr>\n",
       "    <tr>\n",
       "      <th>23494</th>\n",
       "      <td>0.0</td>\n",
       "      <td>16418.0</td>\n",
       "      <td>1.0</td>\n",
       "      <td>1.0</td>\n",
       "    </tr>\n",
       "    <tr>\n",
       "      <th>1839</th>\n",
       "      <td>4.0</td>\n",
       "      <td>16292.0</td>\n",
       "      <td>1.0</td>\n",
       "      <td>0.0</td>\n",
       "    </tr>\n",
       "    <tr>\n",
       "      <th>43994</th>\n",
       "      <td>5.0</td>\n",
       "      <td>16296.0</td>\n",
       "      <td>1.0</td>\n",
       "      <td>1.0</td>\n",
       "    </tr>\n",
       "    <tr>\n",
       "      <th>46965</th>\n",
       "      <td>3.0</td>\n",
       "      <td>16308.0</td>\n",
       "      <td>1.0</td>\n",
       "      <td>1.0</td>\n",
       "    </tr>\n",
       "    <tr>\n",
       "      <th>3411</th>\n",
       "      <td>16.0</td>\n",
       "      <td>16250.0</td>\n",
       "      <td>1.0</td>\n",
       "      <td>0.0</td>\n",
       "    </tr>\n",
       "    <tr>\n",
       "      <th>35016</th>\n",
       "      <td>0.0</td>\n",
       "      <td>16435.0</td>\n",
       "      <td>1.0</td>\n",
       "      <td>1.0</td>\n",
       "    </tr>\n",
       "    <tr>\n",
       "      <th>36040</th>\n",
       "      <td>0.0</td>\n",
       "      <td>16386.0</td>\n",
       "      <td>1.0</td>\n",
       "      <td>1.0</td>\n",
       "    </tr>\n",
       "    <tr>\n",
       "      <th>15125</th>\n",
       "      <td>0.0</td>\n",
       "      <td>16312.0</td>\n",
       "      <td>1.0</td>\n",
       "      <td>1.0</td>\n",
       "    </tr>\n",
       "    <tr>\n",
       "      <th>7103</th>\n",
       "      <td>3.0</td>\n",
       "      <td>16363.0</td>\n",
       "      <td>1.0</td>\n",
       "      <td>0.0</td>\n",
       "    </tr>\n",
       "    <tr>\n",
       "      <th>39405</th>\n",
       "      <td>3.0</td>\n",
       "      <td>16420.0</td>\n",
       "      <td>1.0</td>\n",
       "      <td>1.0</td>\n",
       "    </tr>\n",
       "    <tr>\n",
       "      <th>35545</th>\n",
       "      <td>0.0</td>\n",
       "      <td>16444.0</td>\n",
       "      <td>1.0</td>\n",
       "      <td>1.0</td>\n",
       "    </tr>\n",
       "    <tr>\n",
       "      <th>39375</th>\n",
       "      <td>16.0</td>\n",
       "      <td>16304.0</td>\n",
       "      <td>1.0</td>\n",
       "      <td>1.0</td>\n",
       "    </tr>\n",
       "    <tr>\n",
       "      <th>25383</th>\n",
       "      <td>2.0</td>\n",
       "      <td>16282.0</td>\n",
       "      <td>1.0</td>\n",
       "      <td>2.0</td>\n",
       "    </tr>\n",
       "    <tr>\n",
       "      <th>310</th>\n",
       "      <td>2.0</td>\n",
       "      <td>16329.0</td>\n",
       "      <td>1.0</td>\n",
       "      <td>0.0</td>\n",
       "    </tr>\n",
       "    <tr>\n",
       "      <th>27383</th>\n",
       "      <td>2.0</td>\n",
       "      <td>16396.0</td>\n",
       "      <td>1.0</td>\n",
       "      <td>1.0</td>\n",
       "    </tr>\n",
       "    <tr>\n",
       "      <th>3149</th>\n",
       "      <td>2.0</td>\n",
       "      <td>16293.0</td>\n",
       "      <td>1.0</td>\n",
       "      <td>0.0</td>\n",
       "    </tr>\n",
       "    <tr>\n",
       "      <th>35488</th>\n",
       "      <td>49.0</td>\n",
       "      <td>16248.0</td>\n",
       "      <td>1.0</td>\n",
       "      <td>2.0</td>\n",
       "    </tr>\n",
       "  </tbody>\n",
       "</table>\n",
       "</div>"
      ],
      "text/plain": [
       "       Number of Reviews  Ranking  rating_by_rank  Rating\n",
       "9558                 0.0  16395.0             1.0     0.0\n",
       "559                  0.0  16327.0             1.0     0.0\n",
       "43981                0.0  16333.0             1.0     1.0\n",
       "23494                0.0  16418.0             1.0     1.0\n",
       "1839                 4.0  16292.0             1.0     0.0\n",
       "43994                5.0  16296.0             1.0     1.0\n",
       "46965                3.0  16308.0             1.0     1.0\n",
       "3411                16.0  16250.0             1.0     0.0\n",
       "35016                0.0  16435.0             1.0     1.0\n",
       "36040                0.0  16386.0             1.0     1.0\n",
       "15125                0.0  16312.0             1.0     1.0\n",
       "7103                 3.0  16363.0             1.0     0.0\n",
       "39405                3.0  16420.0             1.0     1.0\n",
       "35545                0.0  16444.0             1.0     1.0\n",
       "39375               16.0  16304.0             1.0     1.0\n",
       "25383                2.0  16282.0             1.0     2.0\n",
       "310                  2.0  16329.0             1.0     0.0\n",
       "27383                2.0  16396.0             1.0     1.0\n",
       "3149                 2.0  16293.0             1.0     0.0\n",
       "35488               49.0  16248.0             1.0     2.0"
      ]
     },
     "execution_count": 23,
     "metadata": {},
     "output_type": "execute_result"
    }
   ],
   "source": [
    "data[data.City == 'London'].loc[:,['Number of Reviews', 'Ranking', 'rating_by_rank','Rating']].\\\n",
    "sort_values('rating_by_rank', ascending = True).iloc[:20,]"
   ]
  },
  {
   "cell_type": "code",
   "execution_count": 24,
   "metadata": {},
   "outputs": [
    {
     "data": {
      "text/plain": [
       "15936      0.00608\n",
       "17199      0.01135\n",
       "16194      0.01594\n",
       "15441      0.01681\n",
       "23446      0.02145\n",
       "           ...    \n",
       "25290    100.00000\n",
       "22814    100.00000\n",
       "49427    100.00000\n",
       "17921    100.00000\n",
       "14805    100.00000\n",
       "Name: norm_rank, Length: 50000, dtype: float64"
      ]
     },
     "execution_count": 24,
     "metadata": {},
     "output_type": "execute_result"
    }
   ],
   "source": [
    "# создадим еще один признак на основе Ranking, проверим, какой работает лучше\n",
    "# просто поделим Ranking на макс. значение в городе\n",
    "\n",
    "def norm_rank_funk(row):\n",
    "    return round(row['Ranking']*100/max_rank_by_city[row['City']],5)\n",
    "\n",
    "norm_rank = data.apply(norm_rank_funk, axis = 1)\n",
    "norm_rank.name = 'norm_rank'\n",
    "norm_rank.sort_values()"
   ]
  },
  {
   "cell_type": "code",
   "execution_count": 25,
   "metadata": {},
   "outputs": [
    {
     "data": {
      "text/plain": [
       "<matplotlib.axes._subplots.AxesSubplot at 0x7f5c8d59e978>"
      ]
     },
     "execution_count": 25,
     "metadata": {},
     "output_type": "execute_result"
    },
    {
     "data": {
      "image/png": "[encoded data removed]",
      "text/plain": [
       "<Figure size 720x720 with 1 Axes>"
      ]
     },
     "metadata": {
      "needs_background": "light"
     },
     "output_type": "display_data"
    }
   ],
   "source": [
    "norm_rank.hist()"
   ]
  },
  {
   "cell_type": "code",
   "execution_count": 26,
   "metadata": {},
   "outputs": [
    {
     "data": {
      "text/plain": [
       "{'whiskers': [<matplotlib.lines.Line2D at 0x7f5c8e28dc50>,\n",
       "  <matplotlib.lines.Line2D at 0x7f5c8e2ad2b0>],\n",
       " 'caps': [<matplotlib.lines.Line2D at 0x7f5c8e2ad550>,\n",
       "  <matplotlib.lines.Line2D at 0x7f5c8e2adb38>],\n",
       " 'boxes': [<matplotlib.lines.Line2D at 0x7f5c8e28d9b0>],\n",
       " 'medians': [<matplotlib.lines.Line2D at 0x7f5c8e2adf98>],\n",
       " 'fliers': [<matplotlib.lines.Line2D at 0x7f5c8e236240>],\n",
       " 'means': []}"
      ]
     },
     "execution_count": 26,
     "metadata": {},
     "output_type": "execute_result"
    },
    {
     "data": {
      "image/png": "[encoded data removed]",
      "text/plain": [
       "<Figure size 360x360 with 1 Axes>"
      ]
     },
     "metadata": {
      "needs_background": "light"
     },
     "output_type": "display_data"
    }
   ],
   "source": [
    "plt.figure(figsize = (5,5))\n",
    "plt.boxplot(norm_rank, vert = False)"
   ]
  },
  {
   "cell_type": "markdown",
   "metadata": {},
   "source": [
    "Новый признак также не имеет смещений и выбросов.\n",
    "Посмотрим на поведение модели на новом признаке"
   ]
  },
  {
   "cell_type": "code",
   "execution_count": 27,
   "metadata": {},
   "outputs": [
    {
     "name": "stderr",
     "output_type": "stream",
     "text": [
      "[Parallel(n_jobs=-1)]: Using backend ThreadingBackend with 4 concurrent workers.\n",
      "[Parallel(n_jobs=-1)]: Done  42 tasks      | elapsed:    1.1s\n",
      "[Parallel(n_jobs=-1)]: Done 100 out of 100 | elapsed:    2.5s finished\n",
      "[Parallel(n_jobs=4)]: Using backend ThreadingBackend with 4 concurrent workers.\n",
      "[Parallel(n_jobs=4)]: Done  42 tasks      | elapsed:    0.1s\n",
      "[Parallel(n_jobs=4)]: Done 100 out of 100 | elapsed:    0.1s finished\n"
     ]
    },
    {
     "data": {
      "text/plain": [
       "0.26845676190476186"
      ]
     },
     "execution_count": 27,
     "metadata": {},
     "output_type": "execute_result"
    },
    {
     "data": {
      "image/png": "[encoded data removed]",
      "text/plain": [
       "<Figure size 720x720 with 1 Axes>"
      ]
     },
     "metadata": {
      "needs_background": "light"
     },
     "output_type": "display_data"
    }
   ],
   "source": [
    "df_preproc = pd.concat([data.loc[:,['Rating', 'sample']], number_rew, number_rew_nan, norm_rank], axis = 1)\n",
    "model_func(df_preproc)"
   ]
  },
  {
   "cell_type": "markdown",
   "metadata": {},
   "source": [
    "Новый признак не особо повлиял на модель. Оставим для модели признак norm_rank."
   ]
  },
  {
   "cell_type": "code",
   "execution_count": 28,
   "metadata": {},
   "outputs": [
    {
     "data": {
      "text/plain": [
       "18364     55.08\n",
       "38922     25.83\n",
       "46487     56.78\n",
       "17848     54.15\n",
       "22797    122.43\n",
       "Name: mean_rews, dtype: float64"
      ]
     },
     "execution_count": 28,
     "metadata": {},
     "output_type": "execute_result"
    }
   ],
   "source": [
    "# среднее количество отзывов в городе\n",
    "mean_rews_by_city = round((data.groupby(['City']).sum()['Number of Reviews']\n",
    "                           /data.groupby(['City']).max()['Ranking']),2)\n",
    "\n",
    "mean_rews = data.City.apply(lambda x: mean_rews_by_city[x])\n",
    "mean_rews.name = 'mean_rews'\n",
    "mean_rews.sample(5)"
   ]
  },
  {
   "cell_type": "code",
   "execution_count": 29,
   "metadata": {},
   "outputs": [
    {
     "data": {
      "text/html": [
       "<div>\n",
       "<style scoped>\n",
       "    .dataframe tbody tr th:only-of-type {\n",
       "        vertical-align: middle;\n",
       "    }\n",
       "\n",
       "    .dataframe tbody tr th {\n",
       "        vertical-align: top;\n",
       "    }\n",
       "\n",
       "    .dataframe thead th {\n",
       "        text-align: right;\n",
       "    }\n",
       "</style>\n",
       "<table border=\"1\" class=\"dataframe\">\n",
       "  <thead>\n",
       "    <tr style=\"text-align: right;\">\n",
       "      <th></th>\n",
       "      <th>max_rank</th>\n",
       "      <th>places_counts</th>\n",
       "    </tr>\n",
       "  </thead>\n",
       "  <tbody>\n",
       "    <tr>\n",
       "      <th>28138</th>\n",
       "      <td>1766.0</td>\n",
       "      <td>745</td>\n",
       "    </tr>\n",
       "    <tr>\n",
       "      <th>39059</th>\n",
       "      <td>6372.0</td>\n",
       "      <td>2705</td>\n",
       "    </tr>\n",
       "    <tr>\n",
       "      <th>30879</th>\n",
       "      <td>3254.0</td>\n",
       "      <td>1372</td>\n",
       "    </tr>\n",
       "    <tr>\n",
       "      <th>20326</th>\n",
       "      <td>6275.0</td>\n",
       "      <td>2694</td>\n",
       "    </tr>\n",
       "    <tr>\n",
       "      <th>36852</th>\n",
       "      <td>2737.0</td>\n",
       "      <td>1186</td>\n",
       "    </tr>\n",
       "    <tr>\n",
       "      <th>14473</th>\n",
       "      <td>3254.0</td>\n",
       "      <td>1372</td>\n",
       "    </tr>\n",
       "    <tr>\n",
       "      <th>34544</th>\n",
       "      <td>2666.0</td>\n",
       "      <td>1126</td>\n",
       "    </tr>\n",
       "    <tr>\n",
       "      <th>22075</th>\n",
       "      <td>1137.0</td>\n",
       "      <td>488</td>\n",
       "    </tr>\n",
       "    <tr>\n",
       "      <th>5147</th>\n",
       "      <td>8809.0</td>\n",
       "      <td>3813</td>\n",
       "    </tr>\n",
       "    <tr>\n",
       "      <th>47604</th>\n",
       "      <td>2737.0</td>\n",
       "      <td>1186</td>\n",
       "    </tr>\n",
       "  </tbody>\n",
       "</table>\n",
       "</div>"
      ],
      "text/plain": [
       "       max_rank  places_counts\n",
       "28138    1766.0            745\n",
       "39059    6372.0           2705\n",
       "30879    3254.0           1372\n",
       "20326    6275.0           2694\n",
       "36852    2737.0           1186\n",
       "14473    3254.0           1372\n",
       "34544    2666.0           1126\n",
       "22075    1137.0            488\n",
       "5147     8809.0           3813\n",
       "47604    2737.0           1186"
      ]
     },
     "execution_count": 29,
     "metadata": {},
     "output_type": "execute_result"
    }
   ],
   "source": [
    "# два признака для количество ресторанов в городе, один на основе макс Ranking, другой просто по количеству записей в городе\n",
    "\n",
    "max_rank = data.City.apply(lambda x: max_rank_by_city[x])\n",
    "max_rank.name = 'max_rank'\n",
    "\n",
    "places_counts_by_sity = data.groupby(['City']).count().Ranking\n",
    "places_counts = data.City.apply(lambda x: places_counts_by_sity[x])\n",
    "places_counts.name = 'places_counts'\n",
    "\n",
    "pd.concat([max_rank, places_counts], axis = 1).sample(10)"
   ]
  },
  {
   "cell_type": "code",
   "execution_count": 30,
   "metadata": {},
   "outputs": [
    {
     "name": "stderr",
     "output_type": "stream",
     "text": [
      "[Parallel(n_jobs=-1)]: Using backend ThreadingBackend with 4 concurrent workers.\n",
      "[Parallel(n_jobs=-1)]: Done  42 tasks      | elapsed:    1.3s\n",
      "[Parallel(n_jobs=-1)]: Done 100 out of 100 | elapsed:    3.1s finished\n",
      "[Parallel(n_jobs=4)]: Using backend ThreadingBackend with 4 concurrent workers.\n",
      "[Parallel(n_jobs=4)]: Done  42 tasks      | elapsed:    0.0s\n",
      "[Parallel(n_jobs=4)]: Done 100 out of 100 | elapsed:    0.1s finished\n"
     ]
    },
    {
     "data": {
      "text/plain": [
       "0.207701875"
      ]
     },
     "execution_count": 30,
     "metadata": {},
     "output_type": "execute_result"
    },
    {
     "data": {
      "image/png": "[encoded data removed]",
      "text/plain": [
       "<Figure size 720x720 with 1 Axes>"
      ]
     },
     "metadata": {
      "needs_background": "light"
     },
     "output_type": "display_data"
    }
   ],
   "source": [
    "df_preproc = pd.concat([data.loc[:,['Rating', 'sample']], number_rew, number_rew_nan, norm_rank, mean_rews, places_counts], axis = 1)\n",
    "model_func(df_preproc)"
   ]
  },
  {
   "cell_type": "markdown",
   "metadata": {},
   "source": [
    "Модель улучшилась."
   ]
  },
  {
   "cell_type": "markdown",
   "metadata": {},
   "source": [
    "### Склеим все новые признаки и посмотирм на матрицу корреляции"
   ]
  },
  {
   "cell_type": "code",
   "execution_count": 31,
   "metadata": {},
   "outputs": [
    {
     "name": "stdout",
     "output_type": "stream",
     "text": [
      "<class 'pandas.core.frame.DataFrame'>\n",
      "RangeIndex: 50000 entries, 0 to 49999\n",
      "Data columns (total 6 columns):\n",
      "number_rew        50000 non-null float64\n",
      "norm_rank         50000 non-null float64\n",
      "rating_by_rank    50000 non-null float64\n",
      "mean_rews         50000 non-null float64\n",
      "places_counts     50000 non-null int64\n",
      "Rating            50000 non-null float64\n",
      "dtypes: float64(5), int64(1)\n",
      "memory usage: 2.3 MB\n"
     ]
    }
   ],
   "source": [
    "X = pd.concat([number_rew, norm_rank, rating_by_rank, mean_rews, places_counts, data['Rating']], axis = 1)\n",
    "X.info()"
   ]
  },
  {
   "cell_type": "code",
   "execution_count": 32,
   "metadata": {},
   "outputs": [
    {
     "data": {
      "image/png": "[encoded data removed]",
      "text/plain": [
       "<Figure size 720x360 with 2 Axes>"
      ]
     },
     "metadata": {
      "needs_background": "light"
     },
     "output_type": "display_data"
    }
   ],
   "source": [
    "fig, ax = plt.subplots(1,1, figsize = (10,5))\n",
    "ax = sns.heatmap(X.corr(),annot = True, cmap = 'coolwarm')"
   ]
  },
  {
   "cell_type": "markdown",
   "metadata": {},
   "source": [
    "Очевидно, что признаки norm_rank и rating_by_rank имеют корреляцию = -1, так как получены один из другого путем линейного преобразования."
   ]
  },
  {
   "cell_type": "markdown",
   "metadata": {},
   "source": [
    "## 3. Обработка категориальных признаков\n",
    "Для начала посмотрим какие признаки у нас могут быть категориальными."
   ]
  },
  {
   "cell_type": "code",
   "execution_count": 33,
   "metadata": {},
   "outputs": [
    {
     "name": "stdout",
     "output_type": "stream",
     "text": [
      "<class 'pandas.core.frame.DataFrame'>\n",
      "RangeIndex: 50000 entries, 0 to 49999\n",
      "Data columns (total 12 columns):\n",
      "Restaurant_id        50000 non-null object\n",
      "City                 50000 non-null object\n",
      "Cuisine Style        38410 non-null object\n",
      "Ranking              50000 non-null float64\n",
      "Price Range          32639 non-null object\n",
      "Number of Reviews    50000 non-null float64\n",
      "Reviews              49998 non-null object\n",
      "URL_TA               50000 non-null object\n",
      "ID_TA                50000 non-null object\n",
      "sample               50000 non-null int64\n",
      "Rating               50000 non-null float64\n",
      "rating_by_rank       50000 non-null float64\n",
      "dtypes: float64(4), int64(1), object(7)\n",
      "memory usage: 4.6+ MB\n"
     ]
    }
   ],
   "source": [
    "data.info()"
   ]
  },
  {
   "cell_type": "markdown",
   "metadata": {},
   "source": [
    "Посмотрим на признак City. Является ли он значимым для модели?"
   ]
  },
  {
   "cell_type": "code",
   "execution_count": 34,
   "metadata": {},
   "outputs": [
    {
     "data": {
      "image/png": "[encoded data removed]",
      "text/plain": [
       "<Figure size 1080x360 with 1 Axes>"
      ]
     },
     "metadata": {
      "needs_background": "light"
     },
     "output_type": "display_data"
    }
   ],
   "source": [
    "all_cities = data.City.value_counts().index\n",
    "\n",
    "fig, ax = plt.subplots(figsize = (15, 5))\n",
    "\n",
    "sns.boxplot(x='City', y='Rating',data=data[data.Rating > 0],ax=ax)\n",
    "\n",
    "plt.xticks(rotation=45)\n",
    "ax.set_title('Boxplot for City')\n",
    "\n",
    "plt.show()"
   ]
  },
  {
   "cell_type": "markdown",
   "metadata": {},
   "source": [
    "Признак, очевидно, значим для определения Rating"
   ]
  },
  {
   "cell_type": "code",
   "execution_count": 35,
   "metadata": {},
   "outputs": [
    {
     "data": {
      "text/plain": [
       "['Madrid',\n",
       " 'Rome',\n",
       " 'Brussels',\n",
       " 'Lyon',\n",
       " 'Stockholm',\n",
       " 'Athens',\n",
       " 'Oslo',\n",
       " 'Bratislava',\n",
       " 'Luxembourg',\n",
       " 'Ljubljana']"
      ]
     },
     "execution_count": 35,
     "metadata": {},
     "output_type": "execute_result"
    }
   ],
   "source": [
    "# выделим список с городами, боксплоты которых отличаются от остальных\n",
    "phen_cities = [ i for i in all_cities if data[data.City == i].quantile(q = 0.75).Rating - data[data.City == i].quantile(q = 0.25).Rating != 1.5]\n",
    "phen_cities  "
   ]
  },
  {
   "cell_type": "markdown",
   "metadata": {},
   "source": [
    "### 3.1. Сконструируем dummy-признаки из City"
   ]
  },
  {
   "cell_type": "code",
   "execution_count": 36,
   "metadata": {},
   "outputs": [
    {
     "data": {
      "text/plain": [
       "array(['Paris', 'Helsinki', 'Edinburgh', 'London', 'Bratislava', 'Lisbon',\n",
       "       'Budapest', 'Stockholm', 'Rome', 'Milan', 'Munich', 'Hamburg',\n",
       "       'Prague', 'Vienna', 'Dublin', 'Barcelona', 'Brussels', 'Madrid',\n",
       "       'Oslo', 'Amsterdam', 'Berlin', 'Lyon', 'Athens', 'Warsaw',\n",
       "       'Oporto', 'Krakow', 'Copenhagen', 'Luxembourg', 'Zurich', 'Geneva',\n",
       "       'Ljubljana'], dtype=object)"
      ]
     },
     "execution_count": 36,
     "metadata": {},
     "output_type": "execute_result"
    }
   ],
   "source": [
    "data.City.unique()"
   ]
  },
  {
   "cell_type": "code",
   "execution_count": 37,
   "metadata": {},
   "outputs": [
    {
     "data": {
      "text/plain": [
       "other         37996\n",
       "Madrid         3813\n",
       "Rome           2589\n",
       "Brussels       1314\n",
       "Lyon           1126\n",
       "Stockholm      1033\n",
       "Athens          776\n",
       "Oslo            488\n",
       "Bratislava      380\n",
       "Luxembourg      263\n",
       "Ljubljana       222\n",
       "Name: phen_cities, dtype: int64"
      ]
     },
     "execution_count": 37,
     "metadata": {},
     "output_type": "execute_result"
    }
   ],
   "source": [
    "# создадим отдельный признак с городами, у которых боксплоты отличаются от остальных\n",
    "\n",
    "data['phen_cities'] = data.City.apply(lambda x: x if x in phen_cities else 'other')\n",
    "data['phen_cities'].value_counts()"
   ]
  },
  {
   "cell_type": "code",
   "execution_count": 38,
   "metadata": {},
   "outputs": [
    {
     "data": {
      "text/html": [
       "<div>\n",
       "<style scoped>\n",
       "    .dataframe tbody tr th:only-of-type {\n",
       "        vertical-align: middle;\n",
       "    }\n",
       "\n",
       "    .dataframe tbody tr th {\n",
       "        vertical-align: top;\n",
       "    }\n",
       "\n",
       "    .dataframe thead th {\n",
       "        text-align: right;\n",
       "    }\n",
       "</style>\n",
       "<table border=\"1\" class=\"dataframe\">\n",
       "  <thead>\n",
       "    <tr style=\"text-align: right;\">\n",
       "      <th></th>\n",
       "      <th>Amsterdam</th>\n",
       "      <th>Athens</th>\n",
       "      <th>Barcelona</th>\n",
       "      <th>Berlin</th>\n",
       "      <th>Bratislava</th>\n",
       "      <th>Brussels</th>\n",
       "      <th>Budapest</th>\n",
       "      <th>Copenhagen</th>\n",
       "      <th>Dublin</th>\n",
       "      <th>Edinburgh</th>\n",
       "      <th>...</th>\n",
       "      <th>Munich</th>\n",
       "      <th>Oporto</th>\n",
       "      <th>Oslo</th>\n",
       "      <th>Paris</th>\n",
       "      <th>Prague</th>\n",
       "      <th>Rome</th>\n",
       "      <th>Stockholm</th>\n",
       "      <th>Vienna</th>\n",
       "      <th>Warsaw</th>\n",
       "      <th>Zurich</th>\n",
       "    </tr>\n",
       "  </thead>\n",
       "  <tbody>\n",
       "    <tr>\n",
       "      <th>21096</th>\n",
       "      <td>0</td>\n",
       "      <td>0</td>\n",
       "      <td>0</td>\n",
       "      <td>1</td>\n",
       "      <td>0</td>\n",
       "      <td>0</td>\n",
       "      <td>0</td>\n",
       "      <td>0</td>\n",
       "      <td>0</td>\n",
       "      <td>0</td>\n",
       "      <td>...</td>\n",
       "      <td>0</td>\n",
       "      <td>0</td>\n",
       "      <td>0</td>\n",
       "      <td>0</td>\n",
       "      <td>0</td>\n",
       "      <td>0</td>\n",
       "      <td>0</td>\n",
       "      <td>0</td>\n",
       "      <td>0</td>\n",
       "      <td>0</td>\n",
       "    </tr>\n",
       "    <tr>\n",
       "      <th>24540</th>\n",
       "      <td>0</td>\n",
       "      <td>0</td>\n",
       "      <td>0</td>\n",
       "      <td>0</td>\n",
       "      <td>0</td>\n",
       "      <td>0</td>\n",
       "      <td>0</td>\n",
       "      <td>0</td>\n",
       "      <td>0</td>\n",
       "      <td>0</td>\n",
       "      <td>...</td>\n",
       "      <td>0</td>\n",
       "      <td>0</td>\n",
       "      <td>0</td>\n",
       "      <td>0</td>\n",
       "      <td>0</td>\n",
       "      <td>0</td>\n",
       "      <td>0</td>\n",
       "      <td>0</td>\n",
       "      <td>0</td>\n",
       "      <td>0</td>\n",
       "    </tr>\n",
       "    <tr>\n",
       "      <th>21155</th>\n",
       "      <td>0</td>\n",
       "      <td>0</td>\n",
       "      <td>0</td>\n",
       "      <td>0</td>\n",
       "      <td>0</td>\n",
       "      <td>0</td>\n",
       "      <td>0</td>\n",
       "      <td>0</td>\n",
       "      <td>0</td>\n",
       "      <td>0</td>\n",
       "      <td>...</td>\n",
       "      <td>0</td>\n",
       "      <td>0</td>\n",
       "      <td>0</td>\n",
       "      <td>0</td>\n",
       "      <td>0</td>\n",
       "      <td>0</td>\n",
       "      <td>0</td>\n",
       "      <td>0</td>\n",
       "      <td>0</td>\n",
       "      <td>0</td>\n",
       "    </tr>\n",
       "    <tr>\n",
       "      <th>45066</th>\n",
       "      <td>0</td>\n",
       "      <td>0</td>\n",
       "      <td>0</td>\n",
       "      <td>0</td>\n",
       "      <td>0</td>\n",
       "      <td>0</td>\n",
       "      <td>0</td>\n",
       "      <td>0</td>\n",
       "      <td>0</td>\n",
       "      <td>0</td>\n",
       "      <td>...</td>\n",
       "      <td>0</td>\n",
       "      <td>0</td>\n",
       "      <td>0</td>\n",
       "      <td>1</td>\n",
       "      <td>0</td>\n",
       "      <td>0</td>\n",
       "      <td>0</td>\n",
       "      <td>0</td>\n",
       "      <td>0</td>\n",
       "      <td>0</td>\n",
       "    </tr>\n",
       "    <tr>\n",
       "      <th>11528</th>\n",
       "      <td>0</td>\n",
       "      <td>0</td>\n",
       "      <td>0</td>\n",
       "      <td>0</td>\n",
       "      <td>0</td>\n",
       "      <td>0</td>\n",
       "      <td>0</td>\n",
       "      <td>0</td>\n",
       "      <td>0</td>\n",
       "      <td>0</td>\n",
       "      <td>...</td>\n",
       "      <td>0</td>\n",
       "      <td>0</td>\n",
       "      <td>0</td>\n",
       "      <td>1</td>\n",
       "      <td>0</td>\n",
       "      <td>0</td>\n",
       "      <td>0</td>\n",
       "      <td>0</td>\n",
       "      <td>0</td>\n",
       "      <td>0</td>\n",
       "    </tr>\n",
       "  </tbody>\n",
       "</table>\n",
       "<p>5 rows × 31 columns</p>\n",
       "</div>"
      ],
      "text/plain": [
       "       Amsterdam  Athens  Barcelona  Berlin  Bratislava  Brussels  Budapest  \\\n",
       "21096          0       0          0       1           0         0         0   \n",
       "24540          0       0          0       0           0         0         0   \n",
       "21155          0       0          0       0           0         0         0   \n",
       "45066          0       0          0       0           0         0         0   \n",
       "11528          0       0          0       0           0         0         0   \n",
       "\n",
       "       Copenhagen  Dublin  Edinburgh  ...  Munich  Oporto  Oslo  Paris  \\\n",
       "21096           0       0          0  ...       0       0     0      0   \n",
       "24540           0       0          0  ...       0       0     0      0   \n",
       "21155           0       0          0  ...       0       0     0      0   \n",
       "45066           0       0          0  ...       0       0     0      1   \n",
       "11528           0       0          0  ...       0       0     0      1   \n",
       "\n",
       "       Prague  Rome  Stockholm  Vienna  Warsaw  Zurich  \n",
       "21096       0     0          0       0       0       0  \n",
       "24540       0     0          0       0       0       0  \n",
       "21155       0     0          0       0       0       0  \n",
       "45066       0     0          0       0       0       0  \n",
       "11528       0     0          0       0       0       0  \n",
       "\n",
       "[5 rows x 31 columns]"
      ]
     },
     "execution_count": 38,
     "metadata": {},
     "output_type": "execute_result"
    }
   ],
   "source": [
    "# воспользуемся get_dummies\n",
    "\n",
    "cities = pd.get_dummies(data.City, columns=[ 'City'])\n",
    "cities.sample(5)"
   ]
  },
  {
   "cell_type": "code",
   "execution_count": 39,
   "metadata": {},
   "outputs": [
    {
     "data": {
      "text/html": [
       "<div>\n",
       "<style scoped>\n",
       "    .dataframe tbody tr th:only-of-type {\n",
       "        vertical-align: middle;\n",
       "    }\n",
       "\n",
       "    .dataframe tbody tr th {\n",
       "        vertical-align: top;\n",
       "    }\n",
       "\n",
       "    .dataframe thead th {\n",
       "        text-align: right;\n",
       "    }\n",
       "</style>\n",
       "<table border=\"1\" class=\"dataframe\">\n",
       "  <thead>\n",
       "    <tr style=\"text-align: right;\">\n",
       "      <th></th>\n",
       "      <th>Athens</th>\n",
       "      <th>Bratislava</th>\n",
       "      <th>Brussels</th>\n",
       "      <th>Ljubljana</th>\n",
       "      <th>Luxembourg</th>\n",
       "      <th>Lyon</th>\n",
       "      <th>Madrid</th>\n",
       "      <th>Oslo</th>\n",
       "      <th>Rome</th>\n",
       "      <th>Stockholm</th>\n",
       "      <th>other</th>\n",
       "    </tr>\n",
       "  </thead>\n",
       "  <tbody>\n",
       "    <tr>\n",
       "      <th>6432</th>\n",
       "      <td>0</td>\n",
       "      <td>0</td>\n",
       "      <td>0</td>\n",
       "      <td>0</td>\n",
       "      <td>0</td>\n",
       "      <td>0</td>\n",
       "      <td>0</td>\n",
       "      <td>0</td>\n",
       "      <td>0</td>\n",
       "      <td>0</td>\n",
       "      <td>1</td>\n",
       "    </tr>\n",
       "    <tr>\n",
       "      <th>9014</th>\n",
       "      <td>0</td>\n",
       "      <td>0</td>\n",
       "      <td>0</td>\n",
       "      <td>0</td>\n",
       "      <td>0</td>\n",
       "      <td>0</td>\n",
       "      <td>0</td>\n",
       "      <td>0</td>\n",
       "      <td>0</td>\n",
       "      <td>0</td>\n",
       "      <td>1</td>\n",
       "    </tr>\n",
       "    <tr>\n",
       "      <th>12240</th>\n",
       "      <td>0</td>\n",
       "      <td>0</td>\n",
       "      <td>0</td>\n",
       "      <td>0</td>\n",
       "      <td>0</td>\n",
       "      <td>0</td>\n",
       "      <td>0</td>\n",
       "      <td>0</td>\n",
       "      <td>0</td>\n",
       "      <td>0</td>\n",
       "      <td>1</td>\n",
       "    </tr>\n",
       "    <tr>\n",
       "      <th>33215</th>\n",
       "      <td>0</td>\n",
       "      <td>0</td>\n",
       "      <td>0</td>\n",
       "      <td>0</td>\n",
       "      <td>0</td>\n",
       "      <td>0</td>\n",
       "      <td>1</td>\n",
       "      <td>0</td>\n",
       "      <td>0</td>\n",
       "      <td>0</td>\n",
       "      <td>0</td>\n",
       "    </tr>\n",
       "    <tr>\n",
       "      <th>7036</th>\n",
       "      <td>0</td>\n",
       "      <td>0</td>\n",
       "      <td>0</td>\n",
       "      <td>0</td>\n",
       "      <td>0</td>\n",
       "      <td>0</td>\n",
       "      <td>0</td>\n",
       "      <td>0</td>\n",
       "      <td>0</td>\n",
       "      <td>0</td>\n",
       "      <td>1</td>\n",
       "    </tr>\n",
       "  </tbody>\n",
       "</table>\n",
       "</div>"
      ],
      "text/plain": [
       "       Athens  Bratislava  Brussels  Ljubljana  Luxembourg  Lyon  Madrid  \\\n",
       "6432        0           0         0          0           0     0       0   \n",
       "9014        0           0         0          0           0     0       0   \n",
       "12240       0           0         0          0           0     0       0   \n",
       "33215       0           0         0          0           0     0       1   \n",
       "7036        0           0         0          0           0     0       0   \n",
       "\n",
       "       Oslo  Rome  Stockholm  other  \n",
       "6432      0     0          0      1  \n",
       "9014      0     0          0      1  \n",
       "12240     0     0          0      1  \n",
       "33215     0     0          0      0  \n",
       "7036      0     0          0      1  "
      ]
     },
     "execution_count": 39,
     "metadata": {},
     "output_type": "execute_result"
    }
   ],
   "source": [
    "phen_cities_dummy = pd.get_dummies(data.phen_cities, columns=[ 'phen_cities'])\n",
    "phen_cities_dummy.sample(5)"
   ]
  },
  {
   "cell_type": "code",
   "execution_count": 40,
   "metadata": {},
   "outputs": [
    {
     "name": "stderr",
     "output_type": "stream",
     "text": [
      "[Parallel(n_jobs=-1)]: Using backend ThreadingBackend with 4 concurrent workers.\n",
      "[Parallel(n_jobs=-1)]: Done  42 tasks      | elapsed:    2.6s\n",
      "[Parallel(n_jobs=-1)]: Done 100 out of 100 | elapsed:    6.1s finished\n",
      "[Parallel(n_jobs=4)]: Using backend ThreadingBackend with 4 concurrent workers.\n",
      "[Parallel(n_jobs=4)]: Done  42 tasks      | elapsed:    0.0s\n",
      "[Parallel(n_jobs=4)]: Done 100 out of 100 | elapsed:    0.1s finished\n"
     ]
    },
    {
     "data": {
      "text/plain": [
       "0.20698124999999998"
      ]
     },
     "execution_count": 40,
     "metadata": {},
     "output_type": "execute_result"
    },
    {
     "data": {
      "image/png": "[encoded data removed]",
      "text/plain": [
       "<Figure size 720x720 with 1 Axes>"
      ]
     },
     "metadata": {
      "needs_background": "light"
     },
     "output_type": "display_data"
    }
   ],
   "source": [
    "# проверим дамми признаки на модели\n",
    "\n",
    "df_preproc = pd.concat([data.loc[:,['Rating', 'sample']], \\\n",
    "                        number_rew, number_rew_nan, norm_rank, mean_rews, places_counts, \\\n",
    "                        cities], axis = 1)\n",
    "model_func(df_preproc)"
   ]
  },
  {
   "cell_type": "markdown",
   "metadata": {},
   "source": [
    "Модель дает более точное предсказание на всех городах. Оставим для модели cities"
   ]
  },
  {
   "cell_type": "markdown",
   "metadata": {},
   "source": [
    "### 3.2. Обработаем признак \"Price Range\"."
   ]
  },
  {
   "cell_type": "code",
   "execution_count": 41,
   "metadata": {},
   "outputs": [
    {
     "data": {
      "text/plain": [
       "$$ - $$$    23041\n",
       "$            7816\n",
       "$$$$         1782\n",
       "Name: Price Range, dtype: int64"
      ]
     },
     "execution_count": 41,
     "metadata": {},
     "output_type": "execute_result"
    }
   ],
   "source": [
    "data['Price Range'].value_counts()"
   ]
  },
  {
   "cell_type": "code",
   "execution_count": 42,
   "metadata": {},
   "outputs": [
    {
     "data": {
      "text/plain": [
       "17361"
      ]
     },
     "execution_count": 42,
     "metadata": {},
     "output_type": "execute_result"
    }
   ],
   "source": [
    "data['Price Range'].isna().sum()"
   ]
  },
  {
   "cell_type": "code",
   "execution_count": 43,
   "metadata": {},
   "outputs": [],
   "source": [
    "# Пропусков в цене много. Выделим пропуски в цене в отдельный признак\n",
    "\n",
    "price_isnan = pd.isna(data['Price Range']).astype('uint8')\n",
    "price_isnan.name = 'price_isnan'"
   ]
  },
  {
   "cell_type": "code",
   "execution_count": 44,
   "metadata": {},
   "outputs": [
    {
     "data": {
      "text/plain": [
       "2    23041\n",
       "0    17361\n",
       "1     7816\n",
       "3     1782\n",
       "Name: prices, dtype: int64"
      ]
     },
     "execution_count": 44,
     "metadata": {},
     "output_type": "execute_result"
    }
   ],
   "source": [
    "# Определим функцию для заполнения Price Range\n",
    "\n",
    "def price_ordinal(price):\n",
    "    if price == '$':\n",
    "        result = 1\n",
    "    elif price == '$$ - $$$':\n",
    "        result = 2\n",
    "    elif price == '$$$$':\n",
    "        result = 3\n",
    "    else:\n",
    "        result = 0\n",
    "    return result\n",
    "\n",
    "prices = data['Price Range'].apply(price_ordinal)\n",
    "prices.name = 'prices'\n",
    "\n",
    "prices.value_counts()"
   ]
  },
  {
   "cell_type": "code",
   "execution_count": 45,
   "metadata": {},
   "outputs": [
    {
     "name": "stderr",
     "output_type": "stream",
     "text": [
      "[Parallel(n_jobs=-1)]: Using backend ThreadingBackend with 4 concurrent workers.\n",
      "[Parallel(n_jobs=-1)]: Done  42 tasks      | elapsed:    2.6s\n",
      "[Parallel(n_jobs=-1)]: Done 100 out of 100 | elapsed:    6.0s finished\n",
      "[Parallel(n_jobs=4)]: Using backend ThreadingBackend with 4 concurrent workers.\n",
      "[Parallel(n_jobs=4)]: Done  42 tasks      | elapsed:    0.0s\n",
      "[Parallel(n_jobs=4)]: Done 100 out of 100 | elapsed:    0.1s finished\n"
     ]
    },
    {
     "data": {
      "text/plain": [
       "0.204948125"
      ]
     },
     "execution_count": 45,
     "metadata": {},
     "output_type": "execute_result"
    },
    {
     "data": {
      "image/png": "[encoded data removed]",
      "text/plain": [
       "<Figure size 720x720 with 1 Axes>"
      ]
     },
     "metadata": {
      "needs_background": "light"
     },
     "output_type": "display_data"
    }
   ],
   "source": [
    "# проверим модель с обработанной ценой\n",
    "\n",
    "df_preproc = pd.concat([data.loc[:,['Rating', 'sample']], \\\n",
    "                        number_rew, number_rew_nan, norm_rank, mean_rews, places_counts, \\\n",
    "                        cities, prices, price_isnan], axis = 1)\n",
    "model_func(df_preproc)"
   ]
  },
  {
   "cell_type": "markdown",
   "metadata": {},
   "source": [
    "### 3.3. Обработаем Cuisine Style"
   ]
  },
  {
   "cell_type": "code",
   "execution_count": 46,
   "metadata": {},
   "outputs": [
    {
     "data": {
      "text/plain": [
       "125"
      ]
     },
     "execution_count": 46,
     "metadata": {},
     "output_type": "execute_result"
    }
   ],
   "source": [
    "# посмотрим, сколько всего стилей кухни встречается датасете\n",
    "\n",
    "cuisine_styles = Counter()\n",
    "\n",
    "for i in data['Cuisine Style'].dropna():\n",
    "    l = re.sub('\\s\\'|\\'','', i)[1:-1].split(',')\n",
    "    cuisine_styles.update(l)\n",
    "\n",
    "cuisines = [x[0] for x in cuisine_styles.most_common()]\n",
    "\n",
    "len(cuisines)\n"
   ]
  },
  {
   "cell_type": "code",
   "execution_count": 47,
   "metadata": {},
   "outputs": [
    {
     "data": {
      "text/plain": [
       "[('Vegetarian Friendly', 14021),\n",
       " ('European', 12561),\n",
       " ('Mediterranean', 7820),\n",
       " ('Italian', 7433),\n",
       " ('Vegan Options', 5684),\n",
       " ('Gluten Free Options', 5185),\n",
       " ('Bar', 4094),\n",
       " ('French', 3970),\n",
       " ('Asian', 3786),\n",
       " ('Pizza', 3502),\n",
       " ('Spanish', 3456),\n",
       " ('Pub', 3058),\n",
       " ('Cafe', 2883),\n",
       " ('Fast Food', 2122),\n",
       " ('British', 1992),\n",
       " ('International', 1966),\n",
       " ('Seafood', 1878),\n",
       " ('Japanese', 1860),\n",
       " ('Central European', 1727),\n",
       " ('American', 1642),\n",
       " ('Sushi', 1450),\n",
       " ('Chinese', 1446),\n",
       " ('Portuguese', 1385),\n",
       " ('Indian', 1328),\n",
       " ('Middle Eastern', 980),\n",
       " ('Thai', 923),\n",
       " ('Wine Bar', 877),\n",
       " ('German', 820),\n",
       " ('Halal', 773),\n",
       " ('Greek', 768),\n",
       " ('Healthy', 758),\n",
       " ('Fusion', 748),\n",
       " ('Czech', 745),\n",
       " ('Steakhouse', 729),\n",
       " ('Barbecue', 710),\n",
       " ('Contemporary', 652),\n",
       " ('Soups', 630),\n",
       " ('Eastern European', 629),\n",
       " ('Vietnamese', 622),\n",
       " ('Grill', 617),\n",
       " ('Gastropub', 608),\n",
       " ('Turkish', 574),\n",
       " ('Mexican', 572),\n",
       " ('South American', 490),\n",
       " ('Delicatessen', 473),\n",
       " ('Austrian', 462),\n",
       " ('Polish', 453),\n",
       " ('Scandinavian', 449),\n",
       " ('Hungarian', 444),\n",
       " ('Lebanese', 397),\n",
       " ('Diner', 375),\n",
       " ('Latin', 373),\n",
       " ('Dutch', 368),\n",
       " ('Irish', 352),\n",
       " ('Street Food', 336),\n",
       " ('Belgian', 335),\n",
       " ('Brew Pub', 299),\n",
       " ('Danish', 225),\n",
       " ('Swiss', 223),\n",
       " ('Swedish', 223),\n",
       " ('Argentinean', 214),\n",
       " ('Korean', 206),\n",
       " ('Scottish', 199),\n",
       " ('African', 193),\n",
       " ('Moroccan', 173),\n",
       " ('Central American', 168),\n",
       " ('Brazilian', 152),\n",
       " ('Pakistani', 140),\n",
       " ('Peruvian', 130),\n",
       " ('Caribbean', 124),\n",
       " ('Nepali', 121),\n",
       " ('Balti', 104),\n",
       " ('Bangladeshi', 100),\n",
       " ('Norwegian', 96),\n",
       " ('Israeli', 90),\n",
       " ('Slovenian', 85),\n",
       " ('Persian', 77),\n",
       " ('Indonesian', 71),\n",
       " ('Russian', 66),\n",
       " ('Arabic', 58),\n",
       " ('Kosher', 56),\n",
       " ('Ethiopian', 51),\n",
       " ('Venezuelan', 51),\n",
       " ('Malaysian', 38),\n",
       " ('Australian', 36),\n",
       " ('Jamaican', 36),\n",
       " ('Croatian', 33),\n",
       " ('Cuban', 32),\n",
       " ('Colombian', 30),\n",
       " ('Sri Lankan', 30),\n",
       " ('Taiwanese', 30),\n",
       " ('Tibetan', 29),\n",
       " ('Afghani', 27),\n",
       " ('Cajun & Creole', 27),\n",
       " ('Southwestern', 24),\n",
       " ('Egyptian', 24),\n",
       " ('Tunisian', 23),\n",
       " ('Hawaiian', 23),\n",
       " ('Cambodian', 22),\n",
       " ('Singaporean', 21),\n",
       " ('Mongolian', 20),\n",
       " ('Ukrainian', 20),\n",
       " ('Georgian', 18),\n",
       " ('Armenian', 17),\n",
       " ('Filipino', 17),\n",
       " ('Chilean', 16),\n",
       " ('Romanian', 13),\n",
       " ('Minority Chinese', 12),\n",
       " ('Central Asian', 12),\n",
       " ('Ecuadorean', 8),\n",
       " ('Albanian', 8),\n",
       " ('Canadian', 7),\n",
       " ('New Zealand', 7),\n",
       " ('Native American', 5),\n",
       " ('Uzbek', 5),\n",
       " ('Caucasian', 4),\n",
       " ('Welsh', 3),\n",
       " ('Azerbaijani', 3),\n",
       " ('Yunnan', 2),\n",
       " ('Polynesian', 2),\n",
       " ('Fujian', 2),\n",
       " ('Salvadoran', 1),\n",
       " ('Xinjiang', 1),\n",
       " ('Burmese', 1),\n",
       " ('Latvian', 1)]"
      ]
     },
     "execution_count": 47,
     "metadata": {},
     "output_type": "execute_result"
    }
   ],
   "source": [
    "cuisine_styles.most_common()"
   ]
  },
  {
   "cell_type": "code",
   "execution_count": 48,
   "metadata": {},
   "outputs": [
    {
     "data": {
      "text/plain": [
       "['Vegetarian Friendly',\n",
       " 'European',\n",
       " 'Mediterranean',\n",
       " 'Italian',\n",
       " 'Vegan Options',\n",
       " 'Gluten Free Options',\n",
       " 'Bar',\n",
       " 'French',\n",
       " 'Asian',\n",
       " 'Pizza']"
      ]
     },
     "execution_count": 48,
     "metadata": {},
     "output_type": "execute_result"
    }
   ],
   "source": [
    "cuisine_most_common = [x[0] for x in cuisine_styles.most_common()[:10]]\n",
    "cuisine_most_common"
   ]
  },
  {
   "cell_type": "code",
   "execution_count": 49,
   "metadata": {},
   "outputs": [
    {
     "data": {
      "text/plain": [
       "5472                                         [other_style]\n",
       "28928                                ['Chinese',  'Asian']\n",
       "12149                                        [other_style]\n",
       "29639                          ['Mediterranean',  'Greek']\n",
       "24869    ['Italian',  'French',  'Mediterranean',  'Eur...\n",
       "Name: Cuisine Style, dtype: object"
      ]
     },
     "execution_count": 49,
     "metadata": {},
     "output_type": "execute_result"
    }
   ],
   "source": [
    "# превратим Cuisine Style в список\n",
    "\n",
    "cuisine_style = data['Cuisine Style'].apply(lambda x: ['other_style'] if pd.isnull(x) else x[1:-1].split(',') )\n",
    "cuisine_style.sample(5)"
   ]
  },
  {
   "cell_type": "code",
   "execution_count": 50,
   "metadata": {},
   "outputs": [
    {
     "data": {
      "text/plain": [
       "17809    4\n",
       "4650     3\n",
       "27823    1\n",
       "17375    2\n",
       "43993    1\n",
       "Name: cuisine_counts, dtype: int64"
      ]
     },
     "execution_count": 50,
     "metadata": {},
     "output_type": "execute_result"
    }
   ],
   "source": [
    "# добавим новый признак \"Количество кухонь в ресторане\"\n",
    "\n",
    "cuisine_counts = cuisine_style.apply(lambda x: len(x))\n",
    "cuisine_counts.name = 'cuisine_counts'\n",
    "\n",
    "cuisine_counts.sample(5)"
   ]
  },
  {
   "cell_type": "markdown",
   "metadata": {},
   "source": [
    "Изменим столбец Cuisine Style так: если стиль кухни ресторана попадает в самые частые значения, то оставляем его, если нет, меняем на other_style"
   ]
  },
  {
   "cell_type": "code",
   "execution_count": 51,
   "metadata": {},
   "outputs": [
    {
     "data": {
      "text/plain": [
       "20899                                        [other_style]\n",
       "11109                      [Bar, other_style, other_style]\n",
       "17594    [Italian, other_style, other_style, Mediterran...\n",
       "3545                                         [other_style]\n",
       "14197    [other_style, other_style, Asian, Vegetarian F...\n",
       "Name: Cuisine Style, dtype: object"
      ]
     },
     "execution_count": 51,
     "metadata": {},
     "output_type": "execute_result"
    }
   ],
   "source": [
    "for i,k in enumerate(cuisine_style):\n",
    "    new_list = []\n",
    "    for j in k:\n",
    "        j = re.sub('\\s\\'|\\'','', j)\n",
    "        if j in cuisine_most_common:\n",
    "            new_list.append(j)\n",
    "        else:\n",
    "            new_list.append('other_style')\n",
    "    cuisine_style.at[i] = new_list\n",
    "cuisine_style.sample(5)"
   ]
  },
  {
   "cell_type": "markdown",
   "metadata": {},
   "source": [
    "Теперь добавим новые признаки, соответсвующие самым частым значениям стилей кухонь"
   ]
  },
  {
   "cell_type": "code",
   "execution_count": 52,
   "metadata": {},
   "outputs": [
    {
     "name": "stdout",
     "output_type": "stream",
     "text": [
      "<class 'pandas.core.frame.DataFrame'>\n",
      "RangeIndex: 50000 entries, 0 to 49999\n",
      "Data columns (total 11 columns):\n",
      "Vegetarian Friendly    50000 non-null uint8\n",
      "European               50000 non-null uint8\n",
      "Mediterranean          50000 non-null uint8\n",
      "Italian                50000 non-null uint8\n",
      "Vegan Options          50000 non-null uint8\n",
      "Gluten Free Options    50000 non-null uint8\n",
      "Bar                    50000 non-null uint8\n",
      "French                 50000 non-null uint8\n",
      "Asian                  50000 non-null uint8\n",
      "Pizza                  50000 non-null uint8\n",
      "other_style            50000 non-null uint8\n",
      "dtypes: uint8(11)\n",
      "memory usage: 537.2 KB\n"
     ]
    }
   ],
   "source": [
    "cuisine_style_df = pd.DataFrame(cuisine_style)\n",
    "for i in cuisine_most_common + ['other_style']:\n",
    "    cuisine_style_df[i] = cuisine_style.apply(lambda x: 1 if i in x else 0).astype('uint8')\n",
    "\n",
    "cuisine_style_df.drop('Cuisine Style', axis = 1, inplace=True)\n",
    "\n",
    "cuisine_style_df.info()"
   ]
  },
  {
   "cell_type": "code",
   "execution_count": 53,
   "metadata": {},
   "outputs": [
    {
     "data": {
      "text/html": [
       "<div>\n",
       "<style scoped>\n",
       "    .dataframe tbody tr th:only-of-type {\n",
       "        vertical-align: middle;\n",
       "    }\n",
       "\n",
       "    .dataframe tbody tr th {\n",
       "        vertical-align: top;\n",
       "    }\n",
       "\n",
       "    .dataframe thead th {\n",
       "        text-align: right;\n",
       "    }\n",
       "</style>\n",
       "<table border=\"1\" class=\"dataframe\">\n",
       "  <thead>\n",
       "    <tr style=\"text-align: right;\">\n",
       "      <th></th>\n",
       "      <th>Vegetarian Friendly</th>\n",
       "      <th>European</th>\n",
       "      <th>Mediterranean</th>\n",
       "      <th>Italian</th>\n",
       "      <th>Vegan Options</th>\n",
       "      <th>Gluten Free Options</th>\n",
       "      <th>Bar</th>\n",
       "      <th>French</th>\n",
       "      <th>Asian</th>\n",
       "      <th>Pizza</th>\n",
       "      <th>other_style</th>\n",
       "    </tr>\n",
       "  </thead>\n",
       "  <tbody>\n",
       "    <tr>\n",
       "      <th>15655</th>\n",
       "      <td>0</td>\n",
       "      <td>0</td>\n",
       "      <td>0</td>\n",
       "      <td>1</td>\n",
       "      <td>0</td>\n",
       "      <td>0</td>\n",
       "      <td>0</td>\n",
       "      <td>0</td>\n",
       "      <td>0</td>\n",
       "      <td>0</td>\n",
       "      <td>1</td>\n",
       "    </tr>\n",
       "    <tr>\n",
       "      <th>35112</th>\n",
       "      <td>1</td>\n",
       "      <td>0</td>\n",
       "      <td>0</td>\n",
       "      <td>0</td>\n",
       "      <td>1</td>\n",
       "      <td>0</td>\n",
       "      <td>0</td>\n",
       "      <td>0</td>\n",
       "      <td>1</td>\n",
       "      <td>0</td>\n",
       "      <td>1</td>\n",
       "    </tr>\n",
       "    <tr>\n",
       "      <th>49755</th>\n",
       "      <td>0</td>\n",
       "      <td>0</td>\n",
       "      <td>0</td>\n",
       "      <td>0</td>\n",
       "      <td>0</td>\n",
       "      <td>0</td>\n",
       "      <td>0</td>\n",
       "      <td>0</td>\n",
       "      <td>0</td>\n",
       "      <td>0</td>\n",
       "      <td>1</td>\n",
       "    </tr>\n",
       "    <tr>\n",
       "      <th>46826</th>\n",
       "      <td>0</td>\n",
       "      <td>0</td>\n",
       "      <td>0</td>\n",
       "      <td>0</td>\n",
       "      <td>0</td>\n",
       "      <td>0</td>\n",
       "      <td>0</td>\n",
       "      <td>1</td>\n",
       "      <td>0</td>\n",
       "      <td>0</td>\n",
       "      <td>0</td>\n",
       "    </tr>\n",
       "    <tr>\n",
       "      <th>9698</th>\n",
       "      <td>0</td>\n",
       "      <td>0</td>\n",
       "      <td>0</td>\n",
       "      <td>0</td>\n",
       "      <td>0</td>\n",
       "      <td>0</td>\n",
       "      <td>0</td>\n",
       "      <td>0</td>\n",
       "      <td>0</td>\n",
       "      <td>0</td>\n",
       "      <td>1</td>\n",
       "    </tr>\n",
       "  </tbody>\n",
       "</table>\n",
       "</div>"
      ],
      "text/plain": [
       "       Vegetarian Friendly  European  Mediterranean  Italian  Vegan Options  \\\n",
       "15655                    0         0              0        1              0   \n",
       "35112                    1         0              0        0              1   \n",
       "49755                    0         0              0        0              0   \n",
       "46826                    0         0              0        0              0   \n",
       "9698                     0         0              0        0              0   \n",
       "\n",
       "       Gluten Free Options  Bar  French  Asian  Pizza  other_style  \n",
       "15655                    0    0       0      0      0            1  \n",
       "35112                    0    0       0      1      0            1  \n",
       "49755                    0    0       0      0      0            1  \n",
       "46826                    0    0       1      0      0            0  \n",
       "9698                     0    0       0      0      0            1  "
      ]
     },
     "execution_count": 53,
     "metadata": {},
     "output_type": "execute_result"
    }
   ],
   "source": [
    "cuisine_style_df.sample(5)"
   ]
  },
  {
   "cell_type": "code",
   "execution_count": 54,
   "metadata": {},
   "outputs": [
    {
     "name": "stderr",
     "output_type": "stream",
     "text": [
      "[Parallel(n_jobs=-1)]: Using backend ThreadingBackend with 4 concurrent workers.\n",
      "[Parallel(n_jobs=-1)]: Done  42 tasks      | elapsed:    3.4s\n",
      "[Parallel(n_jobs=-1)]: Done 100 out of 100 | elapsed:    7.8s finished\n",
      "[Parallel(n_jobs=4)]: Using backend ThreadingBackend with 4 concurrent workers.\n",
      "[Parallel(n_jobs=4)]: Done  42 tasks      | elapsed:    0.0s\n",
      "[Parallel(n_jobs=4)]: Done 100 out of 100 | elapsed:    0.1s finished\n"
     ]
    },
    {
     "data": {
      "text/plain": [
       "0.20366249999999997"
      ]
     },
     "execution_count": 54,
     "metadata": {},
     "output_type": "execute_result"
    },
    {
     "data": {
      "image/png": "[encoded data removed]",
      "text/plain": [
       "<Figure size 720x720 with 1 Axes>"
      ]
     },
     "metadata": {
      "needs_background": "light"
     },
     "output_type": "display_data"
    }
   ],
   "source": [
    "df_preproc = pd.concat([data.loc[:,['Rating', 'sample']], \\\n",
    "                        number_rew, number_rew_nan, norm_rank, mean_rews, places_counts, \\\n",
    "                        cities, prices, price_isnan, \\\n",
    "                        cuisine_counts, cuisine_style_df], axis = 1)\n",
    "model_func(df_preproc)"
   ]
  },
  {
   "cell_type": "code",
   "execution_count": 55,
   "metadata": {},
   "outputs": [
    {
     "data": {
      "text/plain": [
       "11590"
      ]
     },
     "execution_count": 55,
     "metadata": {},
     "output_type": "execute_result"
    }
   ],
   "source": [
    "data['Cuisine Style'].isna().sum()"
   ]
  },
  {
   "cell_type": "code",
   "execution_count": 56,
   "metadata": {},
   "outputs": [],
   "source": [
    "data['Cuisine Style'].fillna('other_style', inplace = True)"
   ]
  },
  {
   "cell_type": "markdown",
   "metadata": {},
   "source": [
    "### 3.4. Теперь обработаем Reviews\n",
    "Выделим даты обзоров и посчитаем, сколько времени прошло между двумя обзорами"
   ]
  },
  {
   "cell_type": "code",
   "execution_count": 57,
   "metadata": {},
   "outputs": [
    {
     "data": {
      "text/plain": [
       "38365    196.0\n",
       "48275     18.0\n",
       "3338       3.0\n",
       "22083    165.0\n",
       "24787      NaN\n",
       "Name: rew_delta, dtype: float64"
      ]
     },
     "execution_count": 57,
     "metadata": {},
     "output_type": "execute_result"
    }
   ],
   "source": [
    "data['rew_dates'] = data.Reviews.apply(lambda x : [0] if pd.isna(x) else x[2:-2].split('], [')[1][1:-1].split(\"', '\"))\n",
    "data['max_rew_date'] = pd.to_datetime(data['rew_dates'].apply(lambda x: max(x)))\n",
    "\n",
    "data['first_rew'] = pd.to_datetime(data['rew_dates'].apply(lambda x : x[0]))\n",
    "data['second_rew'] = pd.to_datetime(data['rew_dates'].apply(lambda x: x[1] if len(x) == 2 else ''))\n",
    "\n",
    "rew_delta = np.abs(data['first_rew'] - data['second_rew'])\n",
    "rew_delta = rew_delta.apply(lambda x: x.days)\n",
    "\n",
    "rew_delta.name = 'rew_delta'\n",
    "\n",
    "rew_delta.sample(5)"
   ]
  },
  {
   "cell_type": "code",
   "execution_count": 58,
   "metadata": {},
   "outputs": [
    {
     "data": {
      "text/plain": [
       "13794"
      ]
     },
     "execution_count": 58,
     "metadata": {},
     "output_type": "execute_result"
    }
   ],
   "source": [
    "rew_delta.isna().sum()"
   ]
  },
  {
   "cell_type": "markdown",
   "metadata": {},
   "source": [
    "Пропусокв очень много, выделим отдельный признак для них"
   ]
  },
  {
   "cell_type": "code",
   "execution_count": 59,
   "metadata": {},
   "outputs": [
    {
     "data": {
      "text/plain": [
       "0    36206\n",
       "1    13794\n",
       "Name: rew_delta, dtype: int64"
      ]
     },
     "execution_count": 59,
     "metadata": {},
     "output_type": "execute_result"
    }
   ],
   "source": [
    "# пустых значений много, сделаем новый признак для NAN\n",
    "rew_delta_isnan = pd.isna(rew_delta).astype('uint8')\n",
    "\n",
    "rew_delta_isnan.value_counts()"
   ]
  },
  {
   "cell_type": "code",
   "execution_count": 60,
   "metadata": {},
   "outputs": [
    {
     "data": {
      "text/plain": [
       "39110    270.0\n",
       "33657      7.0\n",
       "18507     26.0\n",
       "36871     23.0\n",
       "15779    174.0\n",
       "Name: rew_delta, dtype: float64"
      ]
     },
     "execution_count": 60,
     "metadata": {},
     "output_type": "execute_result"
    }
   ],
   "source": [
    "# Заполним пропуски средним\n",
    "\n",
    "mean = round(rew_delta.mean(), 2)\n",
    "rew_delta = rew_delta.fillna(mean)\n",
    "rew_delta.sample(5)"
   ]
  },
  {
   "cell_type": "markdown",
   "metadata": {},
   "source": [
    "Создадим еще один признак для даты: количество дней, прошедшее между текущей датой и последним отзывом"
   ]
  },
  {
   "cell_type": "code",
   "execution_count": 61,
   "metadata": {},
   "outputs": [
    {
     "data": {
      "text/plain": [
       "3805     1585\n",
       "10741    1219\n",
       "21855    1162\n",
       "43071    1137\n",
       "31077    1815\n",
       "Name: rew_delta_cur, dtype: int64"
      ]
     },
     "execution_count": 61,
     "metadata": {},
     "output_type": "execute_result"
    }
   ],
   "source": [
    "from datetime import datetime\n",
    "\n",
    "rew_delta_cur = (datetime.now() - data['max_rew_date'])\n",
    "rew_delta_cur = rew_delta_cur.fillna(rew_delta_cur.median())\n",
    "\n",
    "rew_delta_cur = rew_delta_cur.apply(lambda x : x.days)\n",
    "\n",
    "rew_delta_cur.name = 'rew_delta_cur'\n",
    "\n",
    "rew_delta_cur.sample(5)"
   ]
  },
  {
   "cell_type": "code",
   "execution_count": 62,
   "metadata": {},
   "outputs": [
    {
     "name": "stderr",
     "output_type": "stream",
     "text": [
      "[Parallel(n_jobs=-1)]: Using backend ThreadingBackend with 4 concurrent workers.\n",
      "[Parallel(n_jobs=-1)]: Done  42 tasks      | elapsed:    4.2s\n",
      "[Parallel(n_jobs=-1)]: Done 100 out of 100 | elapsed:    9.8s finished\n",
      "[Parallel(n_jobs=4)]: Using backend ThreadingBackend with 4 concurrent workers.\n",
      "[Parallel(n_jobs=4)]: Done  42 tasks      | elapsed:    0.0s\n",
      "[Parallel(n_jobs=4)]: Done 100 out of 100 | elapsed:    0.1s finished\n"
     ]
    },
    {
     "data": {
      "text/plain": [
       "0.198221875"
      ]
     },
     "execution_count": 62,
     "metadata": {},
     "output_type": "execute_result"
    },
    {
     "data": {
      "image/png": "[encoded data removed]",
      "text/plain": [
       "<Figure size 720x720 with 1 Axes>"
      ]
     },
     "metadata": {
      "needs_background": "light"
     },
     "output_type": "display_data"
    }
   ],
   "source": [
    "df_preproc = pd.concat([data.loc[:,['Rating', 'sample']], \\\n",
    "                        number_rew, number_rew_nan, norm_rank, mean_rews, places_counts, \\\n",
    "                        cities, prices, price_isnan, \\\n",
    "                        cuisine_counts, cuisine_style_df, \\\n",
    "                        rew_delta, rew_delta_cur,rew_delta_isnan], axis = 1)\n",
    "model_func(df_preproc)"
   ]
  },
  {
   "cell_type": "markdown",
   "metadata": {},
   "source": [
    "### 3.5. Сконструируем новый признак \"Население города\" на основе внешних данных"
   ]
  },
  {
   "cell_type": "code",
   "execution_count": 63,
   "metadata": {},
   "outputs": [
    {
     "data": {
      "text/html": [
       "<div>\n",
       "<style scoped>\n",
       "    .dataframe tbody tr th:only-of-type {\n",
       "        vertical-align: middle;\n",
       "    }\n",
       "\n",
       "    .dataframe tbody tr th {\n",
       "        vertical-align: top;\n",
       "    }\n",
       "\n",
       "    .dataframe thead th {\n",
       "        text-align: right;\n",
       "    }\n",
       "</style>\n",
       "<table border=\"1\" class=\"dataframe\">\n",
       "  <thead>\n",
       "    <tr style=\"text-align: right;\">\n",
       "      <th></th>\n",
       "      <th>city</th>\n",
       "      <th>city_ascii</th>\n",
       "      <th>lat</th>\n",
       "      <th>lng</th>\n",
       "      <th>country</th>\n",
       "      <th>iso2</th>\n",
       "      <th>iso3</th>\n",
       "      <th>admin_name</th>\n",
       "      <th>capital</th>\n",
       "      <th>population</th>\n",
       "      <th>id</th>\n",
       "    </tr>\n",
       "  </thead>\n",
       "  <tbody>\n",
       "    <tr>\n",
       "      <th>2050</th>\n",
       "      <td>Kovin</td>\n",
       "      <td>Kovin</td>\n",
       "      <td>44.7482</td>\n",
       "      <td>20.9766</td>\n",
       "      <td>Serbia</td>\n",
       "      <td>RS</td>\n",
       "      <td>SRB</td>\n",
       "      <td>Kovin</td>\n",
       "      <td>admin</td>\n",
       "      <td>NaN</td>\n",
       "      <td>1688830508</td>\n",
       "    </tr>\n",
       "    <tr>\n",
       "      <th>9156</th>\n",
       "      <td>Prairie View</td>\n",
       "      <td>Prairie View</td>\n",
       "      <td>30.0850</td>\n",
       "      <td>-95.9897</td>\n",
       "      <td>United States</td>\n",
       "      <td>US</td>\n",
       "      <td>USA</td>\n",
       "      <td>Texas</td>\n",
       "      <td>NaN</td>\n",
       "      <td>6391.0</td>\n",
       "      <td>1840021698</td>\n",
       "    </tr>\n",
       "    <tr>\n",
       "      <th>11385</th>\n",
       "      <td>Mooresville</td>\n",
       "      <td>Mooresville</td>\n",
       "      <td>39.6038</td>\n",
       "      <td>-86.3674</td>\n",
       "      <td>United States</td>\n",
       "      <td>US</td>\n",
       "      <td>USA</td>\n",
       "      <td>Indiana</td>\n",
       "      <td>NaN</td>\n",
       "      <td>9641.0</td>\n",
       "      <td>1840009668</td>\n",
       "    </tr>\n",
       "  </tbody>\n",
       "</table>\n",
       "</div>"
      ],
      "text/plain": [
       "               city    city_ascii      lat      lng        country iso2 iso3  \\\n",
       "2050          Kovin         Kovin  44.7482  20.9766         Serbia   RS  SRB   \n",
       "9156   Prairie View  Prairie View  30.0850 -95.9897  United States   US  USA   \n",
       "11385   Mooresville   Mooresville  39.6038 -86.3674  United States   US  USA   \n",
       "\n",
       "      admin_name capital  population          id  \n",
       "2050       Kovin   admin         NaN  1688830508  \n",
       "9156       Texas     NaN      6391.0  1840021698  \n",
       "11385    Indiana     NaN      9641.0  1840009668  "
      ]
     },
     "execution_count": 63,
     "metadata": {},
     "output_type": "execute_result"
    }
   ],
   "source": [
    "data_add = pd.read_csv(cities_pop_filename)\n",
    "data_add.sample(3)"
   ]
  },
  {
   "cell_type": "code",
   "execution_count": 64,
   "metadata": {},
   "outputs": [
    {
     "data": {
      "text/html": [
       "<div>\n",
       "<style scoped>\n",
       "    .dataframe tbody tr th:only-of-type {\n",
       "        vertical-align: middle;\n",
       "    }\n",
       "\n",
       "    .dataframe tbody tr th {\n",
       "        vertical-align: top;\n",
       "    }\n",
       "\n",
       "    .dataframe thead th {\n",
       "        text-align: right;\n",
       "    }\n",
       "</style>\n",
       "<table border=\"1\" class=\"dataframe\">\n",
       "  <thead>\n",
       "    <tr style=\"text-align: right;\">\n",
       "      <th></th>\n",
       "      <th>city</th>\n",
       "    </tr>\n",
       "  </thead>\n",
       "  <tbody>\n",
       "    <tr>\n",
       "      <th>0</th>\n",
       "      <td>London</td>\n",
       "    </tr>\n",
       "    <tr>\n",
       "      <th>1</th>\n",
       "      <td>Paris</td>\n",
       "    </tr>\n",
       "    <tr>\n",
       "      <th>2</th>\n",
       "      <td>Madrid</td>\n",
       "    </tr>\n",
       "  </tbody>\n",
       "</table>\n",
       "</div>"
      ],
      "text/plain": [
       "     city\n",
       "0  London\n",
       "1   Paris\n",
       "2  Madrid"
      ]
     },
     "execution_count": 64,
     "metadata": {},
     "output_type": "execute_result"
    }
   ],
   "source": [
    "cities_info = pd.DataFrame(data.City.value_counts().index)\n",
    "cities_info.columns = ['city']\n",
    "cities_info.head(3)"
   ]
  },
  {
   "cell_type": "code",
   "execution_count": 65,
   "metadata": {},
   "outputs": [
    {
     "data": {
      "text/html": [
       "<div>\n",
       "<style scoped>\n",
       "    .dataframe tbody tr th:only-of-type {\n",
       "        vertical-align: middle;\n",
       "    }\n",
       "\n",
       "    .dataframe tbody tr th {\n",
       "        vertical-align: top;\n",
       "    }\n",
       "\n",
       "    .dataframe thead th {\n",
       "        text-align: right;\n",
       "    }\n",
       "</style>\n",
       "<table border=\"1\" class=\"dataframe\">\n",
       "  <thead>\n",
       "    <tr style=\"text-align: right;\">\n",
       "      <th></th>\n",
       "      <th>city</th>\n",
       "      <th>city_ascii</th>\n",
       "      <th>lat</th>\n",
       "      <th>lng</th>\n",
       "      <th>country</th>\n",
       "      <th>iso2</th>\n",
       "      <th>iso3</th>\n",
       "      <th>admin_name</th>\n",
       "      <th>capital</th>\n",
       "      <th>population</th>\n",
       "      <th>id</th>\n",
       "    </tr>\n",
       "  </thead>\n",
       "  <tbody>\n",
       "    <tr>\n",
       "      <th>0</th>\n",
       "      <td>Malishevë</td>\n",
       "      <td>Malisheve</td>\n",
       "      <td>42.4822</td>\n",
       "      <td>20.7458</td>\n",
       "      <td>Kosovo</td>\n",
       "      <td>XK</td>\n",
       "      <td>XKS</td>\n",
       "      <td>Malishevë</td>\n",
       "      <td>admin</td>\n",
       "      <td>NaN</td>\n",
       "      <td>1901597212</td>\n",
       "    </tr>\n",
       "    <tr>\n",
       "      <th>1</th>\n",
       "      <td>Prizren</td>\n",
       "      <td>Prizren</td>\n",
       "      <td>42.2139</td>\n",
       "      <td>20.7397</td>\n",
       "      <td>Kosovo</td>\n",
       "      <td>XK</td>\n",
       "      <td>XKS</td>\n",
       "      <td>Prizren</td>\n",
       "      <td>admin</td>\n",
       "      <td>NaN</td>\n",
       "      <td>1901360309</td>\n",
       "    </tr>\n",
       "    <tr>\n",
       "      <th>2</th>\n",
       "      <td>Zubin Potok</td>\n",
       "      <td>Zubin Potok</td>\n",
       "      <td>42.9144</td>\n",
       "      <td>20.6897</td>\n",
       "      <td>Kosovo</td>\n",
       "      <td>XK</td>\n",
       "      <td>XKS</td>\n",
       "      <td>Zubin Potok</td>\n",
       "      <td>admin</td>\n",
       "      <td>NaN</td>\n",
       "      <td>1901608808</td>\n",
       "    </tr>\n",
       "    <tr>\n",
       "      <th>3</th>\n",
       "      <td>Kamenicë</td>\n",
       "      <td>Kamenice</td>\n",
       "      <td>42.5781</td>\n",
       "      <td>21.5803</td>\n",
       "      <td>Kosovo</td>\n",
       "      <td>XK</td>\n",
       "      <td>XKS</td>\n",
       "      <td>Kamenicë</td>\n",
       "      <td>admin</td>\n",
       "      <td>NaN</td>\n",
       "      <td>1901851592</td>\n",
       "    </tr>\n",
       "    <tr>\n",
       "      <th>4</th>\n",
       "      <td>Viti</td>\n",
       "      <td>Viti</td>\n",
       "      <td>42.3214</td>\n",
       "      <td>21.3583</td>\n",
       "      <td>Kosovo</td>\n",
       "      <td>XK</td>\n",
       "      <td>XKS</td>\n",
       "      <td>Viti</td>\n",
       "      <td>admin</td>\n",
       "      <td>NaN</td>\n",
       "      <td>1901328795</td>\n",
       "    </tr>\n",
       "  </tbody>\n",
       "</table>\n",
       "</div>"
      ],
      "text/plain": [
       "          city   city_ascii      lat      lng country iso2 iso3   admin_name  \\\n",
       "0    Malishevë    Malisheve  42.4822  20.7458  Kosovo   XK  XKS    Malishevë   \n",
       "1      Prizren      Prizren  42.2139  20.7397  Kosovo   XK  XKS      Prizren   \n",
       "2  Zubin Potok  Zubin Potok  42.9144  20.6897  Kosovo   XK  XKS  Zubin Potok   \n",
       "3     Kamenicë     Kamenice  42.5781  21.5803  Kosovo   XK  XKS     Kamenicë   \n",
       "4         Viti         Viti  42.3214  21.3583  Kosovo   XK  XKS         Viti   \n",
       "\n",
       "  capital  population          id  \n",
       "0   admin         NaN  1901597212  \n",
       "1   admin         NaN  1901360309  \n",
       "2   admin         NaN  1901608808  \n",
       "3   admin         NaN  1901851592  \n",
       "4   admin         NaN  1901328795  "
      ]
     },
     "execution_count": 65,
     "metadata": {},
     "output_type": "execute_result"
    }
   ],
   "source": [
    "data_europe = data_add[data_add.iso2.apply(lambda x: x not in ('US','CA','VE'))]\n",
    "data_europe.head()"
   ]
  },
  {
   "cell_type": "code",
   "execution_count": 66,
   "metadata": {},
   "outputs": [
    {
     "name": "stdout",
     "output_type": "stream",
     "text": [
      "<class 'pandas.core.frame.DataFrame'>\n",
      "Int64Index: 31 entries, 0 to 30\n",
      "Data columns (total 2 columns):\n",
      "city    31 non-null object\n",
      "iso2    27 non-null object\n",
      "dtypes: object(2)\n",
      "memory usage: 744.0+ bytes\n"
     ]
    }
   ],
   "source": [
    "cities_country = cities_info.merge(data_europe, how = 'left', on = 'city').loc[:, ['city', 'iso2']]\n",
    "cities_country.info()"
   ]
  },
  {
   "cell_type": "code",
   "execution_count": 67,
   "metadata": {},
   "outputs": [
    {
     "data": {
      "text/html": [
       "<div>\n",
       "<style scoped>\n",
       "    .dataframe tbody tr th:only-of-type {\n",
       "        vertical-align: middle;\n",
       "    }\n",
       "\n",
       "    .dataframe tbody tr th {\n",
       "        vertical-align: top;\n",
       "    }\n",
       "\n",
       "    .dataframe thead th {\n",
       "        text-align: right;\n",
       "    }\n",
       "</style>\n",
       "<table border=\"1\" class=\"dataframe\">\n",
       "  <thead>\n",
       "    <tr style=\"text-align: right;\">\n",
       "      <th></th>\n",
       "      <th>city</th>\n",
       "      <th>iso2</th>\n",
       "    </tr>\n",
       "  </thead>\n",
       "  <tbody>\n",
       "    <tr>\n",
       "      <th>19</th>\n",
       "      <td>Copenhagen</td>\n",
       "      <td>NaN</td>\n",
       "    </tr>\n",
       "    <tr>\n",
       "      <th>22</th>\n",
       "      <td>Zurich</td>\n",
       "      <td>NaN</td>\n",
       "    </tr>\n",
       "    <tr>\n",
       "      <th>23</th>\n",
       "      <td>Oporto</td>\n",
       "      <td>NaN</td>\n",
       "    </tr>\n",
       "    <tr>\n",
       "      <th>25</th>\n",
       "      <td>Krakow</td>\n",
       "      <td>NaN</td>\n",
       "    </tr>\n",
       "  </tbody>\n",
       "</table>\n",
       "</div>"
      ],
      "text/plain": [
       "          city iso2\n",
       "19  Copenhagen  NaN\n",
       "22      Zurich  NaN\n",
       "23      Oporto  NaN\n",
       "25      Krakow  NaN"
      ]
     },
     "execution_count": 67,
     "metadata": {},
     "output_type": "execute_result"
    }
   ],
   "source": [
    "cities_country[cities_country.iso2.isna()]"
   ]
  },
  {
   "cell_type": "code",
   "execution_count": 68,
   "metadata": {},
   "outputs": [
    {
     "name": "stdout",
     "output_type": "stream",
     "text": [
      "<class 'pandas.core.frame.DataFrame'>\n",
      "Int64Index: 31 entries, 0 to 30\n",
      "Data columns (total 2 columns):\n",
      "city    31 non-null object\n",
      "iso2    31 non-null object\n",
      "dtypes: object(2)\n",
      "memory usage: 2.0+ KB\n"
     ]
    }
   ],
   "source": [
    "cities_country.at[23,'iso2'] = 'PT'\n",
    "cities_country.at[25,'iso2'] = 'PL'\n",
    "cities_country.at[22,'iso2'] = 'CH'\n",
    "cities_country.at[19,'iso2'] = 'DK'\n",
    "cities_country.info()"
   ]
  },
  {
   "cell_type": "code",
   "execution_count": 69,
   "metadata": {},
   "outputs": [
    {
     "data": {
      "text/html": [
       "<div>\n",
       "<style scoped>\n",
       "    .dataframe tbody tr th:only-of-type {\n",
       "        vertical-align: middle;\n",
       "    }\n",
       "\n",
       "    .dataframe tbody tr th {\n",
       "        vertical-align: top;\n",
       "    }\n",
       "\n",
       "    .dataframe thead th {\n",
       "        text-align: right;\n",
       "    }\n",
       "</style>\n",
       "<table border=\"1\" class=\"dataframe\">\n",
       "  <thead>\n",
       "    <tr style=\"text-align: right;\">\n",
       "      <th></th>\n",
       "      <th>city</th>\n",
       "      <th>capital</th>\n",
       "      <th>population</th>\n",
       "    </tr>\n",
       "  </thead>\n",
       "  <tbody>\n",
       "    <tr>\n",
       "      <th>28</th>\n",
       "      <td>Bratislava</td>\n",
       "      <td>primary</td>\n",
       "      <td>423737.0</td>\n",
       "    </tr>\n",
       "    <tr>\n",
       "      <th>6</th>\n",
       "      <td>Rome</td>\n",
       "      <td>primary</td>\n",
       "      <td>3339000.0</td>\n",
       "    </tr>\n",
       "    <tr>\n",
       "      <th>15</th>\n",
       "      <td>Stockholm</td>\n",
       "      <td>primary</td>\n",
       "      <td>1264000.0</td>\n",
       "    </tr>\n",
       "    <tr>\n",
       "      <th>5</th>\n",
       "      <td>Milan</td>\n",
       "      <td>admin</td>\n",
       "      <td>2945000.0</td>\n",
       "    </tr>\n",
       "    <tr>\n",
       "      <th>20</th>\n",
       "      <td>Athens</td>\n",
       "      <td>primary</td>\n",
       "      <td>3242000.0</td>\n",
       "    </tr>\n",
       "  </tbody>\n",
       "</table>\n",
       "</div>"
      ],
      "text/plain": [
       "          city  capital  population\n",
       "28  Bratislava  primary    423737.0\n",
       "6         Rome  primary   3339000.0\n",
       "15   Stockholm  primary   1264000.0\n",
       "5        Milan    admin   2945000.0\n",
       "20      Athens  primary   3242000.0"
      ]
     },
     "execution_count": 69,
     "metadata": {},
     "output_type": "execute_result"
    }
   ],
   "source": [
    "cities_info = cities_info.merge(data_europe.loc[:,['city','capital', 'population']], how = 'left', on = 'city')\n",
    "cities_info.sample(5)"
   ]
  },
  {
   "cell_type": "code",
   "execution_count": 70,
   "metadata": {},
   "outputs": [
    {
     "data": {
      "text/plain": [
       "city          0\n",
       "capital       4\n",
       "population    4\n",
       "dtype: int64"
      ]
     },
     "execution_count": 70,
     "metadata": {},
     "output_type": "execute_result"
    }
   ],
   "source": [
    "cities_info.isna().sum()"
   ]
  },
  {
   "cell_type": "code",
   "execution_count": 71,
   "metadata": {},
   "outputs": [],
   "source": [
    "cities_info['capital'] = cities_info.capital.fillna('not_cap')"
   ]
  },
  {
   "cell_type": "code",
   "execution_count": 72,
   "metadata": {},
   "outputs": [
    {
     "data": {
      "text/html": [
       "<div>\n",
       "<style scoped>\n",
       "    .dataframe tbody tr th:only-of-type {\n",
       "        vertical-align: middle;\n",
       "    }\n",
       "\n",
       "    .dataframe tbody tr th {\n",
       "        vertical-align: top;\n",
       "    }\n",
       "\n",
       "    .dataframe thead th {\n",
       "        text-align: right;\n",
       "    }\n",
       "</style>\n",
       "<table border=\"1\" class=\"dataframe\">\n",
       "  <thead>\n",
       "    <tr style=\"text-align: right;\">\n",
       "      <th></th>\n",
       "      <th>city</th>\n",
       "      <th>capital</th>\n",
       "      <th>population</th>\n",
       "    </tr>\n",
       "  </thead>\n",
       "  <tbody>\n",
       "    <tr>\n",
       "      <th>19</th>\n",
       "      <td>Copenhagen</td>\n",
       "      <td>not_cap</td>\n",
       "      <td>NaN</td>\n",
       "    </tr>\n",
       "    <tr>\n",
       "      <th>22</th>\n",
       "      <td>Zurich</td>\n",
       "      <td>not_cap</td>\n",
       "      <td>NaN</td>\n",
       "    </tr>\n",
       "    <tr>\n",
       "      <th>23</th>\n",
       "      <td>Oporto</td>\n",
       "      <td>not_cap</td>\n",
       "      <td>NaN</td>\n",
       "    </tr>\n",
       "    <tr>\n",
       "      <th>25</th>\n",
       "      <td>Krakow</td>\n",
       "      <td>not_cap</td>\n",
       "      <td>NaN</td>\n",
       "    </tr>\n",
       "  </tbody>\n",
       "</table>\n",
       "</div>"
      ],
      "text/plain": [
       "          city  capital  population\n",
       "19  Copenhagen  not_cap         NaN\n",
       "22      Zurich  not_cap         NaN\n",
       "23      Oporto  not_cap         NaN\n",
       "25      Krakow  not_cap         NaN"
      ]
     },
     "execution_count": 72,
     "metadata": {},
     "output_type": "execute_result"
    }
   ],
   "source": [
    "cities_info[cities_info.population.isna()]"
   ]
  },
  {
   "cell_type": "code",
   "execution_count": 73,
   "metadata": {},
   "outputs": [],
   "source": [
    "# заполним пропуски в населении и странах\n",
    "cities_info.at[23,'population'] = 237591\n",
    "cities_info.at[25,'population'] = 769498\n",
    "cities_info.at[22,'population'] = 428737\n",
    "cities_info.at[19,'population'] = 615993"
   ]
  },
  {
   "cell_type": "code",
   "execution_count": 74,
   "metadata": {},
   "outputs": [],
   "source": [
    "cities_info.columns =  ['City', 'capital', 'population']\n",
    "cities_country.columns = ['City', 'country']"
   ]
  },
  {
   "cell_type": "code",
   "execution_count": 75,
   "metadata": {},
   "outputs": [
    {
     "name": "stdout",
     "output_type": "stream",
     "text": [
      "<class 'pandas.core.frame.DataFrame'>\n",
      "Int64Index: 50000 entries, 0 to 49999\n",
      "Data columns (total 2 columns):\n",
      "capital       50000 non-null object\n",
      "population    50000 non-null float64\n",
      "dtypes: float64(1), object(1)\n",
      "memory usage: 1.1+ MB\n"
     ]
    }
   ],
   "source": [
    "# объединим с исходным датасетом\n",
    "\n",
    "cities_pop = data.loc[:,['City']].merge(cities_info, how = 'left', on = 'City')\n",
    "\n",
    "cities_pop.drop(['City'], axis = 1, inplace = True)\n",
    "\n",
    "cities_pop.info()"
   ]
  },
  {
   "cell_type": "code",
   "execution_count": 76,
   "metadata": {},
   "outputs": [
    {
     "data": {
      "text/html": [
       "<div>\n",
       "<style scoped>\n",
       "    .dataframe tbody tr th:only-of-type {\n",
       "        vertical-align: middle;\n",
       "    }\n",
       "\n",
       "    .dataframe tbody tr th {\n",
       "        vertical-align: top;\n",
       "    }\n",
       "\n",
       "    .dataframe thead th {\n",
       "        text-align: right;\n",
       "    }\n",
       "</style>\n",
       "<table border=\"1\" class=\"dataframe\">\n",
       "  <thead>\n",
       "    <tr style=\"text-align: right;\">\n",
       "      <th></th>\n",
       "      <th>admin</th>\n",
       "      <th>not_cap</th>\n",
       "      <th>primary</th>\n",
       "    </tr>\n",
       "  </thead>\n",
       "  <tbody>\n",
       "    <tr>\n",
       "      <th>48827</th>\n",
       "      <td>0</td>\n",
       "      <td>0</td>\n",
       "      <td>1</td>\n",
       "    </tr>\n",
       "    <tr>\n",
       "      <th>46926</th>\n",
       "      <td>0</td>\n",
       "      <td>1</td>\n",
       "      <td>0</td>\n",
       "    </tr>\n",
       "    <tr>\n",
       "      <th>6919</th>\n",
       "      <td>0</td>\n",
       "      <td>0</td>\n",
       "      <td>1</td>\n",
       "    </tr>\n",
       "    <tr>\n",
       "      <th>7613</th>\n",
       "      <td>0</td>\n",
       "      <td>0</td>\n",
       "      <td>1</td>\n",
       "    </tr>\n",
       "    <tr>\n",
       "      <th>35220</th>\n",
       "      <td>0</td>\n",
       "      <td>0</td>\n",
       "      <td>1</td>\n",
       "    </tr>\n",
       "  </tbody>\n",
       "</table>\n",
       "</div>"
      ],
      "text/plain": [
       "       admin  not_cap  primary\n",
       "48827      0        0        1\n",
       "46926      0        1        0\n",
       "6919       0        0        1\n",
       "7613       0        0        1\n",
       "35220      0        0        1"
      ]
     },
     "execution_count": 76,
     "metadata": {},
     "output_type": "execute_result"
    }
   ],
   "source": [
    "cities_capital = pd.get_dummies(cities_pop.capital)\n",
    "cities_pop.drop(['capital'], axis = 1, inplace = True)\n",
    "\n",
    "cities_capital.sample(5)"
   ]
  },
  {
   "cell_type": "code",
   "execution_count": 77,
   "metadata": {},
   "outputs": [
    {
     "name": "stdout",
     "output_type": "stream",
     "text": [
      "<class 'pandas.core.frame.DataFrame'>\n",
      "Int64Index: 50000 entries, 0 to 49999\n",
      "Data columns (total 1 columns):\n",
      "country    50000 non-null object\n",
      "dtypes: object(1)\n",
      "memory usage: 781.2+ KB\n"
     ]
    }
   ],
   "source": [
    "# добавим дамми признаки для стран\n",
    "countries = data.loc[:,['City']].merge(cities_country, how = 'left', on = 'City')\n",
    "\n",
    "countries.drop(['City'], axis = 1, inplace = True)\n",
    "countries.info()"
   ]
  },
  {
   "cell_type": "code",
   "execution_count": 78,
   "metadata": {},
   "outputs": [
    {
     "name": "stdout",
     "output_type": "stream",
     "text": [
      "<class 'pandas.core.frame.DataFrame'>\n",
      "Int64Index: 50000 entries, 0 to 49999\n",
      "Data columns (total 22 columns):\n",
      "country_AT    50000 non-null uint8\n",
      "country_BE    50000 non-null uint8\n",
      "country_CH    50000 non-null uint8\n",
      "country_CZ    50000 non-null uint8\n",
      "country_DE    50000 non-null uint8\n",
      "country_DK    50000 non-null uint8\n",
      "country_ES    50000 non-null uint8\n",
      "country_FI    50000 non-null uint8\n",
      "country_FR    50000 non-null uint8\n",
      "country_GB    50000 non-null uint8\n",
      "country_GR    50000 non-null uint8\n",
      "country_HU    50000 non-null uint8\n",
      "country_IE    50000 non-null uint8\n",
      "country_IT    50000 non-null uint8\n",
      "country_LU    50000 non-null uint8\n",
      "country_NL    50000 non-null uint8\n",
      "country_NO    50000 non-null uint8\n",
      "country_PL    50000 non-null uint8\n",
      "country_PT    50000 non-null uint8\n",
      "country_SE    50000 non-null uint8\n",
      "country_SI    50000 non-null uint8\n",
      "country_SK    50000 non-null uint8\n",
      "dtypes: uint8(22)\n",
      "memory usage: 1.4 MB\n"
     ]
    }
   ],
   "source": [
    "countries = pd.get_dummies(countries)\n",
    "countries.info()"
   ]
  },
  {
   "cell_type": "code",
   "execution_count": 79,
   "metadata": {},
   "outputs": [
    {
     "name": "stderr",
     "output_type": "stream",
     "text": [
      "[Parallel(n_jobs=-1)]: Using backend ThreadingBackend with 4 concurrent workers.\n",
      "[Parallel(n_jobs=-1)]: Done  42 tasks      | elapsed:    5.5s\n",
      "[Parallel(n_jobs=-1)]: Done 100 out of 100 | elapsed:   12.3s finished\n",
      "[Parallel(n_jobs=4)]: Using backend ThreadingBackend with 4 concurrent workers.\n",
      "[Parallel(n_jobs=4)]: Done  42 tasks      | elapsed:    0.1s\n",
      "[Parallel(n_jobs=4)]: Done 100 out of 100 | elapsed:    0.1s finished\n"
     ]
    },
    {
     "data": {
      "text/plain": [
       "0.1976375"
      ]
     },
     "execution_count": 79,
     "metadata": {},
     "output_type": "execute_result"
    },
    {
     "data": {
      "image/png": "[encoded data removed]",
      "text/plain": [
       "<Figure size 720x720 with 1 Axes>"
      ]
     },
     "metadata": {
      "needs_background": "light"
     },
     "output_type": "display_data"
    }
   ],
   "source": [
    "df_preproc = pd.concat([data.loc[:,['Rating', 'sample']], \\\n",
    "                        number_rew, number_rew_nan, norm_rank, mean_rews, places_counts, \\\n",
    "                        cities, prices, price_isnan, \\\n",
    "                        cuisine_counts, cuisine_style_df, \\\n",
    "                        rew_delta, rew_delta_cur,rew_delta_isnan, \\\n",
    "                        cities_pop, cities_capital, countries], axis = 1)\n",
    "model_func(df_preproc)"
   ]
  },
  {
   "cell_type": "markdown",
   "metadata": {},
   "source": [
    "### 3.6. Количество туристов"
   ]
  },
  {
   "cell_type": "code",
   "execution_count": 80,
   "metadata": {},
   "outputs": [
    {
     "name": "stdout",
     "output_type": "stream",
     "text": [
      "<class 'pandas.core.frame.DataFrame'>\n",
      "Int64Index: 31 entries, 0 to 30\n",
      "Data columns (total 3 columns):\n",
      "City          31 non-null object\n",
      "capital       31 non-null object\n",
      "population    31 non-null float64\n",
      "dtypes: float64(1), object(2)\n",
      "memory usage: 2.2+ KB\n"
     ]
    }
   ],
   "source": [
    "cities_info.info()"
   ]
  },
  {
   "cell_type": "code",
   "execution_count": 81,
   "metadata": {},
   "outputs": [
    {
     "data": {
      "text/plain": [
       "0         London\n",
       "1          Paris\n",
       "2         Madrid\n",
       "3      Barcelona\n",
       "4         Berlin\n",
       "5          Milan\n",
       "6           Rome\n",
       "7         Prague\n",
       "8         Lisbon\n",
       "9         Vienna\n",
       "10     Amsterdam\n",
       "11      Brussels\n",
       "12       Hamburg\n",
       "13        Munich\n",
       "14          Lyon\n",
       "15     Stockholm\n",
       "16      Budapest\n",
       "17        Warsaw\n",
       "18        Dublin\n",
       "19    Copenhagen\n",
       "20        Athens\n",
       "21     Edinburgh\n",
       "22        Zurich\n",
       "23        Oporto\n",
       "24        Geneva\n",
       "25        Krakow\n",
       "26          Oslo\n",
       "27      Helsinki\n",
       "28    Bratislava\n",
       "29    Luxembourg\n",
       "30     Ljubljana\n",
       "Name: City, dtype: object"
      ]
     },
     "execution_count": 81,
     "metadata": {},
     "output_type": "execute_result"
    }
   ],
   "source": [
    "cities_info['City']"
   ]
  },
  {
   "cell_type": "code",
   "execution_count": 82,
   "metadata": {},
   "outputs": [],
   "source": [
    "# заведем словарь для гоордов с новыми данными [кол-во тыс. туристов, место в рейтенге благосостояния] по данным из wiki\n",
    "th = {\n",
    "    'London' : [19233, 14],\n",
    "    'Paris' : [17560, 18],\n",
    "    'Madrid' : [5440, 19],\n",
    "    'Barcelona' : [6714, 19],\n",
    "    'Berlin' : [5959, 15],\n",
    "    'Milan' : [6481, 24],\n",
    "    'Rome' : [10065, 24],\n",
    "    'Prague' : [8949, 22],\n",
    "    'Lisbon' : [3539, 29],\n",
    "    'Vienna' : [6410, 2],\n",
    "    'Amsterdam' : [8354, 7],\n",
    "    'Brussels' : [3942, 13],\n",
    "    'Hamburg' : [1450, 15],\n",
    "    'Munich' : [4067, 15],\n",
    "    'Lyon' : [6000, 18],\n",
    "    'Stockholm' : [2605, 8],\n",
    "    'Budapest' : [3823, 31],\n",
    "    'Warsaw' : [2850, 27],\n",
    "    'Dublin' : [5213, 16],\n",
    "    'Copenhagen' : [3070, 5],\n",
    "    'Athens' : [5728, 36],\n",
    "    'Edinburgh' : [1660, 14],\n",
    "    'Zurich' : [2240, 6],\n",
    "    'Oporto' : [2341, 29],\n",
    "    'Geneva' : [1150, 6],\n",
    "    'Krakow' : [2732, 27],\n",
    "    'Oslo' : [1400, 1],\n",
    "    'Helsinki' : [1240, 9],\n",
    "    'Bratislava' : [126, 26],\n",
    "    'Luxembourg' : [1139, 11],\n",
    "    'Ljubljana' : [5900, 20]\n",
    "}"
   ]
  },
  {
   "cell_type": "code",
   "execution_count": 83,
   "metadata": {},
   "outputs": [
    {
     "data": {
      "text/plain": [
       "0        18\n",
       "1         9\n",
       "2        14\n",
       "3        14\n",
       "4        26\n",
       "         ..\n",
       "49995    24\n",
       "49996    18\n",
       "49997     8\n",
       "49998    27\n",
       "49999    24\n",
       "Name: hapiness, Length: 50000, dtype: int64"
      ]
     },
     "execution_count": 83,
     "metadata": {},
     "output_type": "execute_result"
    }
   ],
   "source": [
    "tourists = data.City.apply(lambda x : th[x][0])\n",
    "tourists.name = 'tourists'\n",
    "\n",
    "hapiness = data.City.apply(lambda x : th[x][1])\n",
    "hapiness.name = 'hapiness'\n",
    "\n",
    "tourists\n",
    "hapiness"
   ]
  },
  {
   "cell_type": "code",
   "execution_count": 84,
   "metadata": {},
   "outputs": [
    {
     "name": "stderr",
     "output_type": "stream",
     "text": [
      "[Parallel(n_jobs=-1)]: Using backend ThreadingBackend with 4 concurrent workers.\n",
      "[Parallel(n_jobs=-1)]: Done  42 tasks      | elapsed:    5.8s\n",
      "[Parallel(n_jobs=-1)]: Done 100 out of 100 | elapsed:   13.5s finished\n",
      "[Parallel(n_jobs=4)]: Using backend ThreadingBackend with 4 concurrent workers.\n",
      "[Parallel(n_jobs=4)]: Done  42 tasks      | elapsed:    0.0s\n",
      "[Parallel(n_jobs=4)]: Done 100 out of 100 | elapsed:    0.1s finished\n"
     ]
    },
    {
     "data": {
      "text/plain": [
       "0.19719624999999996"
      ]
     },
     "execution_count": 84,
     "metadata": {},
     "output_type": "execute_result"
    },
    {
     "data": {
      "image/png": "[encoded data removed]",
      "text/plain": [
       "<Figure size 720x720 with 1 Axes>"
      ]
     },
     "metadata": {
      "needs_background": "light"
     },
     "output_type": "display_data"
    }
   ],
   "source": [
    "df_preproc = pd.concat([data.loc[:,['Rating', 'sample']], \\\n",
    "                        number_rew, number_rew_nan, norm_rank, mean_rews, places_counts, \\\n",
    "                        cities, prices, price_isnan, \\\n",
    "                        cuisine_counts, cuisine_style_df, \\\n",
    "                        rew_delta, rew_delta_cur,rew_delta_isnan, \\\n",
    "                        cities_pop, cities_capital, countries, \\\n",
    "                        tourists, hapiness], axis = 1)\n",
    "model_func(df_preproc)"
   ]
  },
  {
   "cell_type": "markdown",
   "metadata": {},
   "source": [
    "### 3.7. Построим на основе текстов обзоров новые признаки"
   ]
  },
  {
   "cell_type": "code",
   "execution_count": 85,
   "metadata": {},
   "outputs": [
    {
     "data": {
      "text/html": [
       "<div>\n",
       "<style scoped>\n",
       "    .dataframe tbody tr th:only-of-type {\n",
       "        vertical-align: middle;\n",
       "    }\n",
       "\n",
       "    .dataframe tbody tr th {\n",
       "        vertical-align: top;\n",
       "    }\n",
       "\n",
       "    .dataframe thead th {\n",
       "        text-align: right;\n",
       "    }\n",
       "</style>\n",
       "<table border=\"1\" class=\"dataframe\">\n",
       "  <thead>\n",
       "    <tr style=\"text-align: right;\">\n",
       "      <th></th>\n",
       "      <th>Reviews</th>\n",
       "      <th>rew_texts</th>\n",
       "      <th>first_text</th>\n",
       "      <th>second_text</th>\n",
       "    </tr>\n",
       "  </thead>\n",
       "  <tbody>\n",
       "    <tr>\n",
       "      <th>11567</th>\n",
       "      <td>[['Something fishy🐟🐠', 'Bistro in middle of Sh...</td>\n",
       "      <td>'Something fishy🐟🐠', 'Bistro in middle of Shop...</td>\n",
       "      <td>Something fishy🐟🐠</td>\n",
       "      <td>Bistro in middle of Shopping Mall</td>\n",
       "    </tr>\n",
       "    <tr>\n",
       "      <th>41640</th>\n",
       "      <td>[['Excellent food', 'Hidden gem in north londo...</td>\n",
       "      <td>'Excellent food', 'Hidden gem in north london ...</td>\n",
       "      <td>Excellent food</td>\n",
       "      <td>Hidden gem in north london food is amazing...</td>\n",
       "    </tr>\n",
       "    <tr>\n",
       "      <th>20459</th>\n",
       "      <td>[['Caters to Large Groups', 'Enjoyable'], ['10...</td>\n",
       "      <td>'Caters to Large Groups', 'Enjoyable'</td>\n",
       "      <td>Caters to Large Groups</td>\n",
       "      <td>Enjoyable</td>\n",
       "    </tr>\n",
       "    <tr>\n",
       "      <th>15041</th>\n",
       "      <td>[['Soup for you', 'When our canteen fails, we ...</td>\n",
       "      <td>'Soup for you', 'When our canteen fails, we go...</td>\n",
       "      <td>Soup for you</td>\n",
       "      <td>When our canteen fails, we go here</td>\n",
       "    </tr>\n",
       "    <tr>\n",
       "      <th>6885</th>\n",
       "      <td>[['Dreadful Service, okay food', 'NIce Breakfa...</td>\n",
       "      <td>'Dreadful Service, okay food', 'NIce Breakfast...</td>\n",
       "      <td>Dreadful Service, okay food</td>\n",
       "      <td>NIce Breakfast, but limited options</td>\n",
       "    </tr>\n",
       "  </tbody>\n",
       "</table>\n",
       "</div>"
      ],
      "text/plain": [
       "                                                 Reviews  \\\n",
       "11567  [['Something fishy🐟🐠', 'Bistro in middle of Sh...   \n",
       "41640  [['Excellent food', 'Hidden gem in north londo...   \n",
       "20459  [['Caters to Large Groups', 'Enjoyable'], ['10...   \n",
       "15041  [['Soup for you', 'When our canteen fails, we ...   \n",
       "6885   [['Dreadful Service, okay food', 'NIce Breakfa...   \n",
       "\n",
       "                                               rew_texts  \\\n",
       "11567  'Something fishy🐟🐠', 'Bistro in middle of Shop...   \n",
       "41640  'Excellent food', 'Hidden gem in north london ...   \n",
       "20459              'Caters to Large Groups', 'Enjoyable'   \n",
       "15041  'Soup for you', 'When our canteen fails, we go...   \n",
       "6885   'Dreadful Service, okay food', 'NIce Breakfast...   \n",
       "\n",
       "                        first_text  \\\n",
       "11567            Something fishy🐟🐠   \n",
       "41640               Excellent food   \n",
       "20459       Caters to Large Groups   \n",
       "15041                 Soup for you   \n",
       "6885   Dreadful Service, okay food   \n",
       "\n",
       "                                         second_text  \n",
       "11567              Bistro in middle of Shopping Mall  \n",
       "41640  Hidden gem in north london food is amazing...  \n",
       "20459                                      Enjoyable  \n",
       "15041             When our canteen fails, we go here  \n",
       "6885             NIce Breakfast, but limited options  "
      ]
     },
     "execution_count": 85,
     "metadata": {},
     "output_type": "execute_result"
    }
   ],
   "source": [
    "# выделим текст обзоров для последующего анализа.\n",
    "data['rew_texts'] = data.Reviews.apply(lambda x : '' if pd.isna(x) else x[2:-2].split('], [')[0])\n",
    "\n",
    "rew_texts_list = data['rew_texts'].apply(lambda x : [''] if x == '' else x.split(\"', '\"))\n",
    "\n",
    "data['first_text'] = rew_texts_list.apply(lambda x : x[0][1:-1] if len(x) == 1 else x[0][1:] if len(x) == 2 else '')\n",
    "data['second_text'] = rew_texts_list.apply(lambda x: x[1][:-1] if len(x) == 2 else '')\n",
    "\n",
    "data.loc[:,['Reviews', 'rew_texts', 'first_text', 'second_text']].sample(5)"
   ]
  },
  {
   "cell_type": "code",
   "execution_count": 86,
   "metadata": {},
   "outputs": [
    {
     "data": {
      "text/html": [
       "<div>\n",
       "<style scoped>\n",
       "    .dataframe tbody tr th:only-of-type {\n",
       "        vertical-align: middle;\n",
       "    }\n",
       "\n",
       "    .dataframe tbody tr th {\n",
       "        vertical-align: top;\n",
       "    }\n",
       "\n",
       "    .dataframe thead th {\n",
       "        text-align: right;\n",
       "    }\n",
       "</style>\n",
       "<table border=\"1\" class=\"dataframe\">\n",
       "  <thead>\n",
       "    <tr style=\"text-align: right;\">\n",
       "      <th></th>\n",
       "      <th>rew_counts</th>\n",
       "      <th>rew_texts</th>\n",
       "    </tr>\n",
       "  </thead>\n",
       "  <tbody>\n",
       "    <tr>\n",
       "      <th>0</th>\n",
       "      <td>0</td>\n",
       "      <td></td>\n",
       "    </tr>\n",
       "    <tr>\n",
       "      <th>1</th>\n",
       "      <td>2</td>\n",
       "      <td>'Very good reviews!', 'Fine dining in Hakaniemi'</td>\n",
       "    </tr>\n",
       "    <tr>\n",
       "      <th>2</th>\n",
       "      <td>2</td>\n",
       "      <td>'Better than the Links', 'Ivy Black'</td>\n",
       "    </tr>\n",
       "    <tr>\n",
       "      <th>3</th>\n",
       "      <td>2</td>\n",
       "      <td>'Most exquisite', 'Delicious and authentic'</td>\n",
       "    </tr>\n",
       "    <tr>\n",
       "      <th>4</th>\n",
       "      <td>2</td>\n",
       "      <td>'Always the best in bratislava', 'Very good bu...</td>\n",
       "    </tr>\n",
       "    <tr>\n",
       "      <th>...</th>\n",
       "      <td>...</td>\n",
       "      <td>...</td>\n",
       "    </tr>\n",
       "    <tr>\n",
       "      <th>49995</th>\n",
       "      <td>2</td>\n",
       "      <td>'The real Italian experience!', 'Wonderful foo...</td>\n",
       "    </tr>\n",
       "    <tr>\n",
       "      <th>49996</th>\n",
       "      <td>2</td>\n",
       "      <td>'Parisian atmosphere', 'Bit pricey but interes...</td>\n",
       "    </tr>\n",
       "    <tr>\n",
       "      <th>49997</th>\n",
       "      <td>2</td>\n",
       "      <td>'Good by swedish standards', 'A hidden jewel i...</td>\n",
       "    </tr>\n",
       "    <tr>\n",
       "      <th>49998</th>\n",
       "      <td>2</td>\n",
       "      <td>'Underground restaurant', 'Oldest Restaurant i...</td>\n",
       "    </tr>\n",
       "    <tr>\n",
       "      <th>49999</th>\n",
       "      <td>2</td>\n",
       "      <td>'Average', 'Nice an informal'</td>\n",
       "    </tr>\n",
       "  </tbody>\n",
       "</table>\n",
       "<p>50000 rows × 2 columns</p>\n",
       "</div>"
      ],
      "text/plain": [
       "       rew_counts                                          rew_texts\n",
       "0               0                                                   \n",
       "1               2   'Very good reviews!', 'Fine dining in Hakaniemi'\n",
       "2               2               'Better than the Links', 'Ivy Black'\n",
       "3               2        'Most exquisite', 'Delicious and authentic'\n",
       "4               2  'Always the best in bratislava', 'Very good bu...\n",
       "...           ...                                                ...\n",
       "49995           2  'The real Italian experience!', 'Wonderful foo...\n",
       "49996           2  'Parisian atmosphere', 'Bit pricey but interes...\n",
       "49997           2  'Good by swedish standards', 'A hidden jewel i...\n",
       "49998           2  'Underground restaurant', 'Oldest Restaurant i...\n",
       "49999           2                      'Average', 'Nice an informal'\n",
       "\n",
       "[50000 rows x 2 columns]"
      ]
     },
     "execution_count": 86,
     "metadata": {},
     "output_type": "execute_result"
    }
   ],
   "source": [
    "def rew_counts_func(row):\n",
    "    result = 0 if row['rew_texts'] == ''  else 1 if row['second_text'] == '' else 2\n",
    "    return result\n",
    "    \n",
    "rew_counts = data.apply(rew_counts_func, axis = 1)\n",
    "rew_counts.name = 'rew_counts'\n",
    "\n",
    "pd.concat([rew_counts, data['rew_texts']], axis = 1)"
   ]
  },
  {
   "cell_type": "code",
   "execution_count": 87,
   "metadata": {},
   "outputs": [
    {
     "data": {
      "text/plain": [
       "2    34787\n",
       "0     8114\n",
       "1     7099\n",
       "Name: rew_counts, dtype: int64"
      ]
     },
     "execution_count": 87,
     "metadata": {},
     "output_type": "execute_result"
    }
   ],
   "source": [
    "rew_counts.value_counts()"
   ]
  },
  {
   "cell_type": "code",
   "execution_count": 88,
   "metadata": {},
   "outputs": [
    {
     "data": {
      "text/html": [
       "<div>\n",
       "<style scoped>\n",
       "    .dataframe tbody tr th:only-of-type {\n",
       "        vertical-align: middle;\n",
       "    }\n",
       "\n",
       "    .dataframe tbody tr th {\n",
       "        vertical-align: top;\n",
       "    }\n",
       "\n",
       "    .dataframe thead th {\n",
       "        text-align: right;\n",
       "    }\n",
       "</style>\n",
       "<table border=\"1\" class=\"dataframe\">\n",
       "  <thead>\n",
       "    <tr style=\"text-align: right;\">\n",
       "      <th></th>\n",
       "      <th>rew_counts</th>\n",
       "      <th>rew_texts</th>\n",
       "      <th>words_count</th>\n",
       "    </tr>\n",
       "  </thead>\n",
       "  <tbody>\n",
       "    <tr>\n",
       "      <th>0</th>\n",
       "      <td>0</td>\n",
       "      <td></td>\n",
       "      <td>0</td>\n",
       "    </tr>\n",
       "    <tr>\n",
       "      <th>1</th>\n",
       "      <td>2</td>\n",
       "      <td>'Very good reviews!', 'Fine dining in Hakaniemi'</td>\n",
       "      <td>7</td>\n",
       "    </tr>\n",
       "    <tr>\n",
       "      <th>2</th>\n",
       "      <td>2</td>\n",
       "      <td>'Better than the Links', 'Ivy Black'</td>\n",
       "      <td>6</td>\n",
       "    </tr>\n",
       "    <tr>\n",
       "      <th>3</th>\n",
       "      <td>2</td>\n",
       "      <td>'Most exquisite', 'Delicious and authentic'</td>\n",
       "      <td>5</td>\n",
       "    </tr>\n",
       "    <tr>\n",
       "      <th>4</th>\n",
       "      <td>2</td>\n",
       "      <td>'Always the best in bratislava', 'Very good bu...</td>\n",
       "      <td>9</td>\n",
       "    </tr>\n",
       "    <tr>\n",
       "      <th>...</th>\n",
       "      <td>...</td>\n",
       "      <td>...</td>\n",
       "      <td>...</td>\n",
       "    </tr>\n",
       "    <tr>\n",
       "      <th>49995</th>\n",
       "      <td>2</td>\n",
       "      <td>'The real Italian experience!', 'Wonderful foo...</td>\n",
       "      <td>8</td>\n",
       "    </tr>\n",
       "    <tr>\n",
       "      <th>49996</th>\n",
       "      <td>2</td>\n",
       "      <td>'Parisian atmosphere', 'Bit pricey but interes...</td>\n",
       "      <td>9</td>\n",
       "    </tr>\n",
       "    <tr>\n",
       "      <th>49997</th>\n",
       "      <td>2</td>\n",
       "      <td>'Good by swedish standards', 'A hidden jewel i...</td>\n",
       "      <td>12</td>\n",
       "    </tr>\n",
       "    <tr>\n",
       "      <th>49998</th>\n",
       "      <td>2</td>\n",
       "      <td>'Underground restaurant', 'Oldest Restaurant i...</td>\n",
       "      <td>6</td>\n",
       "    </tr>\n",
       "    <tr>\n",
       "      <th>49999</th>\n",
       "      <td>2</td>\n",
       "      <td>'Average', 'Nice an informal'</td>\n",
       "      <td>4</td>\n",
       "    </tr>\n",
       "  </tbody>\n",
       "</table>\n",
       "<p>50000 rows × 3 columns</p>\n",
       "</div>"
      ],
      "text/plain": [
       "       rew_counts                                          rew_texts  \\\n",
       "0               0                                                      \n",
       "1               2   'Very good reviews!', 'Fine dining in Hakaniemi'   \n",
       "2               2               'Better than the Links', 'Ivy Black'   \n",
       "3               2        'Most exquisite', 'Delicious and authentic'   \n",
       "4               2  'Always the best in bratislava', 'Very good bu...   \n",
       "...           ...                                                ...   \n",
       "49995           2  'The real Italian experience!', 'Wonderful foo...   \n",
       "49996           2  'Parisian atmosphere', 'Bit pricey but interes...   \n",
       "49997           2  'Good by swedish standards', 'A hidden jewel i...   \n",
       "49998           2  'Underground restaurant', 'Oldest Restaurant i...   \n",
       "49999           2                      'Average', 'Nice an informal'   \n",
       "\n",
       "       words_count  \n",
       "0                0  \n",
       "1                7  \n",
       "2                6  \n",
       "3                5  \n",
       "4                9  \n",
       "...            ...  \n",
       "49995            8  \n",
       "49996            9  \n",
       "49997           12  \n",
       "49998            6  \n",
       "49999            4  \n",
       "\n",
       "[50000 rows x 3 columns]"
      ]
     },
     "execution_count": 88,
     "metadata": {},
     "output_type": "execute_result"
    }
   ],
   "source": [
    "# количество слов в отзывах\n",
    "\n",
    "words_count = data['rew_texts'].apply(lambda x : len(x.split()))\n",
    "\n",
    "words_count.name = 'words_count'\n",
    "pd.concat([rew_counts, data['rew_texts'], words_count], axis = 1)"
   ]
  },
  {
   "cell_type": "code",
   "execution_count": 89,
   "metadata": {},
   "outputs": [
    {
     "name": "stderr",
     "output_type": "stream",
     "text": [
      "[Parallel(n_jobs=-1)]: Using backend ThreadingBackend with 4 concurrent workers.\n",
      "[Parallel(n_jobs=-1)]: Done  42 tasks      | elapsed:    5.9s\n",
      "[Parallel(n_jobs=-1)]: Done 100 out of 100 | elapsed:   13.4s finished\n",
      "[Parallel(n_jobs=4)]: Using backend ThreadingBackend with 4 concurrent workers.\n",
      "[Parallel(n_jobs=4)]: Done  42 tasks      | elapsed:    0.0s\n",
      "[Parallel(n_jobs=4)]: Done 100 out of 100 | elapsed:    0.1s finished\n"
     ]
    },
    {
     "data": {
      "text/plain": [
       "0.1968725"
      ]
     },
     "execution_count": 89,
     "metadata": {},
     "output_type": "execute_result"
    },
    {
     "data": {
      "image/png": "[encoded data removed]",
      "text/plain": [
       "<Figure size 720x720 with 1 Axes>"
      ]
     },
     "metadata": {
      "needs_background": "light"
     },
     "output_type": "display_data"
    }
   ],
   "source": [
    "df_preproc = pd.concat([data.loc[:,['Rating', 'sample']], \\\n",
    "                        number_rew, number_rew_nan, norm_rank, mean_rews, places_counts, \\\n",
    "                        cities, prices, price_isnan, \\\n",
    "                        cuisine_counts, cuisine_style_df, \\\n",
    "                        rew_delta, rew_delta_cur,rew_delta_isnan, \\\n",
    "                        cities_pop, cities_capital, countries, \\\n",
    "                        tourists, hapiness, \\\n",
    "                        rew_counts], axis = 1)\n",
    "model_func(df_preproc)"
   ]
  },
  {
   "cell_type": "markdown",
   "metadata": {},
   "source": [
    "Количество слов модель ухудшило. А количество отзывов - наоборот. Оставим признак rew_counts"
   ]
  },
  {
   "cell_type": "markdown",
   "metadata": {},
   "source": [
    "### 3.8. На основе признаков population, tourists и Number of Reviews построим новые признаки"
   ]
  },
  {
   "cell_type": "code",
   "execution_count": 90,
   "metadata": {},
   "outputs": [
    {
     "data": {
      "image/png": "[encoded data removed]",
      "text/plain": [
       "<Figure size 720x360 with 2 Axes>"
      ]
     },
     "metadata": {
      "needs_background": "light"
     },
     "output_type": "display_data"
    }
   ],
   "source": [
    "# посмотрим на корреляцию признаков\n",
    "\n",
    "X = pd.concat([number_rew, cities_pop, tourists, data['Rating']], axis = 1)\n",
    "\n",
    "fig, ax = plt.subplots(1,1, figsize = (10,5))\n",
    "ax = sns.heatmap(X.corr(),annot = True, cmap = 'coolwarm')"
   ]
  },
  {
   "cell_type": "markdown",
   "metadata": {},
   "source": [
    "Количество туристов и население города очень сильно положительно скоррелированы.\n",
    "Попробуем использовать главную компоненту вместо этого признака.\n",
    "Сначала нормируем признаки."
   ]
  },
  {
   "cell_type": "code",
   "execution_count": 91,
   "metadata": {},
   "outputs": [],
   "source": [
    "ss = StandardScaler()\n",
    "cities_pop_std = pd.DataFrame(ss.fit_transform(cities_pop))\n",
    "tourists_std = pd.DataFrame(ss.transform(pd.DataFrame(tourists)))\n",
    "\n",
    "pd.concat([cities_pop_std,tourists_std], axis = 1).corr()\n",
    "\n",
    "pop_tourists = cities_pop_std + tourists_std\n",
    "pop_tourists = pd.DataFrame(ss.fit_transform(pop_tourists))\n",
    "\n",
    "pop_tourists.name = 'pop_tourists'"
   ]
  },
  {
   "cell_type": "code",
   "execution_count": 92,
   "metadata": {},
   "outputs": [
    {
     "name": "stderr",
     "output_type": "stream",
     "text": [
      "[Parallel(n_jobs=-1)]: Using backend ThreadingBackend with 4 concurrent workers.\n",
      "[Parallel(n_jobs=-1)]: Done  42 tasks      | elapsed:    6.0s\n",
      "[Parallel(n_jobs=-1)]: Done 100 out of 100 | elapsed:   13.3s finished\n",
      "[Parallel(n_jobs=4)]: Using backend ThreadingBackend with 4 concurrent workers.\n",
      "[Parallel(n_jobs=4)]: Done  42 tasks      | elapsed:    0.0s\n",
      "[Parallel(n_jobs=4)]: Done 100 out of 100 | elapsed:    0.1s finished\n"
     ]
    },
    {
     "data": {
      "text/plain": [
       "0.1976025"
      ]
     },
     "execution_count": 92,
     "metadata": {},
     "output_type": "execute_result"
    },
    {
     "data": {
      "image/png": "[encoded data removed]",
      "text/plain": [
       "<Figure size 720x720 with 1 Axes>"
      ]
     },
     "metadata": {
      "needs_background": "light"
     },
     "output_type": "display_data"
    }
   ],
   "source": [
    "df_preproc = pd.concat([data.loc[:,['Rating', 'sample']], \\\n",
    "                        number_rew, number_rew_nan, norm_rank, mean_rews, places_counts, \\\n",
    "                        cities, prices, price_isnan, \\\n",
    "                        cuisine_counts, cuisine_style_df, \\\n",
    "                        rew_delta, rew_delta_cur,rew_delta_isnan, \\\n",
    "                        cities_capital, countries, \\\n",
    "                        hapiness, \\\n",
    "                        rew_counts, \\\n",
    "                        pop_tourists], axis = 1)\n",
    "model_func(df_preproc)"
   ]
  },
  {
   "cell_type": "markdown",
   "metadata": {},
   "source": [
    "Эксперимент показал, что новый признак модель не улучшил. Оставим в модели признаки население города и количество туристов"
   ]
  },
  {
   "cell_type": "markdown",
   "metadata": {},
   "source": [
    "# Final model test"
   ]
  },
  {
   "cell_type": "code",
   "execution_count": 93,
   "metadata": {},
   "outputs": [
    {
     "name": "stderr",
     "output_type": "stream",
     "text": [
      "[Parallel(n_jobs=-1)]: Using backend ThreadingBackend with 4 concurrent workers.\n",
      "[Parallel(n_jobs=-1)]: Done  42 tasks      | elapsed:    6.3s\n",
      "[Parallel(n_jobs=-1)]: Done 100 out of 100 | elapsed:   13.9s finished\n",
      "[Parallel(n_jobs=4)]: Using backend ThreadingBackend with 4 concurrent workers.\n",
      "[Parallel(n_jobs=4)]: Done  42 tasks      | elapsed:    0.0s\n",
      "[Parallel(n_jobs=4)]: Done 100 out of 100 | elapsed:    0.1s finished\n"
     ]
    },
    {
     "data": {
      "text/plain": [
       "0.1968725"
      ]
     },
     "execution_count": 93,
     "metadata": {},
     "output_type": "execute_result"
    },
    {
     "data": {
      "image/png": "[encoded data removed]",
      "text/plain": [
       "<Figure size 720x720 with 1 Axes>"
      ]
     },
     "metadata": {
      "needs_background": "light"
     },
     "output_type": "display_data"
    }
   ],
   "source": [
    "df_preproc = pd.concat([data.loc[:,['Rating', 'sample']], \\\n",
    "                        number_rew, number_rew_nan, norm_rank, mean_rews, places_counts, \\\n",
    "                        cities, prices, price_isnan, \\\n",
    "                        cuisine_counts, cuisine_style_df, \\\n",
    "                        rew_delta, rew_delta_cur,rew_delta_isnan, \\\n",
    "                        cities_pop, cities_capital, countries, \\\n",
    "                        tourists, hapiness, \\\n",
    "                        rew_counts], axis = 1)\n",
    "model_func(df_preproc)"
   ]
  },
  {
   "cell_type": "markdown",
   "metadata": {},
   "source": [
    "# Submission\n",
    "готовим Submission на кагл"
   ]
  },
  {
   "cell_type": "code",
   "execution_count": 94,
   "metadata": {},
   "outputs": [
    {
     "name": "stderr",
     "output_type": "stream",
     "text": [
      "[Parallel(n_jobs=-1)]: Using backend ThreadingBackend with 4 concurrent workers.\n",
      "[Parallel(n_jobs=-1)]: Done  42 tasks      | elapsed:    6.1s\n",
      "[Parallel(n_jobs=-1)]: Done 100 out of 100 | elapsed:   14.7s finished\n",
      "[Parallel(n_jobs=4)]: Using backend ThreadingBackend with 4 concurrent workers.\n",
      "[Parallel(n_jobs=4)]: Done  42 tasks      | elapsed:    0.0s\n",
      "[Parallel(n_jobs=4)]: Done 100 out of 100 | elapsed:    0.1s finished\n"
     ]
    },
    {
     "name": "stdout",
     "output_type": "stream",
     "text": [
      "MAE:  0.1656875\n"
     ]
    },
    {
     "data": {
      "text/plain": [
       "<matplotlib.axes._subplots.AxesSubplot at 0x7f5c526d52e8>"
      ]
     },
     "execution_count": 94,
     "metadata": {},
     "output_type": "execute_result"
    },
    {
     "data": {
      "image/png": "[encoded data removed]",
      "text/plain": [
       "<Figure size 720x720 with 1 Axes>"
      ]
     },
     "metadata": {
      "needs_background": "light"
     },
     "output_type": "display_data"
    }
   ],
   "source": [
    "# выделим тестовую часть\n",
    "train_data = df_preproc.query('sample == 1').drop(['sample'], axis=1)\n",
    "test_data = df_preproc.query('sample == 0').drop(['sample'], axis=1)\n",
    "\n",
    "y = train_data.Rating.values            # наш таргет\n",
    "X = train_data.drop(['Rating'], axis=1)\n",
    "    \n",
    "RANDOM_SEED = 42\n",
    "    \n",
    "# Воспользуемся специальной функцие train_test_split для разбивки тестовых данных\n",
    "# выделим 20% данных на валидацию (параметр test_size)\n",
    "X_train, X_test, y_train, y_test = train_test_split(X, y, test_size=0.2, random_state=RANDOM_SEED)\n",
    "\n",
    "# Создаём модель (НАСТРОЙКИ НЕ ТРОГАЕМ)\n",
    "model = RandomForestRegressor(n_estimators=100, verbose=1, n_jobs=-1, random_state=RANDOM_SEED)\n",
    "    \n",
    "# Обучаем модель на тестовом наборе данных\n",
    "model.fit(X_train, y_train)\n",
    "\n",
    "# Используем обученную модель для предсказания рейтинга ресторанов в тестовой выборке.\n",
    "# Предсказанные значения записываем в переменную y_pred\n",
    "y_pred = model.predict(X_test)\n",
    "\n",
    "y_pred = np.round(y_pred * 2) / 2\n",
    "print('MAE: ',metrics.mean_absolute_error(y_test, y_pred))\n",
    "    \n",
    "# в RandomForestRegressor есть возможность вывести самые важные признаки для модели\n",
    "plt.rcParams['figure.figsize'] = (10,10)\n",
    "feat_importances = pd.Series(model.feature_importances_, index=X.columns)\n",
    "feat_importances.nlargest(15).plot(kind='barh')"
   ]
  },
  {
   "cell_type": "code",
   "execution_count": 95,
   "metadata": {},
   "outputs": [
    {
     "data": {
      "text/plain": [
       "0       2.0\n",
       "1       2.5\n",
       "2       4.0\n",
       "3       1.0\n",
       "4       4.0\n",
       "       ... \n",
       "9995    3.0\n",
       "9996    1.5\n",
       "9997    4.5\n",
       "9998    1.0\n",
       "9999    2.5\n",
       "Name: Rating, Length: 10000, dtype: float64"
      ]
     },
     "execution_count": 95,
     "metadata": {},
     "output_type": "execute_result"
    }
   ],
   "source": [
    "test_data = test_data.drop(['Rating'], axis=1)\n",
    "sample_submission.Rating"
   ]
  },
  {
   "cell_type": "markdown",
   "metadata": {},
   "source": [
    "Обратила внимание, что Rating в датасете - заполняет значения от 1 до 5 с шагом 0.5. Поэтому, если округлить предсказание до ближайшеего x.5 числа, то предсказание улучшится."
   ]
  },
  {
   "cell_type": "code",
   "execution_count": 96,
   "metadata": {},
   "outputs": [
    {
     "name": "stderr",
     "output_type": "stream",
     "text": [
      "[Parallel(n_jobs=4)]: Using backend ThreadingBackend with 4 concurrent workers.\n",
      "[Parallel(n_jobs=4)]: Done  42 tasks      | elapsed:    0.1s\n",
      "[Parallel(n_jobs=4)]: Done 100 out of 100 | elapsed:    0.1s finished\n"
     ]
    }
   ],
   "source": [
    "predict_submission = model.predict(test_data)"
   ]
  },
  {
   "cell_type": "code",
   "execution_count": 97,
   "metadata": {},
   "outputs": [],
   "source": [
    "predict_submission = np.round(predict_submission * 2)/2"
   ]
  },
  {
   "cell_type": "code",
   "execution_count": 98,
   "metadata": {},
   "outputs": [
    {
     "data": {
      "text/html": [
       "<div>\n",
       "<style scoped>\n",
       "    .dataframe tbody tr th:only-of-type {\n",
       "        vertical-align: middle;\n",
       "    }\n",
       "\n",
       "    .dataframe tbody tr th {\n",
       "        vertical-align: top;\n",
       "    }\n",
       "\n",
       "    .dataframe thead th {\n",
       "        text-align: right;\n",
       "    }\n",
       "</style>\n",
       "<table border=\"1\" class=\"dataframe\">\n",
       "  <thead>\n",
       "    <tr style=\"text-align: right;\">\n",
       "      <th></th>\n",
       "      <th>Restaurant_id</th>\n",
       "      <th>Rating</th>\n",
       "    </tr>\n",
       "  </thead>\n",
       "  <tbody>\n",
       "    <tr>\n",
       "      <th>0</th>\n",
       "      <td>id_0</td>\n",
       "      <td>3.0</td>\n",
       "    </tr>\n",
       "    <tr>\n",
       "      <th>1</th>\n",
       "      <td>id_1</td>\n",
       "      <td>4.0</td>\n",
       "    </tr>\n",
       "    <tr>\n",
       "      <th>2</th>\n",
       "      <td>id_2</td>\n",
       "      <td>4.5</td>\n",
       "    </tr>\n",
       "    <tr>\n",
       "      <th>3</th>\n",
       "      <td>id_3</td>\n",
       "      <td>4.5</td>\n",
       "    </tr>\n",
       "    <tr>\n",
       "      <th>4</th>\n",
       "      <td>id_4</td>\n",
       "      <td>4.5</td>\n",
       "    </tr>\n",
       "    <tr>\n",
       "      <th>...</th>\n",
       "      <td>...</td>\n",
       "      <td>...</td>\n",
       "    </tr>\n",
       "    <tr>\n",
       "      <th>9995</th>\n",
       "      <td>id_9995</td>\n",
       "      <td>4.5</td>\n",
       "    </tr>\n",
       "    <tr>\n",
       "      <th>9996</th>\n",
       "      <td>id_9996</td>\n",
       "      <td>4.0</td>\n",
       "    </tr>\n",
       "    <tr>\n",
       "      <th>9997</th>\n",
       "      <td>id_9997</td>\n",
       "      <td>3.0</td>\n",
       "    </tr>\n",
       "    <tr>\n",
       "      <th>9998</th>\n",
       "      <td>id_9998</td>\n",
       "      <td>4.5</td>\n",
       "    </tr>\n",
       "    <tr>\n",
       "      <th>9999</th>\n",
       "      <td>id_9999</td>\n",
       "      <td>4.5</td>\n",
       "    </tr>\n",
       "  </tbody>\n",
       "</table>\n",
       "<p>10000 rows × 2 columns</p>\n",
       "</div>"
      ],
      "text/plain": [
       "     Restaurant_id  Rating\n",
       "0             id_0     3.0\n",
       "1             id_1     4.0\n",
       "2             id_2     4.5\n",
       "3             id_3     4.5\n",
       "4             id_4     4.5\n",
       "...            ...     ...\n",
       "9995       id_9995     4.5\n",
       "9996       id_9996     4.0\n",
       "9997       id_9997     3.0\n",
       "9998       id_9998     4.5\n",
       "9999       id_9999     4.5\n",
       "\n",
       "[10000 rows x 2 columns]"
      ]
     },
     "execution_count": 98,
     "metadata": {},
     "output_type": "execute_result"
    }
   ],
   "source": [
    "sample_submission['Rating'] = predict_submission\n",
    "sample_submission.to_csv('submission.csv', index=False)\n",
    "sample_submission"
   ]
  },
  {
   "cell_type": "code",
   "execution_count": null,
   "metadata": {},
   "outputs": [],
   "source": []
  }
 ],
 "metadata": {
  "kernelspec": {
   "display_name": "Python 3",
   "language": "python",
   "name": "python3"
  },
  "language_info": {
   "codemirror_mode": {
    "name": "ipython",
    "version": 3
   },
   "file_extension": ".py",
   "mimetype": "text/x-python",
   "name": "python",
   "nbconvert_exporter": "python",
   "pygments_lexer": "ipython3",
   "version": "3.6.6"
  }
 },
 "nbformat": 4,
 "nbformat_minor": 4
}
