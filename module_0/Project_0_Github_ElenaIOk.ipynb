{
 "cells": [
  {
   "cell_type": "code",
   "execution_count": 2,
   "metadata": {},
   "outputs": [
    {
     "name": "stdout",
     "output_type": "stream",
     "text": [
      "Ваш алгоритм угадывает число в среднем за 9 попыток\n"
     ]
    },
    {
     "data": {
      "text/plain": [
       "9"
      ]
     },
     "execution_count": 2,
     "metadata": {},
     "output_type": "execute_result"
    }
   ],
   "source": [
    "import numpy as np\n",
    "number = np.random.randint(1,101)    # загадали число\n",
    "\n",
    "def game_core_dichotomy(number):\n",
    "    '''Ловим льва в пустыне или находим число методом дихотомии последовательно деля отрезок от 1 до 100 пополам.\n",
    "       Функция принимает загаданное число и возвращает число попыток'''\n",
    "    count = 1\n",
    "    predict = 1\n",
    "    last_predict = 0  # переменная для хранения предыдущего значения predict\n",
    "    while number != predict:\n",
    "        count+=1\n",
    "        if number > predict and number > last_predict:\n",
    "            last_predict = predict\n",
    "            predict += int((101-predict)/2) # передвигаем predict на середину отрезка между predict и 100\n",
    "        elif number < predict and number < last_predict:\n",
    "            last_predict = predict\n",
    "            predict -= int(predict/2) # передвигаем predict на середину отрезка между 1 и predict\n",
    "        else:\n",
    "            '''Если же число number оказалось между текущим и предыдущим значениями predict, \n",
    "               то уменьшаем или увеличиваем predict на целочисленную половину длины отрезка от predict до last_predict. \n",
    "               Проверку двигать влево или вправо выполняем с помощью трехместного оператора if'''\n",
    "            predict += int(abs(predict-last_predict)/2) if last_predict > predict  else (-1) * int(abs(predict-last_predict)/2)\n",
    "    return(count) # выход из цикла, если угадали\n",
    "\n",
    "def score_game(game_core):\n",
    "    '''Запускаем игру 1000 раз, чтобы узнать, как быстро игра угадывает число'''\n",
    "    count_ls = []\n",
    "    np.random.seed(1)  # фиксируем RANDOM SEED, чтобы эксперимент был воспроизводим!\n",
    "    random_array = np.random.randint(1,101, size=(1000))\n",
    "    for number in random_array:\n",
    "        count_ls.append(game_core(number))\n",
    "    score = int(np.mean(count_ls))\n",
    "    print(f\"Ваш алгоритм угадывает число в среднем за {score} попыток\")\n",
    "    return(score)\n",
    "\n",
    "score_game(game_core_dichotomy)"
   ]
  },
  {
   "cell_type": "code",
   "execution_count": null,
   "metadata": {},
   "outputs": [],
   "source": []
  },
  {
   "cell_type": "code",
   "execution_count": null,
   "metadata": {},
   "outputs": [],
   "source": []
  },
  {
   "cell_type": "code",
   "execution_count": null,
   "metadata": {},
   "outputs": [],
   "source": []
  }
 ],
 "metadata": {
  "kernelspec": {
   "display_name": "Python 3",
   "language": "python",
   "name": "python3"
  },
  "language_info": {
   "codemirror_mode": {
    "name": "ipython",
    "version": 3
   },
   "file_extension": ".py",
   "mimetype": "text/x-python",
   "name": "python",
   "nbconvert_exporter": "python",
   "pygments_lexer": "ipython3",
   "version": "3.7.6"
  }
 },
 "nbformat": 4,
 "nbformat_minor": 4
}
