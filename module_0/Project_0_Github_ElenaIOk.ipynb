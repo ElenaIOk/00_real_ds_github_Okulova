{
 "cells": [
  {
   "cell_type": "code",
   "execution_count": 2,
   "metadata": {},
   "outputs": [
    {
     "name": "stdout",
     "output_type": "stream",
     "text": [
      "Ваш алгоритм угадывает число в среднем за 7 попыток\n"
     ]
    },
    {
     "data": {
      "text/plain": [
       "7"
      ]
     },
     "execution_count": 2,
     "metadata": {},
     "output_type": "execute_result"
    }
   ],
   "source": [
    "import numpy as np\n",
    "\n",
    "def game_core_dichotomy(number):\n",
    "    '''Ловим льва в пустыне или находим число методом дихотомии последовательно деля отрезок от 1 до 100 пополам.\n",
    "       Функция принимает загаданное число и возвращает число попыток'''\n",
    "    count = 1\n",
    "    predict = 1         \n",
    "    last_predict = 100  # переменная для хранения конца отрезка от predict, который делим пополам\n",
    "    pr = 0              # временная переменная для predict\n",
    "    while number != predict:\n",
    "        count+=1\n",
    "        pr = predict\n",
    "        if last_predict > predict:  \n",
    "            predict += int(abs(predict-last_predict)/2) # если predict меньше last_predict, то увеличиваем predict на половину отрезка\n",
    "            if predict > number:                       \n",
    "                last_predict = pr   # если predict больше number, last_predict передвигаем на предыдущее значение predict\n",
    "        else:\n",
    "            predict -= int(abs(predict-last_predict)/2) # если predict больше last_predict, то уменьшаем predict на половину отрезка\n",
    "            if predict < number:\n",
    "                last_predict = pr  # если predict меньше number, last_predict передвигаем на предыдущее значение predict\n",
    "    return(count) # выход из цикла, если угадали\n",
    "\n",
    "def score_game(game_core):\n",
    "    '''Запускаем игру 1000 раз, чтобы узнать, как быстро игра угадывает число'''\n",
    "    count_ls = []\n",
    "    np.random.seed(1)  # фиксируем RANDOM SEED, чтобы эксперимент был воспроизводим!\n",
    "    random_array = np.random.randint(1,101, size=(10))\n",
    "    for number in random_array:\n",
    "        count_ls.append(game_core(number))\n",
    "    score = int(np.mean(count_ls))\n",
    "    print(f\"Ваш алгоритм угадывает число в среднем за {score} попыток\")\n",
    "    return(score)\n",
    "\n",
    "score_game(game_core_dichotomy)"
   ]
  },
  {
   "cell_type": "code",
   "execution_count": null,
   "metadata": {},
   "outputs": [],
   "source": []
  }
 ],
 "metadata": {
  "kernelspec": {
   "display_name": "Python 3",
   "language": "python",
   "name": "python3"
  },
  "language_info": {
   "codemirror_mode": {
    "name": "ipython",
    "version": 3
   },
   "file_extension": ".py",
   "mimetype": "text/x-python",
   "name": "python",
   "nbconvert_exporter": "python",
   "pygments_lexer": "ipython3",
   "version": "3.7.6"
  }
 },
 "nbformat": 4,
 "nbformat_minor": 4
}
